{
  "nbformat": 4,
  "nbformat_minor": 0,
  "metadata": {
    "colab": {
      "name": "Automated_HyperTuning.ipynb",
      "provenance": [],
      "authorship_tag": "ABX9TyOsEPlKRMeALq/F+AFM0gTT",
      "include_colab_link": true
    },
    "kernelspec": {
      "name": "python3",
      "display_name": "Python 3"
    },
    "language_info": {
      "name": "python"
    },
    "widgets": {
      "application/vnd.jupyter.widget-state+json": {
        "db582b9c3a5640f6a168a8f58e056866": {
          "model_module": "@jupyter-widgets/controls",
          "model_name": "HBoxModel",
          "state": {
            "_view_name": "HBoxView",
            "_dom_classes": [],
            "_model_name": "HBoxModel",
            "_view_module": "@jupyter-widgets/controls",
            "_model_module_version": "1.5.0",
            "_view_count": null,
            "_view_module_version": "1.5.0",
            "box_style": "",
            "layout": "IPY_MODEL_0041ed56d41544a9bc11fc5d64f6c4ac",
            "_model_module": "@jupyter-widgets/controls",
            "children": [
              "IPY_MODEL_0054b665d94648de9bb3dc9fee429126",
              "IPY_MODEL_9f1abcebd559407a816e87bc261e0248"
            ]
          }
        },
        "0041ed56d41544a9bc11fc5d64f6c4ac": {
          "model_module": "@jupyter-widgets/base",
          "model_name": "LayoutModel",
          "state": {
            "_view_name": "LayoutView",
            "grid_template_rows": null,
            "right": null,
            "justify_content": null,
            "_view_module": "@jupyter-widgets/base",
            "overflow": null,
            "_model_module_version": "1.2.0",
            "_view_count": null,
            "flex_flow": null,
            "width": null,
            "min_width": null,
            "border": null,
            "align_items": null,
            "bottom": null,
            "_model_module": "@jupyter-widgets/base",
            "top": null,
            "grid_column": null,
            "overflow_y": null,
            "overflow_x": null,
            "grid_auto_flow": null,
            "grid_area": null,
            "grid_template_columns": null,
            "flex": null,
            "_model_name": "LayoutModel",
            "justify_items": null,
            "grid_row": null,
            "max_height": null,
            "align_content": null,
            "visibility": null,
            "align_self": null,
            "height": null,
            "min_height": null,
            "padding": null,
            "grid_auto_rows": null,
            "grid_gap": null,
            "max_width": null,
            "order": null,
            "_view_module_version": "1.2.0",
            "grid_template_areas": null,
            "object_position": null,
            "object_fit": null,
            "grid_auto_columns": null,
            "margin": null,
            "display": null,
            "left": null
          }
        },
        "0054b665d94648de9bb3dc9fee429126": {
          "model_module": "@jupyter-widgets/controls",
          "model_name": "FloatProgressModel",
          "state": {
            "_view_name": "ProgressView",
            "style": "IPY_MODEL_f8449c031c074611a601608302bbb7d5",
            "_dom_classes": [],
            "description": "Optimization Progress: 100%",
            "_model_name": "FloatProgressModel",
            "bar_style": "",
            "max": 84,
            "_view_module": "@jupyter-widgets/controls",
            "_model_module_version": "1.5.0",
            "value": 84,
            "_view_count": null,
            "_view_module_version": "1.5.0",
            "orientation": "horizontal",
            "min": 0,
            "description_tooltip": null,
            "_model_module": "@jupyter-widgets/controls",
            "layout": "IPY_MODEL_81762e9db06b4070880657ebdac679b0"
          }
        },
        "9f1abcebd559407a816e87bc261e0248": {
          "model_module": "@jupyter-widgets/controls",
          "model_name": "HTMLModel",
          "state": {
            "_view_name": "HTMLView",
            "style": "IPY_MODEL_faee3eade70f4fdbacc68cf5de03089a",
            "_dom_classes": [],
            "description": "",
            "_model_name": "HTMLModel",
            "placeholder": "​",
            "_view_module": "@jupyter-widgets/controls",
            "_model_module_version": "1.5.0",
            "value": " 84/84 [20:27&lt;00:00, 21.00s/pipeline]",
            "_view_count": null,
            "_view_module_version": "1.5.0",
            "description_tooltip": null,
            "_model_module": "@jupyter-widgets/controls",
            "layout": "IPY_MODEL_5229c098f6094a14b4ecb4a25b473d73"
          }
        },
        "f8449c031c074611a601608302bbb7d5": {
          "model_module": "@jupyter-widgets/controls",
          "model_name": "ProgressStyleModel",
          "state": {
            "_view_name": "StyleView",
            "_model_name": "ProgressStyleModel",
            "description_width": "initial",
            "_view_module": "@jupyter-widgets/base",
            "_model_module_version": "1.5.0",
            "_view_count": null,
            "_view_module_version": "1.2.0",
            "bar_color": null,
            "_model_module": "@jupyter-widgets/controls"
          }
        },
        "81762e9db06b4070880657ebdac679b0": {
          "model_module": "@jupyter-widgets/base",
          "model_name": "LayoutModel",
          "state": {
            "_view_name": "LayoutView",
            "grid_template_rows": null,
            "right": null,
            "justify_content": null,
            "_view_module": "@jupyter-widgets/base",
            "overflow": null,
            "_model_module_version": "1.2.0",
            "_view_count": null,
            "flex_flow": null,
            "width": null,
            "min_width": null,
            "border": null,
            "align_items": null,
            "bottom": null,
            "_model_module": "@jupyter-widgets/base",
            "top": null,
            "grid_column": null,
            "overflow_y": null,
            "overflow_x": null,
            "grid_auto_flow": null,
            "grid_area": null,
            "grid_template_columns": null,
            "flex": null,
            "_model_name": "LayoutModel",
            "justify_items": null,
            "grid_row": null,
            "max_height": null,
            "align_content": null,
            "visibility": null,
            "align_self": null,
            "height": null,
            "min_height": null,
            "padding": null,
            "grid_auto_rows": null,
            "grid_gap": null,
            "max_width": null,
            "order": null,
            "_view_module_version": "1.2.0",
            "grid_template_areas": null,
            "object_position": null,
            "object_fit": null,
            "grid_auto_columns": null,
            "margin": null,
            "display": null,
            "left": null
          }
        },
        "faee3eade70f4fdbacc68cf5de03089a": {
          "model_module": "@jupyter-widgets/controls",
          "model_name": "DescriptionStyleModel",
          "state": {
            "_view_name": "StyleView",
            "_model_name": "DescriptionStyleModel",
            "description_width": "",
            "_view_module": "@jupyter-widgets/base",
            "_model_module_version": "1.5.0",
            "_view_count": null,
            "_view_module_version": "1.2.0",
            "_model_module": "@jupyter-widgets/controls"
          }
        },
        "5229c098f6094a14b4ecb4a25b473d73": {
          "model_module": "@jupyter-widgets/base",
          "model_name": "LayoutModel",
          "state": {
            "_view_name": "LayoutView",
            "grid_template_rows": null,
            "right": null,
            "justify_content": null,
            "_view_module": "@jupyter-widgets/base",
            "overflow": null,
            "_model_module_version": "1.2.0",
            "_view_count": null,
            "flex_flow": null,
            "width": null,
            "min_width": null,
            "border": null,
            "align_items": null,
            "bottom": null,
            "_model_module": "@jupyter-widgets/base",
            "top": null,
            "grid_column": null,
            "overflow_y": null,
            "overflow_x": null,
            "grid_auto_flow": null,
            "grid_area": null,
            "grid_template_columns": null,
            "flex": null,
            "_model_name": "LayoutModel",
            "justify_items": null,
            "grid_row": null,
            "max_height": null,
            "align_content": null,
            "visibility": null,
            "align_self": null,
            "height": null,
            "min_height": null,
            "padding": null,
            "grid_auto_rows": null,
            "grid_gap": null,
            "max_width": null,
            "order": null,
            "_view_module_version": "1.2.0",
            "grid_template_areas": null,
            "object_position": null,
            "object_fit": null,
            "grid_auto_columns": null,
            "margin": null,
            "display": null,
            "left": null
          }
        }
      }
    }
  },
  "cells": [
    {
      "cell_type": "markdown",
      "metadata": {
        "id": "view-in-github",
        "colab_type": "text"
      },
      "source": [
        "<a href=\"https://colab.research.google.com/github/Neel7317/Hyper_Optimization_Techniques/blob/main/Automated_HyperTuning.ipynb\" target=\"_parent\"><img src=\"https://colab.research.google.com/assets/colab-badge.svg\" alt=\"Open In Colab\"/></a>"
      ]
    },
    {
      "cell_type": "markdown",
      "metadata": {
        "id": "8KfXpA94ECqm"
      },
      "source": [
        "**Automated Hyperparameter Tuning can be done by using techniques such as**\n",
        "\n",
        "-- Bayesian Optimization\n",
        "\n",
        "-- Genetic Algorithms\n",
        "\n",
        "-- Evolutionary Algorithms"
      ]
    },
    {
      "cell_type": "markdown",
      "metadata": {
        "id": "39cc9OYEEPuT"
      },
      "source": [
        "##Bayesian Optimization##\n",
        "Bayesian optimization uses probability to find the minimum of a function. The final aim is to find the input value to a function which can gives us the lowest possible output value.It usually performs better than random,grid and manual search providing better performance in the testing phase and reduced optimization time. In Hyperopt, Bayesian Optimization can be implemented giving 3 three main parameters to the function fmin.\n",
        "\n",
        "1.Objective Function = defines the loss function to minimize.\n",
        "\n",
        "2.Domain Space = defines the range of input values to test (in Bayesian Optimization this space creates a probability distribution for each of the used Hyperparameters).\n",
        "\n",
        "3.Optimization Algorithm = defines the search algorithm to use to select the best input values to use in each new iteration."
      ]
    },
    {
      "cell_type": "code",
      "metadata": {
        "id": "GObVRbOfKYWi"
      },
      "source": [
        "from sklearn.model_selection import cross_val_score,train_test_split"
      ],
      "execution_count": 40,
      "outputs": []
    },
    {
      "cell_type": "code",
      "metadata": {
        "id": "0T40DR5sLT1u"
      },
      "source": [
        "import pandas as pd"
      ],
      "execution_count": 41,
      "outputs": []
    },
    {
      "cell_type": "code",
      "metadata": {
        "colab": {
          "base_uri": "https://localhost:8080/",
          "height": 195
        },
        "id": "cZp13aYTLJl1",
        "outputId": "41ae6681-d803-4c61-c80e-60c67db31541"
      },
      "source": [
        "df=pd.read_csv('diabetes.csv')\n",
        "df.head()"
      ],
      "execution_count": 42,
      "outputs": [
        {
          "output_type": "execute_result",
          "data": {
            "text/html": [
              "<div>\n",
              "<style scoped>\n",
              "    .dataframe tbody tr th:only-of-type {\n",
              "        vertical-align: middle;\n",
              "    }\n",
              "\n",
              "    .dataframe tbody tr th {\n",
              "        vertical-align: top;\n",
              "    }\n",
              "\n",
              "    .dataframe thead th {\n",
              "        text-align: right;\n",
              "    }\n",
              "</style>\n",
              "<table border=\"1\" class=\"dataframe\">\n",
              "  <thead>\n",
              "    <tr style=\"text-align: right;\">\n",
              "      <th></th>\n",
              "      <th>Pregnancies</th>\n",
              "      <th>Glucose</th>\n",
              "      <th>BloodPressure</th>\n",
              "      <th>SkinThickness</th>\n",
              "      <th>Insulin</th>\n",
              "      <th>BMI</th>\n",
              "      <th>DiabetesPedigreeFunction</th>\n",
              "      <th>Age</th>\n",
              "      <th>Outcome</th>\n",
              "    </tr>\n",
              "  </thead>\n",
              "  <tbody>\n",
              "    <tr>\n",
              "      <th>0</th>\n",
              "      <td>6</td>\n",
              "      <td>148</td>\n",
              "      <td>72</td>\n",
              "      <td>35</td>\n",
              "      <td>0</td>\n",
              "      <td>33.6</td>\n",
              "      <td>0.627</td>\n",
              "      <td>50</td>\n",
              "      <td>1</td>\n",
              "    </tr>\n",
              "    <tr>\n",
              "      <th>1</th>\n",
              "      <td>1</td>\n",
              "      <td>85</td>\n",
              "      <td>66</td>\n",
              "      <td>29</td>\n",
              "      <td>0</td>\n",
              "      <td>26.6</td>\n",
              "      <td>0.351</td>\n",
              "      <td>31</td>\n",
              "      <td>0</td>\n",
              "    </tr>\n",
              "    <tr>\n",
              "      <th>2</th>\n",
              "      <td>8</td>\n",
              "      <td>183</td>\n",
              "      <td>64</td>\n",
              "      <td>0</td>\n",
              "      <td>0</td>\n",
              "      <td>23.3</td>\n",
              "      <td>0.672</td>\n",
              "      <td>32</td>\n",
              "      <td>1</td>\n",
              "    </tr>\n",
              "    <tr>\n",
              "      <th>3</th>\n",
              "      <td>1</td>\n",
              "      <td>89</td>\n",
              "      <td>66</td>\n",
              "      <td>23</td>\n",
              "      <td>94</td>\n",
              "      <td>28.1</td>\n",
              "      <td>0.167</td>\n",
              "      <td>21</td>\n",
              "      <td>0</td>\n",
              "    </tr>\n",
              "    <tr>\n",
              "      <th>4</th>\n",
              "      <td>0</td>\n",
              "      <td>137</td>\n",
              "      <td>40</td>\n",
              "      <td>35</td>\n",
              "      <td>168</td>\n",
              "      <td>43.1</td>\n",
              "      <td>2.288</td>\n",
              "      <td>33</td>\n",
              "      <td>1</td>\n",
              "    </tr>\n",
              "  </tbody>\n",
              "</table>\n",
              "</div>"
            ],
            "text/plain": [
              "   Pregnancies  Glucose  BloodPressure  ...  DiabetesPedigreeFunction  Age  Outcome\n",
              "0            6      148             72  ...                     0.627   50        1\n",
              "1            1       85             66  ...                     0.351   31        0\n",
              "2            8      183             64  ...                     0.672   32        1\n",
              "3            1       89             66  ...                     0.167   21        0\n",
              "4            0      137             40  ...                     2.288   33        1\n",
              "\n",
              "[5 rows x 9 columns]"
            ]
          },
          "metadata": {
            "tags": []
          },
          "execution_count": 42
        }
      ]
    },
    {
      "cell_type": "code",
      "metadata": {
        "id": "5Qn7F90oLZfP"
      },
      "source": [
        "import numpy as np\n",
        "df['Glucose']=np.where(df['Glucose']==0,df['Glucose'].median(),df['Glucose'])\n",
        "df['SkinThickness']=np.where(df['SkinThickness']==0,df['SkinThickness'].median(),df['SkinThickness'])\n",
        "df['Insulin']=np.where(df['Insulin']==0,df['Insulin'].median(),df['Insulin'])"
      ],
      "execution_count": 43,
      "outputs": []
    },
    {
      "cell_type": "code",
      "metadata": {
        "id": "5LswY46-KmN2"
      },
      "source": [
        "X_train,X_test,y_train,y_test=train_test_split(df.drop('Outcome',axis=1),df['Outcome'],test_size=0.2)"
      ],
      "execution_count": 44,
      "outputs": []
    },
    {
      "cell_type": "markdown",
      "metadata": {
        "id": "IKVm6914KX7n"
      },
      "source": [
        ""
      ]
    },
    {
      "cell_type": "code",
      "metadata": {
        "id": "9VJOMdztKPOo"
      },
      "source": [
        "from hyperopt import hp,fmin,tpe,STATUS_OK,Trials"
      ],
      "execution_count": 57,
      "outputs": []
    },
    {
      "cell_type": "code",
      "metadata": {
        "id": "gt3_W5bXPD6R"
      },
      "source": [
        "space = {'criterion': hp.choice('criterion', ['entropy', 'gini']),\n",
        "        'max_depth': hp.quniform('max_depth', 10, 1200, 10),\n",
        "        'max_features': hp.choice('max_features', ['auto', 'sqrt','log2', None]),\n",
        "        'min_samples_leaf': hp.uniform('min_samples_leaf', 0, 0.5),\n",
        "        'min_samples_split' : hp.uniform ('min_samples_split', 0, 1),\n",
        "        'n_estimators' : hp.choice('n_estimators', [10, 50, 300, 750, 1200,1300,1500])\n",
        "    }"
      ],
      "execution_count": 58,
      "outputs": []
    },
    {
      "cell_type": "code",
      "metadata": {
        "colab": {
          "base_uri": "https://localhost:8080/"
        },
        "id": "5eRZK7yqPN2F",
        "outputId": "c313873f-fc6e-4e40-a2c8-c7bd992f844e"
      },
      "source": [
        "space"
      ],
      "execution_count": 59,
      "outputs": [
        {
          "output_type": "execute_result",
          "data": {
            "text/plain": [
              "{'criterion': <hyperopt.pyll.base.Apply at 0x7f107486d510>,\n",
              " 'max_depth': <hyperopt.pyll.base.Apply at 0x7f107486d490>,\n",
              " 'max_features': <hyperopt.pyll.base.Apply at 0x7f107486df10>,\n",
              " 'min_samples_leaf': <hyperopt.pyll.base.Apply at 0x7f1075265ad0>,\n",
              " 'min_samples_split': <hyperopt.pyll.base.Apply at 0x7f1074867dd0>,\n",
              " 'n_estimators': <hyperopt.pyll.base.Apply at 0x7f1074867650>}"
            ]
          },
          "metadata": {
            "tags": []
          },
          "execution_count": 59
        }
      ]
    },
    {
      "cell_type": "code",
      "metadata": {
        "id": "CrbX3IgFPQRF"
      },
      "source": [
        "\n",
        "def objective(space):\n",
        "    model = RandomForestClassifier(criterion = space['criterion'], max_depth = space['max_depth'],\n",
        "                                 max_features = space['max_features'],\n",
        "                                 min_samples_leaf = space['min_samples_leaf'],\n",
        "                                 min_samples_split = space['min_samples_split'],\n",
        "                                 n_estimators = space['n_estimators'], \n",
        "                                 )\n",
        "    \n",
        "    accuracy = cross_val_score(model, X_train, y_train, cv = 5).mean()\n",
        "\n",
        "    # We aim to maximize accuracy, therefore we return it as a negative value\n",
        "    return {'loss': -accuracy, 'status': STATUS_OK }"
      ],
      "execution_count": 60,
      "outputs": []
    },
    {
      "cell_type": "code",
      "metadata": {
        "colab": {
          "base_uri": "https://localhost:8080/"
        },
        "id": "BuolfIsIPTg7",
        "outputId": "87ca8c92-53b3-46f1-85a1-519970ef89e5"
      },
      "source": [
        "\n",
        "from sklearn.model_selection import cross_val_score\n",
        "trials = Trials()\n",
        "best = fmin(fn= objective,\n",
        "            space= space,\n",
        "            algo= tpe.suggest,\n",
        "            max_evals = 80,\n",
        "            trials= trials)\n",
        "best"
      ],
      "execution_count": 61,
      "outputs": [
        {
          "output_type": "stream",
          "text": [
            "100%|██████████| 80/80 [07:08<00:00,  5.36s/it, best loss: -0.7442356390777023]\n"
          ],
          "name": "stdout"
        },
        {
          "output_type": "execute_result",
          "data": {
            "text/plain": [
              "{'criterion': 0,\n",
              " 'max_depth': 1130.0,\n",
              " 'max_features': 0,\n",
              " 'min_samples_leaf': 0.011493030287712619,\n",
              " 'min_samples_split': 0.08699179630454579,\n",
              " 'n_estimators': 4}"
            ]
          },
          "metadata": {
            "tags": []
          },
          "execution_count": 61
        }
      ]
    },
    {
      "cell_type": "code",
      "metadata": {
        "colab": {
          "base_uri": "https://localhost:8080/"
        },
        "id": "08RwKup9PV3S",
        "outputId": "5b5d1548-a226-4aed-b2eb-89c8ddb6bfcb"
      },
      "source": [
        "crit = {0: 'entropy', 1: 'gini'}\n",
        "feat = {0: 'auto', 1: 'sqrt', 2: 'log2', 3: None}\n",
        "est = {0: 10, 1: 50, 2: 300, 3: 750, 4: 1200,5:1300,6:1500}\n",
        "\n",
        "\n",
        "print(crit[best['criterion']])\n",
        "print(feat[best['max_features']])\n",
        "print(est[best['n_estimators']])"
      ],
      "execution_count": 62,
      "outputs": [
        {
          "output_type": "stream",
          "text": [
            "entropy\n",
            "auto\n",
            "1200\n"
          ],
          "name": "stdout"
        }
      ]
    },
    {
      "cell_type": "code",
      "metadata": {
        "colab": {
          "base_uri": "https://localhost:8080/"
        },
        "id": "GDir5FEORnKS",
        "outputId": "852f19ad-3eda-4384-9b67-8bb517bcf456"
      },
      "source": [
        "best['min_samples_leaf']"
      ],
      "execution_count": 63,
      "outputs": [
        {
          "output_type": "execute_result",
          "data": {
            "text/plain": [
              "0.011493030287712619"
            ]
          },
          "metadata": {
            "tags": []
          },
          "execution_count": 63
        }
      ]
    },
    {
      "cell_type": "code",
      "metadata": {
        "id": "q6hc4O9oR0dc"
      },
      "source": [
        "from sklearn.metrics import accuracy_score,confusion_matrix,classification_report"
      ],
      "execution_count": 65,
      "outputs": []
    },
    {
      "cell_type": "code",
      "metadata": {
        "colab": {
          "base_uri": "https://localhost:8080/"
        },
        "id": "Xh7dQ5suRrop",
        "outputId": "669c90e2-f0ac-46be-bc1f-63ae25ca3699"
      },
      "source": [
        "\n",
        "trainedforest = RandomForestClassifier(criterion = crit[best['criterion']], max_depth = best['max_depth'], \n",
        "                                       max_features = feat[best['max_features']], \n",
        "                                       min_samples_leaf = best['min_samples_leaf'], \n",
        "                                       min_samples_split = best['min_samples_split'], \n",
        "                                       n_estimators = est[best['n_estimators']]).fit(X_train,y_train)\n",
        "predictionforest = trainedforest.predict(X_test)\n",
        "print(confusion_matrix(y_test,predictionforest))\n",
        "print(accuracy_score(y_test,predictionforest))\n",
        "print(classification_report(y_test,predictionforest))\n",
        "acc5 = accuracy_score(y_test,predictionforest)"
      ],
      "execution_count": 66,
      "outputs": [
        {
          "output_type": "stream",
          "text": [
            "[[91  9]\n",
            " [20 34]]\n",
            "0.8116883116883117\n",
            "              precision    recall  f1-score   support\n",
            "\n",
            "           0       0.82      0.91      0.86       100\n",
            "           1       0.79      0.63      0.70        54\n",
            "\n",
            "    accuracy                           0.81       154\n",
            "   macro avg       0.81      0.77      0.78       154\n",
            "weighted avg       0.81      0.81      0.81       154\n",
            "\n"
          ],
          "name": "stdout"
        }
      ]
    },
    {
      "cell_type": "markdown",
      "metadata": {
        "id": "RI5IEHLxSKNJ"
      },
      "source": [
        "##Genetic Algorithms##\n",
        "\n",
        "Genetic Algorithms tries to apply natural selection mechanisms to Machine Learning contexts.\n",
        "\n",
        "Let's immagine we create a population of N Machine Learning models with some predifined Hyperparameters. We can then calculate the accuracy of each model and decide to keep just half of the models (the ones that performs best). We can now generate some offsprings having similar Hyperparameters to the ones of the best models so that go get again a population of N models. At this point we can again caltulate the accuracy of each model and repeate the cycle for a defined number of generations. In this way, just the best models will survive at the end of the process."
      ]
    },
    {
      "cell_type": "code",
      "metadata": {
        "colab": {
          "base_uri": "https://localhost:8080/"
        },
        "id": "IVH6xJepRxvL",
        "outputId": "e55d7958-b98e-44b5-cb8c-3841f965afb4"
      },
      "source": [
        "\n",
        "import numpy as np\n",
        "from sklearn.model_selection import RandomizedSearchCV\n",
        "# Number of trees in random forest\n",
        "n_estimators = [int(x) for x in np.linspace(start = 200, stop = 2000, num = 10)]\n",
        "# Number of features to consider at every split\n",
        "max_features = ['auto', 'sqrt','log2']\n",
        "# Maximum number of levels in tree\n",
        "max_depth = [int(x) for x in np.linspace(10, 1000,10)]\n",
        "# Minimum number of samples required to split a node\n",
        "min_samples_split = [2, 5, 10,14]\n",
        "# Minimum number of samples required at each leaf node\n",
        "min_samples_leaf = [1, 2, 4,6,8]\n",
        "# Create the random grid\n",
        "param = {'n_estimators': n_estimators,\n",
        "               'max_features': max_features,\n",
        "               'max_depth': max_depth,\n",
        "               'min_samples_split': min_samples_split,\n",
        "               'min_samples_leaf': min_samples_leaf,\n",
        "              'criterion':['entropy','gini']}\n",
        "print(param)"
      ],
      "execution_count": 67,
      "outputs": [
        {
          "output_type": "stream",
          "text": [
            "{'n_estimators': [200, 400, 600, 800, 1000, 1200, 1400, 1600, 1800, 2000], 'max_features': ['auto', 'sqrt', 'log2'], 'max_depth': [10, 120, 230, 340, 450, 560, 670, 780, 890, 1000], 'min_samples_split': [2, 5, 10, 14], 'min_samples_leaf': [1, 2, 4, 6, 8], 'criterion': ['entropy', 'gini']}\n"
          ],
          "name": "stdout"
        }
      ]
    },
    {
      "cell_type": "code",
      "metadata": {
        "colab": {
          "base_uri": "https://localhost:8080/"
        },
        "id": "4jiJsOF0Sp2W",
        "outputId": "81632620-aee6-4a0b-a34d-709ee949c25a"
      },
      "source": [
        "!pip install tpot"
      ],
      "execution_count": 68,
      "outputs": [
        {
          "output_type": "stream",
          "text": [
            "Collecting tpot\n",
            "\u001b[?25l  Downloading https://files.pythonhosted.org/packages/b2/55/a7185198f554ea19758e5ac4641f100c94cba4585e738e2e48e3c40a0b7f/TPOT-0.11.7-py3-none-any.whl (87kB)\n",
            "\u001b[K     |████████████████████████████████| 92kB 3.5MB/s \n",
            "\u001b[?25hCollecting update-checker>=0.16\n",
            "  Downloading https://files.pythonhosted.org/packages/0c/ba/8dd7fa5f0b1c6a8ac62f8f57f7e794160c1f86f31c6d0fb00f582372a3e4/update_checker-0.18.0-py3-none-any.whl\n",
            "Requirement already satisfied: joblib>=0.13.2 in /usr/local/lib/python3.7/dist-packages (from tpot) (1.0.1)\n",
            "Collecting deap>=1.2\n",
            "\u001b[?25l  Downloading https://files.pythonhosted.org/packages/99/d1/803c7a387d8a7e6866160b1541307f88d534da4291572fb32f69d2548afb/deap-1.3.1-cp37-cp37m-manylinux2010_x86_64.whl (157kB)\n",
            "\u001b[K     |████████████████████████████████| 163kB 22.8MB/s \n",
            "\u001b[?25hRequirement already satisfied: scikit-learn>=0.22.0 in /usr/local/lib/python3.7/dist-packages (from tpot) (0.22.2.post1)\n",
            "Requirement already satisfied: numpy>=1.16.3 in /usr/local/lib/python3.7/dist-packages (from tpot) (1.19.5)\n",
            "Requirement already satisfied: tqdm>=4.36.1 in /usr/local/lib/python3.7/dist-packages (from tpot) (4.41.1)\n",
            "Requirement already satisfied: scipy>=1.3.1 in /usr/local/lib/python3.7/dist-packages (from tpot) (1.4.1)\n",
            "Collecting xgboost>=1.1.0\n",
            "\u001b[?25l  Downloading https://files.pythonhosted.org/packages/23/88/f52938e30f84ae662b4a0bc63cafc095fb3e38ca2ec188b8a863f8e2c016/xgboost-1.4.1-py3-none-manylinux2010_x86_64.whl (166.7MB)\n",
            "\u001b[K     |████████████████████████████████| 166.7MB 82kB/s \n",
            "\u001b[?25hCollecting stopit>=1.1.1\n",
            "  Downloading https://files.pythonhosted.org/packages/35/58/e8bb0b0fb05baf07bbac1450c447d753da65f9701f551dca79823ce15d50/stopit-1.1.2.tar.gz\n",
            "Requirement already satisfied: pandas>=0.24.2 in /usr/local/lib/python3.7/dist-packages (from tpot) (1.1.5)\n",
            "Requirement already satisfied: requests>=2.3.0 in /usr/local/lib/python3.7/dist-packages (from update-checker>=0.16->tpot) (2.23.0)\n",
            "Requirement already satisfied: python-dateutil>=2.7.3 in /usr/local/lib/python3.7/dist-packages (from pandas>=0.24.2->tpot) (2.8.1)\n",
            "Requirement already satisfied: pytz>=2017.2 in /usr/local/lib/python3.7/dist-packages (from pandas>=0.24.2->tpot) (2018.9)\n",
            "Requirement already satisfied: certifi>=2017.4.17 in /usr/local/lib/python3.7/dist-packages (from requests>=2.3.0->update-checker>=0.16->tpot) (2020.12.5)\n",
            "Requirement already satisfied: urllib3!=1.25.0,!=1.25.1,<1.26,>=1.21.1 in /usr/local/lib/python3.7/dist-packages (from requests>=2.3.0->update-checker>=0.16->tpot) (1.24.3)\n",
            "Requirement already satisfied: chardet<4,>=3.0.2 in /usr/local/lib/python3.7/dist-packages (from requests>=2.3.0->update-checker>=0.16->tpot) (3.0.4)\n",
            "Requirement already satisfied: idna<3,>=2.5 in /usr/local/lib/python3.7/dist-packages (from requests>=2.3.0->update-checker>=0.16->tpot) (2.10)\n",
            "Requirement already satisfied: six>=1.5 in /usr/local/lib/python3.7/dist-packages (from python-dateutil>=2.7.3->pandas>=0.24.2->tpot) (1.15.0)\n",
            "Building wheels for collected packages: stopit\n",
            "  Building wheel for stopit (setup.py) ... \u001b[?25l\u001b[?25hdone\n",
            "  Created wheel for stopit: filename=stopit-1.1.2-cp37-none-any.whl size=11954 sha256=89483013b152b60487a6943c9fe673637e6c6601eba7079818f923fa153c0fb3\n",
            "  Stored in directory: /root/.cache/pip/wheels/3c/85/2b/2580190404636bfc63e8de3dff629c03bb795021e1983a6cc7\n",
            "Successfully built stopit\n",
            "Installing collected packages: update-checker, deap, xgboost, stopit, tpot\n",
            "  Found existing installation: xgboost 0.90\n",
            "    Uninstalling xgboost-0.90:\n",
            "      Successfully uninstalled xgboost-0.90\n",
            "Successfully installed deap-1.3.1 stopit-1.1.2 tpot-0.11.7 update-checker-0.18.0 xgboost-1.4.1\n"
          ],
          "name": "stdout"
        }
      ]
    },
    {
      "cell_type": "code",
      "metadata": {
        "id": "yuaQdxRzSx6S"
      },
      "source": [
        "from tpot import TPOTClassifier\n"
      ],
      "execution_count": 69,
      "outputs": []
    },
    {
      "cell_type": "code",
      "metadata": {
        "id": "UpybxO7xTAw9"
      },
      "source": [
        "tpot_classifier=TPOTClassifier(generations=5,population_size=24,offspring_size=12,cv=5,n_jobs=-1,config_dict={'sklearn.ensemble.RandomForestClassifier': param},\n",
        "                                verbosity= 2, early_stop= 12,scoring='accuracy')\n"
      ],
      "execution_count": 70,
      "outputs": []
    },
    {
      "cell_type": "code",
      "metadata": {
        "colab": {
          "base_uri": "https://localhost:8080/",
          "height": 926,
          "referenced_widgets": [
            "db582b9c3a5640f6a168a8f58e056866",
            "0041ed56d41544a9bc11fc5d64f6c4ac",
            "0054b665d94648de9bb3dc9fee429126",
            "9f1abcebd559407a816e87bc261e0248",
            "f8449c031c074611a601608302bbb7d5",
            "81762e9db06b4070880657ebdac679b0",
            "faee3eade70f4fdbacc68cf5de03089a",
            "5229c098f6094a14b4ecb4a25b473d73"
          ]
        },
        "id": "1frS1FjtTxuv",
        "outputId": "2a599307-6f84-4368-99f4-92d4acfab9ca"
      },
      "source": [
        "tpot_classifier.fit(X_train,y_train)"
      ],
      "execution_count": 71,
      "outputs": [
        {
          "output_type": "display_data",
          "data": {
            "application/vnd.jupyter.widget-view+json": {
              "model_id": "db582b9c3a5640f6a168a8f58e056866",
              "version_minor": 0,
              "version_major": 2
            },
            "text/plain": [
              "HBox(children=(FloatProgress(value=0.0, description='Optimization Progress', max=84.0, style=ProgressStyle(des…"
            ]
          },
          "metadata": {
            "tags": []
          }
        },
        {
          "output_type": "stream",
          "text": [
            "\r\n",
            "Generation 1 - Current best internal CV score: 0.7540050646408104\n",
            "\n",
            "Generation 2 - Current best internal CV score: 0.7540050646408104\n",
            "\n",
            "Generation 3 - Current best internal CV score: 0.7540050646408104\n",
            "\n",
            "Generation 4 - Current best internal CV score: 0.7540050646408104\n",
            "\n",
            "Generation 5 - Current best internal CV score: 0.7588964414234306\n",
            "\n",
            "Best pipeline: RandomForestClassifier(RandomForestClassifier(input_matrix, criterion=entropy, max_depth=670, max_features=auto, min_samples_leaf=6, min_samples_split=5, n_estimators=400), criterion=gini, max_depth=670, max_features=sqrt, min_samples_leaf=8, min_samples_split=5, n_estimators=1600)\n"
          ],
          "name": "stdout"
        },
        {
          "output_type": "execute_result",
          "data": {
            "text/plain": [
              "TPOTClassifier(config_dict={'sklearn.ensemble.RandomForestClassifier': {'criterion': ['entropy',\n",
              "                                                                                      'gini'],\n",
              "                                                                        'max_depth': [10,\n",
              "                                                                                      120,\n",
              "                                                                                      230,\n",
              "                                                                                      340,\n",
              "                                                                                      450,\n",
              "                                                                                      560,\n",
              "                                                                                      670,\n",
              "                                                                                      780,\n",
              "                                                                                      890,\n",
              "                                                                                      1000],\n",
              "                                                                        'max_features': ['auto',\n",
              "                                                                                         'sqrt',\n",
              "                                                                                         'log2'],\n",
              "                                                                        'min_samples_leaf': [1,\n",
              "                                                                                             2,\n",
              "                                                                                             4,\n",
              "                                                                                             6,\n",
              "                                                                                             8],\n",
              "                                                                        'min_samples_split': [2,\n",
              "                                                                                              5,\n",
              "                                                                                              10,\n",
              "                                                                                              14],\n",
              "                                                                        'n_estimators': [200,\n",
              "                                                                                         400,\n",
              "                                                                                         600,\n",
              "                                                                                         800,\n",
              "                                                                                         1000,\n",
              "                                                                                         1200,\n",
              "                                                                                         1400,\n",
              "                                                                                         1600,\n",
              "                                                                                         1800,\n",
              "                                                                                         2000]}},\n",
              "               crossover_rate=0.1, cv=5, disable_update_check=False,\n",
              "               early_stop=12, generations=5, log_file=None,\n",
              "               max_eval_time_mins=5, max_time_mins=None, memory=None,\n",
              "               mutation_rate=0.9, n_jobs=-1, offspring_size=12,\n",
              "               periodic_checkpoint_folder=None, population_size=24,\n",
              "               random_state=None, scoring='accuracy', subsample=1.0,\n",
              "               template=None, use_dask=False, verbosity=2, warm_start=False)"
            ]
          },
          "metadata": {
            "tags": []
          },
          "execution_count": 71
        }
      ]
    },
    {
      "cell_type": "code",
      "metadata": {
        "colab": {
          "base_uri": "https://localhost:8080/"
        },
        "id": "8-oMRMSgY7U5",
        "outputId": "2ebfd494-f0e2-49ae-d2fc-a6ff307dc918"
      },
      "source": [
        "accuracy = tpot_classifier.score(X_test, y_test)\n",
        "print(accuracy)"
      ],
      "execution_count": 72,
      "outputs": [
        {
          "output_type": "stream",
          "text": [
            "0.8181818181818182\n"
          ],
          "name": "stdout"
        }
      ]
    },
    {
      "cell_type": "markdown",
      "metadata": {
        "id": "VQ38tSLBVMRR"
      },
      "source": [
        "##Optimize hyperparameters of the model using Optuna\n",
        "\n",
        "The hyperparameters of the above algorithm are n_estimators and max_depth for which we can try different values to see if the model accuracy can be improved. The objective function is modified to accept a trial object. This trial has several methods for sampling hyperparameters. We create a study to run the hyperparameter optimization and finally read the best hyperparameters."
      ]
    },
    {
      "cell_type": "code",
      "metadata": {
        "colab": {
          "base_uri": "https://localhost:8080/"
        },
        "id": "8iICnY2xZpv7",
        "outputId": "c21ac196-1fe4-457f-f637-1a041207045b"
      },
      "source": [
        "!pip install optuna"
      ],
      "execution_count": 74,
      "outputs": [
        {
          "output_type": "stream",
          "text": [
            "Collecting optuna\n",
            "\u001b[?25l  Downloading https://files.pythonhosted.org/packages/2b/21/d13081805e1e1afc71f5bb743ece324c8bd576237c51b899ecb38a717502/optuna-2.7.0-py3-none-any.whl (293kB)\n",
            "\u001b[K     |████████████████████████████████| 296kB 5.7MB/s \n",
            "\u001b[?25hCollecting alembic\n",
            "\u001b[?25l  Downloading https://files.pythonhosted.org/packages/72/a4/97eb6273839655cac14947986fa7a5935350fcfd4fff872e9654264c82d8/alembic-1.5.8-py2.py3-none-any.whl (159kB)\n",
            "\u001b[K     |████████████████████████████████| 163kB 18.6MB/s \n",
            "\u001b[?25hRequirement already satisfied: numpy in /usr/local/lib/python3.7/dist-packages (from optuna) (1.19.5)\n",
            "Collecting cliff\n",
            "\u001b[?25l  Downloading https://files.pythonhosted.org/packages/a2/d6/7d9acb68a77acd140be7fececb7f2701b2a29d2da9c54184cb8f93509590/cliff-3.7.0-py3-none-any.whl (80kB)\n",
            "\u001b[K     |████████████████████████████████| 81kB 6.1MB/s \n",
            "\u001b[?25hCollecting cmaes>=0.8.2\n",
            "  Downloading https://files.pythonhosted.org/packages/01/1f/43b01223a0366171f474320c6e966c39a11587287f098a5f09809b45e05f/cmaes-0.8.2-py3-none-any.whl\n",
            "Requirement already satisfied: packaging>=20.0 in /usr/local/lib/python3.7/dist-packages (from optuna) (20.9)\n",
            "Collecting colorlog\n",
            "  Downloading https://files.pythonhosted.org/packages/32/e6/e9ddc6fa1104fda718338b341e4b3dc31cd8039ab29e52fc73b508515361/colorlog-5.0.1-py2.py3-none-any.whl\n",
            "Requirement already satisfied: sqlalchemy>=1.1.0 in /usr/local/lib/python3.7/dist-packages (from optuna) (1.4.7)\n",
            "Requirement already satisfied: scipy!=1.4.0 in /usr/local/lib/python3.7/dist-packages (from optuna) (1.4.1)\n",
            "Requirement already satisfied: tqdm in /usr/local/lib/python3.7/dist-packages (from optuna) (4.41.1)\n",
            "Collecting Mako\n",
            "\u001b[?25l  Downloading https://files.pythonhosted.org/packages/f3/54/dbc07fbb20865d3b78fdb7cf7fa713e2cba4f87f71100074ef2dc9f9d1f7/Mako-1.1.4-py2.py3-none-any.whl (75kB)\n",
            "\u001b[K     |████████████████████████████████| 81kB 7.3MB/s \n",
            "\u001b[?25hRequirement already satisfied: python-dateutil in /usr/local/lib/python3.7/dist-packages (from alembic->optuna) (2.8.1)\n",
            "Collecting python-editor>=0.3\n",
            "  Downloading https://files.pythonhosted.org/packages/c6/d3/201fc3abe391bbae6606e6f1d598c15d367033332bd54352b12f35513717/python_editor-1.0.4-py3-none-any.whl\n",
            "Requirement already satisfied: PrettyTable>=0.7.2 in /usr/local/lib/python3.7/dist-packages (from cliff->optuna) (2.1.0)\n",
            "Collecting cmd2>=1.0.0\n",
            "\u001b[?25l  Downloading https://files.pythonhosted.org/packages/15/8b/15061b32332bb35ea2a2f6263d0f616779d576e82739ec8e7fcf3c94abf5/cmd2-1.5.0-py3-none-any.whl (133kB)\n",
            "\u001b[K     |████████████████████████████████| 143kB 39.0MB/s \n",
            "\u001b[?25hRequirement already satisfied: pyparsing>=2.1.0 in /usr/local/lib/python3.7/dist-packages (from cliff->optuna) (2.4.7)\n",
            "Collecting stevedore>=2.0.1\n",
            "\u001b[?25l  Downloading https://files.pythonhosted.org/packages/d4/49/b602307aeac3df3384ff1fcd05da9c0376c622a6c48bb5325f28ab165b57/stevedore-3.3.0-py3-none-any.whl (49kB)\n",
            "\u001b[K     |████████████████████████████████| 51kB 4.7MB/s \n",
            "\u001b[?25hCollecting pbr!=2.1.0,>=2.0.0\n",
            "\u001b[?25l  Downloading https://files.pythonhosted.org/packages/fb/48/69046506f6ac61c1eaa9a0d42d22d54673b69e176d30ca98e3f61513e980/pbr-5.5.1-py2.py3-none-any.whl (106kB)\n",
            "\u001b[K     |████████████████████████████████| 112kB 30.2MB/s \n",
            "\u001b[?25hRequirement already satisfied: PyYAML>=3.12 in /usr/local/lib/python3.7/dist-packages (from cliff->optuna) (3.13)\n",
            "Requirement already satisfied: greenlet!=0.4.17; python_version >= \"3\" in /usr/local/lib/python3.7/dist-packages (from sqlalchemy>=1.1.0->optuna) (1.0.0)\n",
            "Requirement already satisfied: importlib-metadata; python_version < \"3.8\" in /usr/local/lib/python3.7/dist-packages (from sqlalchemy>=1.1.0->optuna) (3.10.1)\n",
            "Requirement already satisfied: MarkupSafe>=0.9.2 in /usr/local/lib/python3.7/dist-packages (from Mako->alembic->optuna) (1.1.1)\n",
            "Requirement already satisfied: six>=1.5 in /usr/local/lib/python3.7/dist-packages (from python-dateutil->alembic->optuna) (1.15.0)\n",
            "Requirement already satisfied: wcwidth in /usr/local/lib/python3.7/dist-packages (from PrettyTable>=0.7.2->cliff->optuna) (0.2.5)\n",
            "Requirement already satisfied: attrs>=16.3.0 in /usr/local/lib/python3.7/dist-packages (from cmd2>=1.0.0->cliff->optuna) (20.3.0)\n",
            "Collecting colorama>=0.3.7\n",
            "  Downloading https://files.pythonhosted.org/packages/44/98/5b86278fbbf250d239ae0ecb724f8572af1c91f4a11edf4d36a206189440/colorama-0.4.4-py2.py3-none-any.whl\n",
            "Collecting pyperclip>=1.6\n",
            "  Downloading https://files.pythonhosted.org/packages/a7/2c/4c64579f847bd5d539803c8b909e54ba087a79d01bb3aba433a95879a6c5/pyperclip-1.8.2.tar.gz\n",
            "Requirement already satisfied: typing-extensions>=3.6.4; python_version < \"3.8\" in /usr/local/lib/python3.7/dist-packages (from importlib-metadata; python_version < \"3.8\"->sqlalchemy>=1.1.0->optuna) (3.7.4.3)\n",
            "Requirement already satisfied: zipp>=0.5 in /usr/local/lib/python3.7/dist-packages (from importlib-metadata; python_version < \"3.8\"->sqlalchemy>=1.1.0->optuna) (3.4.1)\n",
            "Building wheels for collected packages: pyperclip\n",
            "  Building wheel for pyperclip (setup.py) ... \u001b[?25l\u001b[?25hdone\n",
            "  Created wheel for pyperclip: filename=pyperclip-1.8.2-cp37-none-any.whl size=11107 sha256=f98124447c13ec51d8ce44a87158c2a873b83ac47471cc35c4a590e6ce9a7a71\n",
            "  Stored in directory: /root/.cache/pip/wheels/25/af/b8/3407109267803f4015e1ee2ff23be0c8c19ce4008665931ee1\n",
            "Successfully built pyperclip\n",
            "Installing collected packages: Mako, python-editor, alembic, colorama, pyperclip, cmd2, pbr, stevedore, cliff, cmaes, colorlog, optuna\n",
            "Successfully installed Mako-1.1.4 alembic-1.5.8 cliff-3.7.0 cmaes-0.8.2 cmd2-1.5.0 colorama-0.4.4 colorlog-5.0.1 optuna-2.7.0 pbr-5.5.1 pyperclip-1.8.2 python-editor-1.0.4 stevedore-3.3.0\n"
          ],
          "name": "stdout"
        }
      ]
    },
    {
      "cell_type": "code",
      "metadata": {
        "id": "W9tNfVr_T7nv"
      },
      "source": [
        "import optuna\n",
        "import sklearn.svm\n",
        "def objective(trial):\n",
        "\n",
        "    classifier = trial.suggest_categorical('classifier', ['RandomForest', 'SVC'])\n",
        "    \n",
        "    if classifier == 'RandomForest':\n",
        "        n_estimators = trial.suggest_int('n_estimators', 200, 2000,10)\n",
        "        max_depth = int(trial.suggest_float('max_depth', 10, 100, log=True))\n",
        "\n",
        "        clf = sklearn.ensemble.RandomForestClassifier(\n",
        "            n_estimators=n_estimators, max_depth=max_depth)\n",
        "    else:\n",
        "        c = trial.suggest_float('svc_c', 1e-10, 1e10, log=True)\n",
        "        \n",
        "        clf = sklearn.svm.SVC(C=c, gamma='auto')\n",
        "\n",
        "    return sklearn.model_selection.cross_val_score(\n",
        "        clf,X_train,y_train, n_jobs=-1, cv=3).mean()"
      ],
      "execution_count": 75,
      "outputs": []
    },
    {
      "cell_type": "code",
      "metadata": {
        "colab": {
          "base_uri": "https://localhost:8080/"
        },
        "id": "YWYy_8zLZYd4",
        "outputId": "10c1fe6f-9e8a-43a8-b772-fbfda2f35078"
      },
      "source": [
        "study = optuna.create_study(direction='maximize')\n",
        "study.optimize(objective, n_trials=100)\n",
        "\n",
        "trial = study.best_trial\n",
        "\n",
        "print('Accuracy: {}'.format(trial.value))\n",
        "print(\"Best hyperparameters: {}\".format(trial.params))"
      ],
      "execution_count": 76,
      "outputs": [
        {
          "output_type": "stream",
          "text": [
            "\u001b[32m[I 2021-04-26 13:38:35,305]\u001b[0m A new study created in memory with name: no-name-cd5f5abe-ebb9-4391-967d-e43ae486bc25\u001b[0m\n",
            "\u001b[32m[I 2021-04-26 13:38:42,234]\u001b[0m Trial 0 finished with value: 0.74095329188586 and parameters: {'classifier': 'RandomForest', 'n_estimators': 1440, 'max_depth': 49.336481575551375}. Best is trial 0 with value: 0.74095329188586.\u001b[0m\n",
            "\u001b[32m[I 2021-04-26 13:38:49,251]\u001b[0m Trial 1 finished with value: 0.7458552526701737 and parameters: {'classifier': 'RandomForest', 'n_estimators': 1480, 'max_depth': 39.22169710858817}. Best is trial 1 with value: 0.7458552526701737.\u001b[0m\n",
            "\u001b[32m[I 2021-04-26 13:38:54,725]\u001b[0m Trial 2 finished with value: 0.7425872788139646 and parameters: {'classifier': 'RandomForest', 'n_estimators': 1150, 'max_depth': 35.37924248478869}. Best is trial 1 with value: 0.7458552526701737.\u001b[0m\n",
            "\u001b[32m[I 2021-04-26 13:39:00,915]\u001b[0m Trial 3 finished with value: 0.7393193049577554 and parameters: {'classifier': 'RandomForest', 'n_estimators': 1320, 'max_depth': 10.737363610671597}. Best is trial 1 with value: 0.7458552526701737.\u001b[0m\n",
            "\u001b[32m[I 2021-04-26 13:39:00,968]\u001b[0m Trial 4 finished with value: 0.6514666029013232 and parameters: {'classifier': 'SVC', 'svc_c': 6.607785696756007e-07}. Best is trial 1 with value: 0.7458552526701737.\u001b[0m\n",
            "\u001b[32m[I 2021-04-26 13:39:10,097]\u001b[0m Trial 5 finished with value: 0.7442132950741271 and parameters: {'classifier': 'RandomForest', 'n_estimators': 1890, 'max_depth': 71.24980088713596}. Best is trial 1 with value: 0.7458552526701737.\u001b[0m\n",
            "\u001b[32m[I 2021-04-26 13:39:10,159]\u001b[0m Trial 6 finished with value: 0.6514666029013232 and parameters: {'classifier': 'SVC', 'svc_c': 0.00854544088668136}. Best is trial 1 with value: 0.7458552526701737.\u001b[0m\n",
            "\u001b[32m[I 2021-04-26 13:39:13,487]\u001b[0m Trial 7 finished with value: 0.7442132950741271 and parameters: {'classifier': 'RandomForest', 'n_estimators': 700, 'max_depth': 40.60992322886831}. Best is trial 1 with value: 0.7458552526701737.\u001b[0m\n",
            "\u001b[32m[I 2021-04-26 13:39:13,555]\u001b[0m Trial 8 finished with value: 0.6514666029013232 and parameters: {'classifier': 'SVC', 'svc_c': 148947.2494949572}. Best is trial 1 with value: 0.7458552526701737.\u001b[0m\n",
            "\u001b[32m[I 2021-04-26 13:39:13,621]\u001b[0m Trial 9 finished with value: 0.6514666029013232 and parameters: {'classifier': 'SVC', 'svc_c': 12028842.892709041}. Best is trial 1 with value: 0.7458552526701737.\u001b[0m\n",
            "\u001b[32m[I 2021-04-26 13:39:22,024]\u001b[0m Trial 10 finished with value: 0.744229236410011 and parameters: {'classifier': 'RandomForest', 'n_estimators': 1770, 'max_depth': 15.582537449413875}. Best is trial 1 with value: 0.7458552526701737.\u001b[0m\n",
            "\u001b[32m[I 2021-04-26 13:39:31,343]\u001b[0m Trial 11 finished with value: 0.7393193049577554 and parameters: {'classifier': 'RandomForest', 'n_estimators': 1970, 'max_depth': 14.487738223420642}. Best is trial 1 with value: 0.7458552526701737.\u001b[0m\n",
            "\u001b[32m[I 2021-04-26 13:39:39,317]\u001b[0m Trial 12 finished with value: 0.7393193049577554 and parameters: {'classifier': 'RandomForest', 'n_estimators': 1670, 'max_depth': 20.220269248050897}. Best is trial 1 with value: 0.7458552526701737.\u001b[0m\n",
            "\u001b[32m[I 2021-04-26 13:39:47,025]\u001b[0m Trial 13 finished with value: 0.7425872788139646 and parameters: {'classifier': 'RandomForest', 'n_estimators': 1620, 'max_depth': 21.57995999777855}. Best is trial 1 with value: 0.7458552526701737.\u001b[0m\n",
            "\u001b[32m[I 2021-04-26 13:39:50,786]\u001b[0m Trial 14 finished with value: 0.7474732982623943 and parameters: {'classifier': 'RandomForest', 'n_estimators': 790, 'max_depth': 99.09243246667951}. Best is trial 14 with value: 0.7474732982623943.\u001b[0m\n",
            "\u001b[32m[I 2021-04-26 13:39:54,137]\u001b[0m Trial 15 finished with value: 0.7360832137733141 and parameters: {'classifier': 'RandomForest', 'n_estimators': 700, 'max_depth': 95.76464558939537}. Best is trial 14 with value: 0.7474732982623943.\u001b[0m\n",
            "\u001b[32m[I 2021-04-26 13:39:55,169]\u001b[0m Trial 16 finished with value: 0.7409612625538019 and parameters: {'classifier': 'RandomForest', 'n_estimators': 210, 'max_depth': 99.76649488095873}. Best is trial 14 with value: 0.7474732982623943.\u001b[0m\n",
            "\u001b[32m[I 2021-04-26 13:39:59,051]\u001b[0m Trial 17 finished with value: 0.7458393113342897 and parameters: {'classifier': 'RandomForest', 'n_estimators': 830, 'max_depth': 62.12942582316086}. Best is trial 14 with value: 0.7474732982623943.\u001b[0m\n",
            "\u001b[32m[I 2021-04-26 13:40:00,980]\u001b[0m Trial 18 finished with value: 0.7491072851904989 and parameters: {'classifier': 'RandomForest', 'n_estimators': 410, 'max_depth': 28.226769035187218}. Best is trial 18 with value: 0.7491072851904989.\u001b[0m\n",
            "\u001b[32m[I 2021-04-26 13:40:02,084]\u001b[0m Trial 19 finished with value: 0.7441814124023592 and parameters: {'classifier': 'RandomForest', 'n_estimators': 220, 'max_depth': 23.38669349545165}. Best is trial 18 with value: 0.7491072851904989.\u001b[0m\n",
            "\u001b[32m[I 2021-04-26 13:40:02,140]\u001b[0m Trial 20 finished with value: 0.6514666029013232 and parameters: {'classifier': 'SVC', 'svc_c': 2.2008314613820854e-10}. Best is trial 18 with value: 0.7491072851904989.\u001b[0m\n",
            "\u001b[32m[I 2021-04-26 13:40:04,148]\u001b[0m Trial 21 finished with value: 0.7344492268452095 and parameters: {'classifier': 'RandomForest', 'n_estimators': 420, 'max_depth': 29.943325253356633}. Best is trial 18 with value: 0.7491072851904989.\u001b[0m\n",
            "\u001b[32m[I 2021-04-26 13:40:08,555]\u001b[0m Trial 22 finished with value: 0.7425793081460226 and parameters: {'classifier': 'RandomForest', 'n_estimators': 920, 'max_depth': 27.63387835682076}. Best is trial 18 with value: 0.7491072851904989.\u001b[0m\n",
            "\u001b[32m[I 2021-04-26 13:40:10,816]\u001b[0m Trial 23 finished with value: 0.7377092300334768 and parameters: {'classifier': 'RandomForest', 'n_estimators': 470, 'max_depth': 45.964843635486446}. Best is trial 18 with value: 0.7491072851904989.\u001b[0m\n",
            "\u001b[32m[I 2021-04-26 13:40:15,860]\u001b[0m Trial 24 finished with value: 0.7458393113342897 and parameters: {'classifier': 'RandomForest', 'n_estimators': 1070, 'max_depth': 69.1238608254476}. Best is trial 18 with value: 0.7491072851904989.\u001b[0m\n",
            "\u001b[32m[I 2021-04-26 13:40:17,953]\u001b[0m Trial 25 finished with value: 0.7441973537382433 and parameters: {'classifier': 'RandomForest', 'n_estimators': 430, 'max_depth': 34.2302227517213}. Best is trial 18 with value: 0.7491072851904989.\u001b[0m\n",
            "\u001b[32m[I 2021-04-26 13:40:20,950]\u001b[0m Trial 26 finished with value: 0.740945321217918 and parameters: {'classifier': 'RandomForest', 'n_estimators': 620, 'max_depth': 53.895704407411095}. Best is trial 18 with value: 0.7491072851904989.\u001b[0m\n",
            "\u001b[32m[I 2021-04-26 13:40:27,849]\u001b[0m Trial 27 finished with value: 0.749091343854615 and parameters: {'classifier': 'RandomForest', 'n_estimators': 1450, 'max_depth': 83.87493397787193}. Best is trial 18 with value: 0.7491072851904989.\u001b[0m\n",
            "\u001b[32m[I 2021-04-26 13:40:33,070]\u001b[0m Trial 28 finished with value: 0.7409612625538019 and parameters: {'classifier': 'RandomForest', 'n_estimators': 1110, 'max_depth': 85.07408951377228}. Best is trial 18 with value: 0.7491072851904989.\u001b[0m\n",
            "\u001b[32m[I 2021-04-26 13:40:37,536]\u001b[0m Trial 29 finished with value: 0.7376932886975928 and parameters: {'classifier': 'RandomForest', 'n_estimators': 940, 'max_depth': 83.02002240538549}. Best is trial 18 with value: 0.7491072851904989.\u001b[0m\n",
            "\u001b[32m[I 2021-04-26 13:40:43,507]\u001b[0m Trial 30 finished with value: 0.7442053244061851 and parameters: {'classifier': 'RandomForest', 'n_estimators': 1260, 'max_depth': 24.97303850152109}. Best is trial 18 with value: 0.7491072851904989.\u001b[0m\n",
            "\u001b[32m[I 2021-04-26 13:40:50,865]\u001b[0m Trial 31 finished with value: 0.7393193049577554 and parameters: {'classifier': 'RandomForest', 'n_estimators': 1540, 'max_depth': 38.73282673211441}. Best is trial 18 with value: 0.7491072851904989.\u001b[0m\n",
            "\u001b[32m[I 2021-04-26 13:40:57,552]\u001b[0m Trial 32 finished with value: 0.7491072851904989 and parameters: {'classifier': 'RandomForest', 'n_estimators': 1410, 'max_depth': 17.394917338861376}. Best is trial 18 with value: 0.7491072851904989.\u001b[0m\n",
            "\u001b[32m[I 2021-04-26 13:41:03,910]\u001b[0m Trial 33 finished with value: 0.749099314522557 and parameters: {'classifier': 'RandomForest', 'n_estimators': 1350, 'max_depth': 14.658073506245374}. Best is trial 18 with value: 0.7491072851904989.\u001b[0m\n",
            "\u001b[32m[I 2021-04-26 13:41:10,251]\u001b[0m Trial 34 finished with value: 0.7360593017694882 and parameters: {'classifier': 'RandomForest', 'n_estimators': 1330, 'max_depth': 17.10117940590875}. Best is trial 18 with value: 0.7491072851904989.\u001b[0m\n",
            "\u001b[32m[I 2021-04-26 13:41:16,980]\u001b[0m Trial 35 finished with value: 0.7458472820022317 and parameters: {'classifier': 'RandomForest', 'n_estimators': 1430, 'max_depth': 14.496885867353253}. Best is trial 18 with value: 0.7491072851904989.\u001b[0m\n",
            "\u001b[32m[I 2021-04-26 13:41:23,555]\u001b[0m Trial 36 finished with value: 0.7474573569265104 and parameters: {'classifier': 'RandomForest', 'n_estimators': 1400, 'max_depth': 10.893804300245916}. Best is trial 18 with value: 0.7491072851904989.\u001b[0m\n",
            "\u001b[32m[I 2021-04-26 13:41:31,014]\u001b[0m Trial 37 finished with value: 0.7425793081460226 and parameters: {'classifier': 'RandomForest', 'n_estimators': 1580, 'max_depth': 18.46242345374661}. Best is trial 18 with value: 0.7491072851904989.\u001b[0m\n",
            "\u001b[32m[I 2021-04-26 13:41:36,705]\u001b[0m Trial 38 finished with value: 0.7393272756256973 and parameters: {'classifier': 'RandomForest', 'n_estimators': 1210, 'max_depth': 12.990348649797594}. Best is trial 18 with value: 0.7491072851904989.\u001b[0m\n",
            "\u001b[32m[I 2021-04-26 13:41:36,775]\u001b[0m Trial 39 finished with value: 0.6514666029013232 and parameters: {'classifier': 'SVC', 'svc_c': 5072724309.76558}. Best is trial 18 with value: 0.7491072851904989.\u001b[0m\n",
            "\u001b[32m[I 2021-04-26 13:41:44,982]\u001b[0m Trial 40 finished with value: 0.7491072851904989 and parameters: {'classifier': 'RandomForest', 'n_estimators': 1730, 'max_depth': 12.478569640320371}. Best is trial 18 with value: 0.7491072851904989.\u001b[0m\n",
            "\u001b[32m[I 2021-04-26 13:41:53,331]\u001b[0m Trial 41 finished with value: 0.7409612625538019 and parameters: {'classifier': 'RandomForest', 'n_estimators': 1770, 'max_depth': 12.579987778638044}. Best is trial 18 with value: 0.7491072851904989.\u001b[0m\n",
            "\u001b[32m[I 2021-04-26 13:42:00,060]\u001b[0m Trial 42 finished with value: 0.74095329188586 and parameters: {'classifier': 'RandomForest', 'n_estimators': 1440, 'max_depth': 10.337448289056093}. Best is trial 18 with value: 0.7491072851904989.\u001b[0m\n",
            "\u001b[32m[I 2021-04-26 13:42:08,084]\u001b[0m Trial 43 finished with value: 0.7507253307827195 and parameters: {'classifier': 'RandomForest', 'n_estimators': 1680, 'max_depth': 13.076219282327742}. Best is trial 43 with value: 0.7507253307827195.\u001b[0m\n",
            "\u001b[32m[I 2021-04-26 13:42:16,316]\u001b[0m Trial 44 finished with value: 0.740945321217918 and parameters: {'classifier': 'RandomForest', 'n_estimators': 1740, 'max_depth': 12.821657418882769}. Best is trial 43 with value: 0.7507253307827195.\u001b[0m\n",
            "\u001b[32m[I 2021-04-26 13:42:25,074]\u001b[0m Trial 45 finished with value: 0.7458393113342897 and parameters: {'classifier': 'RandomForest', 'n_estimators': 1850, 'max_depth': 16.787226171410303}. Best is trial 43 with value: 0.7507253307827195.\u001b[0m\n",
            "\u001b[32m[I 2021-04-26 13:42:25,147]\u001b[0m Trial 46 finished with value: 0.6514666029013232 and parameters: {'classifier': 'SVC', 'svc_c': 5.311394981700596}. Best is trial 43 with value: 0.7507253307827195.\u001b[0m\n",
            "\u001b[32m[I 2021-04-26 13:42:34,576]\u001b[0m Trial 47 finished with value: 0.7425793081460226 and parameters: {'classifier': 'RandomForest', 'n_estimators': 1960, 'max_depth': 11.477168466433236}. Best is trial 43 with value: 0.7507253307827195.\u001b[0m\n",
            "\u001b[32m[I 2021-04-26 13:42:42,593]\u001b[0m Trial 48 finished with value: 0.7393352462936393 and parameters: {'classifier': 'RandomForest', 'n_estimators': 1670, 'max_depth': 18.788352849404536}. Best is trial 43 with value: 0.7507253307827195.\u001b[0m\n",
            "\u001b[32m[I 2021-04-26 13:42:49,840]\u001b[0m Trial 49 finished with value: 0.7425793081460226 and parameters: {'classifier': 'RandomForest', 'n_estimators': 1510, 'max_depth': 14.754839677288286}. Best is trial 43 with value: 0.7507253307827195.\u001b[0m\n",
            "\u001b[32m[I 2021-04-26 13:42:56,078]\u001b[0m Trial 50 finished with value: 0.7425793081460226 and parameters: {'classifier': 'RandomForest', 'n_estimators': 1330, 'max_depth': 10.055598011288039}. Best is trial 43 with value: 0.7507253307827195.\u001b[0m\n",
            "\u001b[32m[I 2021-04-26 13:43:03,918]\u001b[0m Trial 51 finished with value: 0.74095329188586 and parameters: {'classifier': 'RandomForest', 'n_estimators': 1660, 'max_depth': 12.347632466318933}. Best is trial 43 with value: 0.7507253307827195.\u001b[0m\n",
            "\u001b[32m[I 2021-04-26 13:43:12,613]\u001b[0m Trial 52 finished with value: 0.749091343854615 and parameters: {'classifier': 'RandomForest', 'n_estimators': 1840, 'max_depth': 15.442224778641606}. Best is trial 43 with value: 0.7507253307827195.\u001b[0m\n",
            "\u001b[32m[I 2021-04-26 13:43:19,813]\u001b[0m Trial 53 finished with value: 0.7409612625538019 and parameters: {'classifier': 'RandomForest', 'n_estimators': 1530, 'max_depth': 20.617514945565507}. Best is trial 43 with value: 0.7507253307827195.\u001b[0m\n",
            "\u001b[32m[I 2021-04-26 13:43:28,763]\u001b[0m Trial 54 finished with value: 0.74095329188586 and parameters: {'classifier': 'RandomForest', 'n_estimators': 1880, 'max_depth': 16.398336803816136}. Best is trial 43 with value: 0.7507253307827195.\u001b[0m\n",
            "\u001b[32m[I 2021-04-26 13:43:34,524]\u001b[0m Trial 55 finished with value: 0.7425952494819065 and parameters: {'classifier': 'RandomForest', 'n_estimators': 1200, 'max_depth': 14.015238383534227}. Best is trial 43 with value: 0.7507253307827195.\u001b[0m\n",
            "\u001b[32m[I 2021-04-26 13:43:42,787]\u001b[0m Trial 56 finished with value: 0.7458472820022317 and parameters: {'classifier': 'RandomForest', 'n_estimators': 1730, 'max_depth': 22.81365598267652}. Best is trial 43 with value: 0.7507253307827195.\u001b[0m\n",
            "\u001b[32m[I 2021-04-26 13:43:42,840]\u001b[0m Trial 57 finished with value: 0.6514666029013232 and parameters: {'classifier': 'SVC', 'svc_c': 1.464898012051858e-10}. Best is trial 43 with value: 0.7507253307827195.\u001b[0m\n",
            "\u001b[32m[I 2021-04-26 13:43:49,375]\u001b[0m Trial 58 finished with value: 0.7393352462936393 and parameters: {'classifier': 'RandomForest', 'n_estimators': 1370, 'max_depth': 11.456387608856097}. Best is trial 43 with value: 0.7507253307827195.\u001b[0m\n",
            "\u001b[32m[I 2021-04-26 13:43:56,943]\u001b[0m Trial 59 finished with value: 0.7474732982623943 and parameters: {'classifier': 'RandomForest', 'n_estimators': 1600, 'max_depth': 18.56850278049881}. Best is trial 43 with value: 0.7507253307827195.\u001b[0m\n",
            "\u001b[32m[I 2021-04-26 13:44:03,919]\u001b[0m Trial 60 finished with value: 0.7393193049577554 and parameters: {'classifier': 'RandomForest', 'n_estimators': 1470, 'max_depth': 25.195026054996593}. Best is trial 43 with value: 0.7507253307827195.\u001b[0m\n",
            "\u001b[32m[I 2021-04-26 13:44:12,860]\u001b[0m Trial 61 finished with value: 0.7425952494819065 and parameters: {'classifier': 'RandomForest', 'n_estimators': 1840, 'max_depth': 15.678341028818934}. Best is trial 43 with value: 0.7507253307827195.\u001b[0m\n",
            "\u001b[32m[I 2021-04-26 13:44:18,784]\u001b[0m Trial 62 finished with value: 0.7425793081460226 and parameters: {'classifier': 'RandomForest', 'n_estimators': 1260, 'max_depth': 14.202957831509579}. Best is trial 43 with value: 0.7507253307827195.\u001b[0m\n",
            "\u001b[32m[I 2021-04-26 13:44:28,224]\u001b[0m Trial 63 finished with value: 0.7409692332217439 and parameters: {'classifier': 'RandomForest', 'n_estimators': 1990, 'max_depth': 13.414111159619711}. Best is trial 43 with value: 0.7507253307827195.\u001b[0m\n",
            "\u001b[32m[I 2021-04-26 13:44:33,108]\u001b[0m Trial 64 finished with value: 0.7442053244061851 and parameters: {'classifier': 'RandomForest', 'n_estimators': 1040, 'max_depth': 30.164635594461473}. Best is trial 43 with value: 0.7507253307827195.\u001b[0m\n",
            "\u001b[32m[I 2021-04-26 13:44:41,711]\u001b[0m Trial 65 finished with value: 0.7409612625538019 and parameters: {'classifier': 'RandomForest', 'n_estimators': 1810, 'max_depth': 15.29721818370733}. Best is trial 43 with value: 0.7507253307827195.\u001b[0m\n",
            "\u001b[32m[I 2021-04-26 13:44:49,870]\u001b[0m Trial 66 finished with value: 0.7441973537382433 and parameters: {'classifier': 'RandomForest', 'n_estimators': 1700, 'max_depth': 11.503278154041904}. Best is trial 43 with value: 0.7507253307827195.\u001b[0m\n",
            "\u001b[32m[I 2021-04-26 13:44:57,649]\u001b[0m Trial 67 finished with value: 0.7425952494819065 and parameters: {'classifier': 'RandomForest', 'n_estimators': 1630, 'max_depth': 44.78811991366263}. Best is trial 43 with value: 0.7507253307827195.\u001b[0m\n",
            "\u001b[32m[I 2021-04-26 13:45:07,122]\u001b[0m Trial 68 finished with value: 0.7393193049577554 and parameters: {'classifier': 'RandomForest', 'n_estimators': 1950, 'max_depth': 18.228634383128753}. Best is trial 43 with value: 0.7507253307827195.\u001b[0m\n",
            "\u001b[32m[I 2021-04-26 13:45:08,504]\u001b[0m Trial 69 finished with value: 0.7442132950741271 and parameters: {'classifier': 'RandomForest', 'n_estimators': 280, 'max_depth': 20.70946515834236}. Best is trial 43 with value: 0.7507253307827195.\u001b[0m\n",
            "\u001b[32m[I 2021-04-26 13:45:15,938]\u001b[0m Trial 70 finished with value: 0.7409612625538019 and parameters: {'classifier': 'RandomForest', 'n_estimators': 1570, 'max_depth': 55.877883603945754}. Best is trial 43 with value: 0.7507253307827195.\u001b[0m\n",
            "\u001b[32m[I 2021-04-26 13:45:23,562]\u001b[0m Trial 71 finished with value: 0.7474653275944524 and parameters: {'classifier': 'RandomForest', 'n_estimators': 1610, 'max_depth': 17.329396229495284}. Best is trial 43 with value: 0.7507253307827195.\u001b[0m\n",
            "\u001b[32m[I 2021-04-26 13:45:30,533]\u001b[0m Trial 72 finished with value: 0.7458472820022317 and parameters: {'classifier': 'RandomForest', 'n_estimators': 1480, 'max_depth': 19.10338964746874}. Best is trial 43 with value: 0.7507253307827195.\u001b[0m\n",
            "\u001b[32m[I 2021-04-26 13:45:37,120]\u001b[0m Trial 73 finished with value: 0.7409612625538019 and parameters: {'classifier': 'RandomForest', 'n_estimators': 1380, 'max_depth': 15.99147186016062}. Best is trial 43 with value: 0.7507253307827195.\u001b[0m\n",
            "\u001b[32m[I 2021-04-26 13:45:45,545]\u001b[0m Trial 74 finished with value: 0.7425713374780806 and parameters: {'classifier': 'RandomForest', 'n_estimators': 1790, 'max_depth': 26.694366902561043}. Best is trial 43 with value: 0.7507253307827195.\u001b[0m\n",
            "\u001b[32m[I 2021-04-26 13:45:53,050]\u001b[0m Trial 75 finished with value: 0.7425952494819065 and parameters: {'classifier': 'RandomForest', 'n_estimators': 1590, 'max_depth': 22.291494482286243}. Best is trial 43 with value: 0.7507253307827195.\u001b[0m\n",
            "\u001b[32m[I 2021-04-26 13:46:02,005]\u001b[0m Trial 76 finished with value: 0.7458393113342897 and parameters: {'classifier': 'RandomForest', 'n_estimators': 1910, 'max_depth': 32.5969113027389}. Best is trial 43 with value: 0.7507253307827195.\u001b[0m\n",
            "\u001b[32m[I 2021-04-26 13:46:02,078]\u001b[0m Trial 77 finished with value: 0.6514666029013232 and parameters: {'classifier': 'SVC', 'svc_c': 10.190586174458042}. Best is trial 43 with value: 0.7507253307827195.\u001b[0m\n",
            "\u001b[32m[I 2021-04-26 13:46:10,140]\u001b[0m Trial 78 finished with value: 0.7442132950741271 and parameters: {'classifier': 'RandomForest', 'n_estimators': 1690, 'max_depth': 11.970650613629974}. Best is trial 43 with value: 0.7507253307827195.\u001b[0m\n",
            "\u001b[32m[I 2021-04-26 13:46:13,113]\u001b[0m Trial 79 finished with value: 0.7425793081460226 and parameters: {'classifier': 'RandomForest', 'n_estimators': 620, 'max_depth': 85.43789630396952}. Best is trial 43 with value: 0.7507253307827195.\u001b[0m\n",
            "\u001b[32m[I 2021-04-26 13:46:17,216]\u001b[0m Trial 80 finished with value: 0.7425713374780806 and parameters: {'classifier': 'RandomForest', 'n_estimators': 870, 'max_depth': 77.77101850166623}. Best is trial 43 with value: 0.7507253307827195.\u001b[0m\n",
            "\u001b[32m[I 2021-04-26 13:46:20,767]\u001b[0m Trial 81 finished with value: 0.7507173601147775 and parameters: {'classifier': 'RandomForest', 'n_estimators': 750, 'max_depth': 90.21791403812354}. Best is trial 43 with value: 0.7507253307827195.\u001b[0m\n",
            "\u001b[32m[I 2021-04-26 13:46:24,092]\u001b[0m Trial 82 finished with value: 0.7360752431053722 and parameters: {'classifier': 'RandomForest', 'n_estimators': 690, 'max_depth': 93.39327370356176}. Best is trial 43 with value: 0.7507253307827195.\u001b[0m\n",
            "\u001b[32m[I 2021-04-26 13:46:26,633]\u001b[0m Trial 83 finished with value: 0.74095329188586 and parameters: {'classifier': 'RandomForest', 'n_estimators': 540, 'max_depth': 95.47882643981856}. Best is trial 43 with value: 0.7507253307827195.\u001b[0m\n",
            "\u001b[32m[I 2021-04-26 13:46:28,279]\u001b[0m Trial 84 finished with value: 0.7442212657420691 and parameters: {'classifier': 'RandomForest', 'n_estimators': 340, 'max_depth': 68.82968656870602}. Best is trial 43 with value: 0.7507253307827195.\u001b[0m\n",
            "\u001b[32m[I 2021-04-26 13:46:32,990]\u001b[0m Trial 85 finished with value: 0.7458393113342897 and parameters: {'classifier': 'RandomForest', 'n_estimators': 1000, 'max_depth': 90.07842009354376}. Best is trial 43 with value: 0.7507253307827195.\u001b[0m\n",
            "\u001b[32m[I 2021-04-26 13:46:40,131]\u001b[0m Trial 86 finished with value: 0.7442132950741271 and parameters: {'classifier': 'RandomForest', 'n_estimators': 1500, 'max_depth': 13.624124848166105}. Best is trial 43 with value: 0.7507253307827195.\u001b[0m\n",
            "\u001b[32m[I 2021-04-26 13:46:46,317]\u001b[0m Trial 87 finished with value: 0.7474812689303363 and parameters: {'classifier': 'RandomForest', 'n_estimators': 1300, 'max_depth': 14.886648929628665}. Best is trial 43 with value: 0.7507253307827195.\u001b[0m\n",
            "\u001b[32m[I 2021-04-26 13:46:52,455]\u001b[0m Trial 88 finished with value: 0.7474493862585684 and parameters: {'classifier': 'RandomForest', 'n_estimators': 1300, 'max_depth': 14.798799589225032}. Best is trial 43 with value: 0.7507253307827195.\u001b[0m\n",
            "\u001b[32m[I 2021-04-26 13:46:58,017]\u001b[0m Trial 89 finished with value: 0.740945321217918 and parameters: {'classifier': 'RandomForest', 'n_estimators': 1190, 'max_depth': 10.969318701580738}. Best is trial 43 with value: 0.7507253307827195.\u001b[0m\n",
            "\u001b[32m[I 2021-04-26 13:47:04,796]\u001b[0m Trial 90 finished with value: 0.7523433763749402 and parameters: {'classifier': 'RandomForest', 'n_estimators': 1430, 'max_depth': 13.112747031654637}. Best is trial 90 with value: 0.7523433763749402.\u001b[0m\n",
            "\u001b[32m[I 2021-04-26 13:47:11,528]\u001b[0m Trial 91 finished with value: 0.7441893830703012 and parameters: {'classifier': 'RandomForest', 'n_estimators': 1420, 'max_depth': 12.92297869591667}. Best is trial 90 with value: 0.7523433763749402.\u001b[0m\n",
            "\u001b[32m[I 2021-04-26 13:47:17,463]\u001b[0m Trial 92 finished with value: 0.7344412561772676 and parameters: {'classifier': 'RandomForest', 'n_estimators': 1270, 'max_depth': 37.44404803809684}. Best is trial 90 with value: 0.7523433763749402.\u001b[0m\n",
            "\u001b[32m[I 2021-04-26 13:47:24,284]\u001b[0m Trial 93 finished with value: 0.7425793081460226 and parameters: {'classifier': 'RandomForest', 'n_estimators': 1440, 'max_depth': 12.140486956703276}. Best is trial 90 with value: 0.7523433763749402.\u001b[0m\n",
            "\u001b[32m[I 2021-04-26 13:47:29,603]\u001b[0m Trial 94 finished with value: 0.7474732982623943 and parameters: {'classifier': 'RandomForest', 'n_estimators': 1120, 'max_depth': 13.58614759471553}. Best is trial 90 with value: 0.7523433763749402.\u001b[0m\n",
            "\u001b[32m[I 2021-04-26 13:47:36,052]\u001b[0m Trial 95 finished with value: 0.7474653275944524 and parameters: {'classifier': 'RandomForest', 'n_estimators': 1350, 'max_depth': 15.236097126107985}. Best is trial 90 with value: 0.7523433763749402.\u001b[0m\n",
            "\u001b[32m[I 2021-04-26 13:47:39,621]\u001b[0m Trial 96 finished with value: 0.7425793081460226 and parameters: {'classifier': 'RandomForest', 'n_estimators': 750, 'max_depth': 16.638135541756647}. Best is trial 90 with value: 0.7523433763749402.\u001b[0m\n",
            "\u001b[32m[I 2021-04-26 13:47:39,675]\u001b[0m Trial 97 finished with value: 0.6514666029013232 and parameters: {'classifier': 'SVC', 'svc_c': 3.3665041708779e-05}. Best is trial 90 with value: 0.7523433763749402.\u001b[0m\n",
            "\u001b[32m[I 2021-04-26 13:47:45,864]\u001b[0m Trial 98 finished with value: 0.7393193049577554 and parameters: {'classifier': 'RandomForest', 'n_estimators': 1290, 'max_depth': 17.540398172766984}. Best is trial 90 with value: 0.7523433763749402.\u001b[0m\n",
            "\u001b[32m[I 2021-04-26 13:47:51,759]\u001b[0m Trial 99 finished with value: 0.7393272756256973 and parameters: {'classifier': 'RandomForest', 'n_estimators': 1230, 'max_depth': 13.164081577637706}. Best is trial 90 with value: 0.7523433763749402.\u001b[0m\n"
          ],
          "name": "stderr"
        },
        {
          "output_type": "stream",
          "text": [
            "Accuracy: 0.7523433763749402\n",
            "Best hyperparameters: {'classifier': 'RandomForest', 'n_estimators': 1430, 'max_depth': 13.112747031654637}\n"
          ],
          "name": "stdout"
        }
      ]
    },
    {
      "cell_type": "code",
      "metadata": {
        "colab": {
          "base_uri": "https://localhost:8080/"
        },
        "id": "SSesrpMiZy6Z",
        "outputId": "9638039c-6697-4105-b1bd-9d1833e92750"
      },
      "source": [
        "\n",
        "study.best_params"
      ],
      "execution_count": 77,
      "outputs": [
        {
          "output_type": "execute_result",
          "data": {
            "text/plain": [
              "{'classifier': 'RandomForest',\n",
              " 'max_depth': 13.112747031654637,\n",
              " 'n_estimators': 1430}"
            ]
          },
          "metadata": {
            "tags": []
          },
          "execution_count": 77
        }
      ]
    },
    {
      "cell_type": "code",
      "metadata": {
        "colab": {
          "base_uri": "https://localhost:8080/"
        },
        "id": "fxrsztJDcPCh",
        "outputId": "4b610f8f-e70a-4066-8b53-820a2248abee"
      },
      "source": [
        "rf=RandomForestClassifier(n_estimators=1430,max_depth=13)\n",
        "rf.fit(X_train,y_train)"
      ],
      "execution_count": 78,
      "outputs": [
        {
          "output_type": "execute_result",
          "data": {
            "text/plain": [
              "RandomForestClassifier(bootstrap=True, ccp_alpha=0.0, class_weight=None,\n",
              "                       criterion='gini', max_depth=13, max_features='auto',\n",
              "                       max_leaf_nodes=None, max_samples=None,\n",
              "                       min_impurity_decrease=0.0, min_impurity_split=None,\n",
              "                       min_samples_leaf=1, min_samples_split=2,\n",
              "                       min_weight_fraction_leaf=0.0, n_estimators=1430,\n",
              "                       n_jobs=None, oob_score=False, random_state=None,\n",
              "                       verbose=0, warm_start=False)"
            ]
          },
          "metadata": {
            "tags": []
          },
          "execution_count": 78
        }
      ]
    },
    {
      "cell_type": "code",
      "metadata": {
        "colab": {
          "base_uri": "https://localhost:8080/"
        },
        "id": "mFG3zD8icaJI",
        "outputId": "a7178d23-eee7-4916-b0ae-471ed6796164"
      },
      "source": [
        "\n",
        "y_pred=rf.predict(X_test)\n",
        "print(confusion_matrix(y_test,y_pred))\n",
        "print(accuracy_score(y_test,y_pred))\n",
        "print(classification_report(y_test,y_pred))"
      ],
      "execution_count": 79,
      "outputs": [
        {
          "output_type": "stream",
          "text": [
            "[[83 17]\n",
            " [17 37]]\n",
            "0.7792207792207793\n",
            "              precision    recall  f1-score   support\n",
            "\n",
            "           0       0.83      0.83      0.83       100\n",
            "           1       0.69      0.69      0.69        54\n",
            "\n",
            "    accuracy                           0.78       154\n",
            "   macro avg       0.76      0.76      0.76       154\n",
            "weighted avg       0.78      0.78      0.78       154\n",
            "\n"
          ],
          "name": "stdout"
        }
      ]
    },
    {
      "cell_type": "code",
      "metadata": {
        "id": "w7IErKMwcdnP"
      },
      "source": [
        ""
      ],
      "execution_count": null,
      "outputs": []
    }
  ]
}