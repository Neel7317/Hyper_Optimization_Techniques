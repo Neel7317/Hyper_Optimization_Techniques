{
  "nbformat": 4,
  "nbformat_minor": 0,
  "metadata": {
    "colab": {
      "name": "RandomSearchCV&GrideSearchCV.ipynb",
      "provenance": [],
      "authorship_tag": "ABX9TyMDgmu5o7tydc4ySr5HmTqA",
      "include_colab_link": true
    },
    "kernelspec": {
      "name": "python3",
      "display_name": "Python 3"
    },
    "language_info": {
      "name": "python"
    }
  },
  "cells": [
    {
      "cell_type": "markdown",
      "metadata": {
        "id": "view-in-github",
        "colab_type": "text"
      },
      "source": [
        "<a href=\"https://colab.research.google.com/github/Neel7317/Hyper_Optimization_Techniques/blob/main/RandomSearchCV%26GrideSearchCV.ipynb\" target=\"_parent\"><img src=\"https://colab.research.google.com/assets/colab-badge.svg\" alt=\"Open In Colab\"/></a>"
      ]
    },
    {
      "cell_type": "code",
      "metadata": {
        "id": "cxHa4Sh8jGFw"
      },
      "source": [
        "import pandas as pd\n"
      ],
      "execution_count": 1,
      "outputs": []
    },
    {
      "cell_type": "code",
      "metadata": {
        "id": "3PGZ8n3jkYRO"
      },
      "source": [
        "df=pd.read_csv('diabetes.csv')"
      ],
      "execution_count": 14,
      "outputs": []
    },
    {
      "cell_type": "code",
      "metadata": {
        "colab": {
          "base_uri": "https://localhost:8080/",
          "height": 195
        },
        "id": "jvw4QX5akjUI",
        "outputId": "e57a45dd-9466-4dd7-f911-0da596397857"
      },
      "source": [
        "df.head()"
      ],
      "execution_count": 15,
      "outputs": [
        {
          "output_type": "execute_result",
          "data": {
            "text/html": [
              "<div>\n",
              "<style scoped>\n",
              "    .dataframe tbody tr th:only-of-type {\n",
              "        vertical-align: middle;\n",
              "    }\n",
              "\n",
              "    .dataframe tbody tr th {\n",
              "        vertical-align: top;\n",
              "    }\n",
              "\n",
              "    .dataframe thead th {\n",
              "        text-align: right;\n",
              "    }\n",
              "</style>\n",
              "<table border=\"1\" class=\"dataframe\">\n",
              "  <thead>\n",
              "    <tr style=\"text-align: right;\">\n",
              "      <th></th>\n",
              "      <th>Pregnancies</th>\n",
              "      <th>Glucose</th>\n",
              "      <th>BloodPressure</th>\n",
              "      <th>SkinThickness</th>\n",
              "      <th>Insulin</th>\n",
              "      <th>BMI</th>\n",
              "      <th>DiabetesPedigreeFunction</th>\n",
              "      <th>Age</th>\n",
              "      <th>Outcome</th>\n",
              "    </tr>\n",
              "  </thead>\n",
              "  <tbody>\n",
              "    <tr>\n",
              "      <th>0</th>\n",
              "      <td>6</td>\n",
              "      <td>148</td>\n",
              "      <td>72</td>\n",
              "      <td>35</td>\n",
              "      <td>0</td>\n",
              "      <td>33.6</td>\n",
              "      <td>0.627</td>\n",
              "      <td>50</td>\n",
              "      <td>1</td>\n",
              "    </tr>\n",
              "    <tr>\n",
              "      <th>1</th>\n",
              "      <td>1</td>\n",
              "      <td>85</td>\n",
              "      <td>66</td>\n",
              "      <td>29</td>\n",
              "      <td>0</td>\n",
              "      <td>26.6</td>\n",
              "      <td>0.351</td>\n",
              "      <td>31</td>\n",
              "      <td>0</td>\n",
              "    </tr>\n",
              "    <tr>\n",
              "      <th>2</th>\n",
              "      <td>8</td>\n",
              "      <td>183</td>\n",
              "      <td>64</td>\n",
              "      <td>0</td>\n",
              "      <td>0</td>\n",
              "      <td>23.3</td>\n",
              "      <td>0.672</td>\n",
              "      <td>32</td>\n",
              "      <td>1</td>\n",
              "    </tr>\n",
              "    <tr>\n",
              "      <th>3</th>\n",
              "      <td>1</td>\n",
              "      <td>89</td>\n",
              "      <td>66</td>\n",
              "      <td>23</td>\n",
              "      <td>94</td>\n",
              "      <td>28.1</td>\n",
              "      <td>0.167</td>\n",
              "      <td>21</td>\n",
              "      <td>0</td>\n",
              "    </tr>\n",
              "    <tr>\n",
              "      <th>4</th>\n",
              "      <td>0</td>\n",
              "      <td>137</td>\n",
              "      <td>40</td>\n",
              "      <td>35</td>\n",
              "      <td>168</td>\n",
              "      <td>43.1</td>\n",
              "      <td>2.288</td>\n",
              "      <td>33</td>\n",
              "      <td>1</td>\n",
              "    </tr>\n",
              "  </tbody>\n",
              "</table>\n",
              "</div>"
            ],
            "text/plain": [
              "   Pregnancies  Glucose  BloodPressure  ...  DiabetesPedigreeFunction  Age  Outcome\n",
              "0            6      148             72  ...                     0.627   50        1\n",
              "1            1       85             66  ...                     0.351   31        0\n",
              "2            8      183             64  ...                     0.672   32        1\n",
              "3            1       89             66  ...                     0.167   21        0\n",
              "4            0      137             40  ...                     2.288   33        1\n",
              "\n",
              "[5 rows x 9 columns]"
            ]
          },
          "metadata": {
            "tags": []
          },
          "execution_count": 15
        }
      ]
    },
    {
      "cell_type": "code",
      "metadata": {
        "id": "b5ABaVHhlA4u"
      },
      "source": [
        "#fill 0 with mean of that columns\n",
        "import numpy as np\n"
      ],
      "execution_count": 16,
      "outputs": []
    },
    {
      "cell_type": "code",
      "metadata": {
        "id": "Ua39X4vXlHoQ"
      },
      "source": [
        "df['Insulin']=np.where(df['Insulin']==0,df['Insulin'].median(),df['Insulin'])\n",
        "df['Glucose']=np.where(df['Glucose']==0,df['Glucose'].median(),df['Glucose'])\n",
        "df['SkinThickness']=np.where(df['SkinThickness']==0,df['SkinThickness'].median(),df['SkinThickness'])"
      ],
      "execution_count": 21,
      "outputs": []
    },
    {
      "cell_type": "code",
      "metadata": {
        "colab": {
          "base_uri": "https://localhost:8080/",
          "height": 195
        },
        "id": "vAOQ6oUxmI2Y",
        "outputId": "b181fc4e-7ee3-418f-f438-8a8d4e0c6347"
      },
      "source": [
        "df.head()"
      ],
      "execution_count": 22,
      "outputs": [
        {
          "output_type": "execute_result",
          "data": {
            "text/html": [
              "<div>\n",
              "<style scoped>\n",
              "    .dataframe tbody tr th:only-of-type {\n",
              "        vertical-align: middle;\n",
              "    }\n",
              "\n",
              "    .dataframe tbody tr th {\n",
              "        vertical-align: top;\n",
              "    }\n",
              "\n",
              "    .dataframe thead th {\n",
              "        text-align: right;\n",
              "    }\n",
              "</style>\n",
              "<table border=\"1\" class=\"dataframe\">\n",
              "  <thead>\n",
              "    <tr style=\"text-align: right;\">\n",
              "      <th></th>\n",
              "      <th>Pregnancies</th>\n",
              "      <th>Glucose</th>\n",
              "      <th>BloodPressure</th>\n",
              "      <th>SkinThickness</th>\n",
              "      <th>Insulin</th>\n",
              "      <th>BMI</th>\n",
              "      <th>DiabetesPedigreeFunction</th>\n",
              "      <th>Age</th>\n",
              "      <th>Outcome</th>\n",
              "    </tr>\n",
              "  </thead>\n",
              "  <tbody>\n",
              "    <tr>\n",
              "      <th>0</th>\n",
              "      <td>6</td>\n",
              "      <td>148.0</td>\n",
              "      <td>72</td>\n",
              "      <td>35.0</td>\n",
              "      <td>30.5</td>\n",
              "      <td>33.6</td>\n",
              "      <td>0.627</td>\n",
              "      <td>50</td>\n",
              "      <td>1</td>\n",
              "    </tr>\n",
              "    <tr>\n",
              "      <th>1</th>\n",
              "      <td>1</td>\n",
              "      <td>85.0</td>\n",
              "      <td>66</td>\n",
              "      <td>29.0</td>\n",
              "      <td>30.5</td>\n",
              "      <td>26.6</td>\n",
              "      <td>0.351</td>\n",
              "      <td>31</td>\n",
              "      <td>0</td>\n",
              "    </tr>\n",
              "    <tr>\n",
              "      <th>2</th>\n",
              "      <td>8</td>\n",
              "      <td>183.0</td>\n",
              "      <td>64</td>\n",
              "      <td>23.0</td>\n",
              "      <td>30.5</td>\n",
              "      <td>23.3</td>\n",
              "      <td>0.672</td>\n",
              "      <td>32</td>\n",
              "      <td>1</td>\n",
              "    </tr>\n",
              "    <tr>\n",
              "      <th>3</th>\n",
              "      <td>1</td>\n",
              "      <td>89.0</td>\n",
              "      <td>66</td>\n",
              "      <td>23.0</td>\n",
              "      <td>94.0</td>\n",
              "      <td>28.1</td>\n",
              "      <td>0.167</td>\n",
              "      <td>21</td>\n",
              "      <td>0</td>\n",
              "    </tr>\n",
              "    <tr>\n",
              "      <th>4</th>\n",
              "      <td>0</td>\n",
              "      <td>137.0</td>\n",
              "      <td>40</td>\n",
              "      <td>35.0</td>\n",
              "      <td>168.0</td>\n",
              "      <td>43.1</td>\n",
              "      <td>2.288</td>\n",
              "      <td>33</td>\n",
              "      <td>1</td>\n",
              "    </tr>\n",
              "  </tbody>\n",
              "</table>\n",
              "</div>"
            ],
            "text/plain": [
              "   Pregnancies  Glucose  BloodPressure  ...  DiabetesPedigreeFunction  Age  Outcome\n",
              "0            6    148.0             72  ...                     0.627   50        1\n",
              "1            1     85.0             66  ...                     0.351   31        0\n",
              "2            8    183.0             64  ...                     0.672   32        1\n",
              "3            1     89.0             66  ...                     0.167   21        0\n",
              "4            0    137.0             40  ...                     2.288   33        1\n",
              "\n",
              "[5 rows x 9 columns]"
            ]
          },
          "metadata": {
            "tags": []
          },
          "execution_count": 22
        }
      ]
    },
    {
      "cell_type": "code",
      "metadata": {
        "id": "GnhNb6ZQmKK8"
      },
      "source": [
        "from sklearn.model_selection import train_test_split"
      ],
      "execution_count": 23,
      "outputs": []
    },
    {
      "cell_type": "code",
      "metadata": {
        "id": "EoUKiEygrBuS"
      },
      "source": [
        "X_train,X_test,y_train,y_test=train_test_split(df.drop('Outcome',axis=1),df['Outcome'],test_size=0.2,random_state=2)"
      ],
      "execution_count": 24,
      "outputs": []
    },
    {
      "cell_type": "code",
      "metadata": {
        "id": "CBdJHgVPrtG5"
      },
      "source": [
        "from sklearn.ensemble import RandomForestClassifier"
      ],
      "execution_count": 25,
      "outputs": []
    },
    {
      "cell_type": "code",
      "metadata": {
        "id": "j3vimSxRr24a"
      },
      "source": [
        "rf=RandomForestClassifier(n_estimators=100,criterion='gini',max_depth=10,min_samples_split=3,min_samples_leaf=2)"
      ],
      "execution_count": 26,
      "outputs": []
    },
    {
      "cell_type": "code",
      "metadata": {
        "colab": {
          "base_uri": "https://localhost:8080/"
        },
        "id": "EVnblIYTsK4p",
        "outputId": "cbf2eefb-7cf5-4ee5-e3e2-102bba707771"
      },
      "source": [
        "rf.fit(X_train,y_train)"
      ],
      "execution_count": 27,
      "outputs": [
        {
          "output_type": "execute_result",
          "data": {
            "text/plain": [
              "RandomForestClassifier(bootstrap=True, ccp_alpha=0.0, class_weight=None,\n",
              "                       criterion='gini', max_depth=10, max_features='auto',\n",
              "                       max_leaf_nodes=None, max_samples=None,\n",
              "                       min_impurity_decrease=0.0, min_impurity_split=None,\n",
              "                       min_samples_leaf=2, min_samples_split=3,\n",
              "                       min_weight_fraction_leaf=0.0, n_estimators=100,\n",
              "                       n_jobs=None, oob_score=False, random_state=None,\n",
              "                       verbose=0, warm_start=False)"
            ]
          },
          "metadata": {
            "tags": []
          },
          "execution_count": 27
        }
      ]
    },
    {
      "cell_type": "code",
      "metadata": {
        "id": "pCs8uryTsSeu"
      },
      "source": [
        "y_pred=rf.predict(X_test)"
      ],
      "execution_count": 28,
      "outputs": []
    },
    {
      "cell_type": "code",
      "metadata": {
        "id": "VxWChhw7scWP"
      },
      "source": [
        "from sklearn.metrics import confusion_matrix,classification_report,accuracy_score"
      ],
      "execution_count": 29,
      "outputs": []
    },
    {
      "cell_type": "code",
      "metadata": {
        "colab": {
          "base_uri": "https://localhost:8080/"
        },
        "id": "K9IuvYwps-6H",
        "outputId": "e0aa2aef-7f84-4736-9da4-2fa02c24723d"
      },
      "source": [
        "print(confusion_matrix(y_test,y_pred))\n",
        "print(accuracy_score(y_test,y_pred))\n",
        "print(classification_report(y_test,y_pred))"
      ],
      "execution_count": 30,
      "outputs": [
        {
          "output_type": "stream",
          "text": [
            "[[91 18]\n",
            " [16 29]]\n",
            "0.7792207792207793\n",
            "              precision    recall  f1-score   support\n",
            "\n",
            "           0       0.85      0.83      0.84       109\n",
            "           1       0.62      0.64      0.63        45\n",
            "\n",
            "    accuracy                           0.78       154\n",
            "   macro avg       0.73      0.74      0.74       154\n",
            "weighted avg       0.78      0.78      0.78       154\n",
            "\n"
          ],
          "name": "stdout"
        }
      ]
    },
    {
      "cell_type": "markdown",
      "metadata": {
        "id": "tKNtUfyyuUkC"
      },
      "source": [
        "The main parameters used by a Random Forest Classifier are:\n",
        "\n",
        "criterion = the function used to evaluate the quality of a split.\n",
        "\n",
        "max_depth = maximum number of levels allowed in each tree.\n",
        "\n",
        "max_features = maximum number of features considered when splitting a node.\n",
        "\n",
        "min_samples_leaf = minimum number of samples which can be stored in a tree leaf.\n",
        "\n",
        "min_samples_split = minimum number of samples necessary in a node to cause node splitting.\n",
        "\n",
        "n_estimators = number of trees in the ensamble."
      ]
    },
    {
      "cell_type": "code",
      "metadata": {
        "id": "XcCwPerstS1h"
      },
      "source": [
        "#RandomSaerch CV implementation..."
      ],
      "execution_count": 31,
      "outputs": []
    },
    {
      "cell_type": "code",
      "metadata": {
        "colab": {
          "base_uri": "https://localhost:8080/"
        },
        "id": "gFSRTdQatZwQ",
        "outputId": "38f9b673-f23c-400f-a908-01f7e9243e51"
      },
      "source": [
        "### Manual Hyperparameter Tuning\n",
        "model=RandomForestClassifier(n_estimators=300,criterion='entropy',\n",
        "                             max_features='sqrt',min_samples_leaf=10,random_state=100).fit(X_train,y_train)\n",
        "predictions=model.predict(X_test)\n",
        "print(confusion_matrix(y_test,predictions))\n",
        "print(accuracy_score(y_test,predictions))\n",
        "print(classification_report(y_test,predictions))"
      ],
      "execution_count": 32,
      "outputs": [
        {
          "output_type": "stream",
          "text": [
            "[[95 14]\n",
            " [19 26]]\n",
            "0.7857142857142857\n",
            "              precision    recall  f1-score   support\n",
            "\n",
            "           0       0.83      0.87      0.85       109\n",
            "           1       0.65      0.58      0.61        45\n",
            "\n",
            "    accuracy                           0.79       154\n",
            "   macro avg       0.74      0.72      0.73       154\n",
            "weighted avg       0.78      0.79      0.78       154\n",
            "\n"
          ],
          "name": "stdout"
        }
      ]
    },
    {
      "cell_type": "code",
      "metadata": {
        "id": "j_ZXeXOZwqAU"
      },
      "source": [
        "from sklearn.model_selection import RandomizedSearchCV"
      ],
      "execution_count": 33,
      "outputs": []
    },
    {
      "cell_type": "code",
      "metadata": {
        "id": "lu6p6z8-xVW8"
      },
      "source": [
        "#For n_estimator for no of trees in randomforest\n",
        "n_estimators=[int(x) for x in np.linspace(100,1000,num=10)]\n",
        "#for criterion \n",
        "criterion=['gini','entropy','None']\n",
        "#max feature\n",
        "max_feature=[\"auto\",\"sqrt\",\"log2\"]\n",
        "#max depth\n",
        "max_depth=[int(x) for x in np.linspace(10,500,10)]\n",
        "# Minimum number of samples required to split a node\n",
        "min_samples_split = [2, 5, 10,14]\n",
        "# Minimum number of samples required at each leaf node\n",
        "min_samples_leaf = [1, 2, 4,6,8]\n"
      ],
      "execution_count": 36,
      "outputs": []
    },
    {
      "cell_type": "code",
      "metadata": {
        "id": "PXoOMzfzzr-h"
      },
      "source": [
        "#Random gride\n",
        "random_gride={\n",
        "    'n_estimators':n_estimators,\n",
        "    'criterion':criterion,\n",
        "    'max_features':max_feature,\n",
        "    'max_depth':max_depth,\n",
        "    'min_samples_split':min_samples_split,\n",
        "    'min_samples_leaf':min_samples_leaf\n",
        "}"
      ],
      "execution_count": 42,
      "outputs": []
    },
    {
      "cell_type": "code",
      "metadata": {
        "id": "86qF-kk50aE-"
      },
      "source": [
        "rdomsearch=RandomizedSearchCV(estimator=rf,param_distributions=random_gride,n_iter=100,cv=3,verbose=2)"
      ],
      "execution_count": 43,
      "outputs": []
    },
    {
      "cell_type": "code",
      "metadata": {
        "colab": {
          "base_uri": "https://localhost:8080/"
        },
        "id": "0vzwYW5_046m",
        "outputId": "55d75091-15b7-449d-fb1c-5db436517c22"
      },
      "source": [
        "rdomsearch.fit(X_train,y_train)"
      ],
      "execution_count": 44,
      "outputs": [
        {
          "output_type": "stream",
          "text": [
            "Fitting 3 folds for each of 100 candidates, totalling 300 fits\n",
            "[CV] n_estimators=1000, min_samples_split=14, min_samples_leaf=6, max_features=sqrt, max_depth=336, criterion=None \n"
          ],
          "name": "stdout"
        },
        {
          "output_type": "stream",
          "text": [
            "[Parallel(n_jobs=1)]: Using backend SequentialBackend with 1 concurrent workers.\n",
            "/usr/local/lib/python3.7/dist-packages/sklearn/model_selection/_validation.py:536: FitFailedWarning: Estimator fit failed. The score on this train-test partition for these parameters will be set to nan. Details: \n",
            "KeyError: 'None'\n",
            "\n",
            "  FitFailedWarning)\n",
            "[Parallel(n_jobs=1)]: Done   1 out of   1 | elapsed:    0.4s remaining:    0.0s\n"
          ],
          "name": "stderr"
        },
        {
          "output_type": "stream",
          "text": [
            "[CV]  n_estimators=1000, min_samples_split=14, min_samples_leaf=6, max_features=sqrt, max_depth=336, criterion=None, total=   0.4s\n",
            "[CV] n_estimators=1000, min_samples_split=14, min_samples_leaf=6, max_features=sqrt, max_depth=336, criterion=None \n"
          ],
          "name": "stdout"
        },
        {
          "output_type": "stream",
          "text": [
            "/usr/local/lib/python3.7/dist-packages/sklearn/model_selection/_validation.py:536: FitFailedWarning: Estimator fit failed. The score on this train-test partition for these parameters will be set to nan. Details: \n",
            "KeyError: 'None'\n",
            "\n",
            "  FitFailedWarning)\n"
          ],
          "name": "stderr"
        },
        {
          "output_type": "stream",
          "text": [
            "[CV]  n_estimators=1000, min_samples_split=14, min_samples_leaf=6, max_features=sqrt, max_depth=336, criterion=None, total=   0.4s\n",
            "[CV] n_estimators=1000, min_samples_split=14, min_samples_leaf=6, max_features=sqrt, max_depth=336, criterion=None \n"
          ],
          "name": "stdout"
        },
        {
          "output_type": "stream",
          "text": [
            "/usr/local/lib/python3.7/dist-packages/sklearn/model_selection/_validation.py:536: FitFailedWarning: Estimator fit failed. The score on this train-test partition for these parameters will be set to nan. Details: \n",
            "KeyError: 'None'\n",
            "\n",
            "  FitFailedWarning)\n"
          ],
          "name": "stderr"
        },
        {
          "output_type": "stream",
          "text": [
            "[CV]  n_estimators=1000, min_samples_split=14, min_samples_leaf=6, max_features=sqrt, max_depth=336, criterion=None, total=   0.4s\n",
            "[CV] n_estimators=1000, min_samples_split=2, min_samples_leaf=4, max_features=auto, max_depth=10, criterion=gini \n",
            "[CV]  n_estimators=1000, min_samples_split=2, min_samples_leaf=4, max_features=auto, max_depth=10, criterion=gini, total=   1.7s\n",
            "[CV] n_estimators=1000, min_samples_split=2, min_samples_leaf=4, max_features=auto, max_depth=10, criterion=gini \n",
            "[CV]  n_estimators=1000, min_samples_split=2, min_samples_leaf=4, max_features=auto, max_depth=10, criterion=gini, total=   1.7s\n",
            "[CV] n_estimators=1000, min_samples_split=2, min_samples_leaf=4, max_features=auto, max_depth=10, criterion=gini \n",
            "[CV]  n_estimators=1000, min_samples_split=2, min_samples_leaf=4, max_features=auto, max_depth=10, criterion=gini, total=   1.7s\n",
            "[CV] n_estimators=600, min_samples_split=10, min_samples_leaf=6, max_features=sqrt, max_depth=445, criterion=entropy \n",
            "[CV]  n_estimators=600, min_samples_split=10, min_samples_leaf=6, max_features=sqrt, max_depth=445, criterion=entropy, total=   1.1s\n",
            "[CV] n_estimators=600, min_samples_split=10, min_samples_leaf=6, max_features=sqrt, max_depth=445, criterion=entropy \n",
            "[CV]  n_estimators=600, min_samples_split=10, min_samples_leaf=6, max_features=sqrt, max_depth=445, criterion=entropy, total=   1.1s\n",
            "[CV] n_estimators=600, min_samples_split=10, min_samples_leaf=6, max_features=sqrt, max_depth=445, criterion=entropy \n",
            "[CV]  n_estimators=600, min_samples_split=10, min_samples_leaf=6, max_features=sqrt, max_depth=445, criterion=entropy, total=   1.1s\n",
            "[CV] n_estimators=600, min_samples_split=5, min_samples_leaf=8, max_features=log2, max_depth=336, criterion=None \n"
          ],
          "name": "stdout"
        },
        {
          "output_type": "stream",
          "text": [
            "/usr/local/lib/python3.7/dist-packages/sklearn/model_selection/_validation.py:536: FitFailedWarning: Estimator fit failed. The score on this train-test partition for these parameters will be set to nan. Details: \n",
            "KeyError: 'None'\n",
            "\n",
            "  FitFailedWarning)\n"
          ],
          "name": "stderr"
        },
        {
          "output_type": "stream",
          "text": [
            "[CV]  n_estimators=600, min_samples_split=5, min_samples_leaf=8, max_features=log2, max_depth=336, criterion=None, total=   0.2s\n",
            "[CV] n_estimators=600, min_samples_split=5, min_samples_leaf=8, max_features=log2, max_depth=336, criterion=None \n"
          ],
          "name": "stdout"
        },
        {
          "output_type": "stream",
          "text": [
            "/usr/local/lib/python3.7/dist-packages/sklearn/model_selection/_validation.py:536: FitFailedWarning: Estimator fit failed. The score on this train-test partition for these parameters will be set to nan. Details: \n",
            "KeyError: 'None'\n",
            "\n",
            "  FitFailedWarning)\n"
          ],
          "name": "stderr"
        },
        {
          "output_type": "stream",
          "text": [
            "[CV]  n_estimators=600, min_samples_split=5, min_samples_leaf=8, max_features=log2, max_depth=336, criterion=None, total=   0.2s\n",
            "[CV] n_estimators=600, min_samples_split=5, min_samples_leaf=8, max_features=log2, max_depth=336, criterion=None \n"
          ],
          "name": "stdout"
        },
        {
          "output_type": "stream",
          "text": [
            "/usr/local/lib/python3.7/dist-packages/sklearn/model_selection/_validation.py:536: FitFailedWarning: Estimator fit failed. The score on this train-test partition for these parameters will be set to nan. Details: \n",
            "KeyError: 'None'\n",
            "\n",
            "  FitFailedWarning)\n"
          ],
          "name": "stderr"
        },
        {
          "output_type": "stream",
          "text": [
            "[CV]  n_estimators=600, min_samples_split=5, min_samples_leaf=8, max_features=log2, max_depth=336, criterion=None, total=   0.3s\n",
            "[CV] n_estimators=800, min_samples_split=10, min_samples_leaf=2, max_features=sqrt, max_depth=391, criterion=gini \n",
            "[CV]  n_estimators=800, min_samples_split=10, min_samples_leaf=2, max_features=sqrt, max_depth=391, criterion=gini, total=   1.4s\n",
            "[CV] n_estimators=800, min_samples_split=10, min_samples_leaf=2, max_features=sqrt, max_depth=391, criterion=gini \n",
            "[CV]  n_estimators=800, min_samples_split=10, min_samples_leaf=2, max_features=sqrt, max_depth=391, criterion=gini, total=   1.4s\n",
            "[CV] n_estimators=800, min_samples_split=10, min_samples_leaf=2, max_features=sqrt, max_depth=391, criterion=gini \n",
            "[CV]  n_estimators=800, min_samples_split=10, min_samples_leaf=2, max_features=sqrt, max_depth=391, criterion=gini, total=   1.4s\n",
            "[CV] n_estimators=600, min_samples_split=10, min_samples_leaf=1, max_features=sqrt, max_depth=391, criterion=gini \n",
            "[CV]  n_estimators=600, min_samples_split=10, min_samples_leaf=1, max_features=sqrt, max_depth=391, criterion=gini, total=   1.0s\n",
            "[CV] n_estimators=600, min_samples_split=10, min_samples_leaf=1, max_features=sqrt, max_depth=391, criterion=gini \n",
            "[CV]  n_estimators=600, min_samples_split=10, min_samples_leaf=1, max_features=sqrt, max_depth=391, criterion=gini, total=   1.0s\n",
            "[CV] n_estimators=600, min_samples_split=10, min_samples_leaf=1, max_features=sqrt, max_depth=391, criterion=gini \n",
            "[CV]  n_estimators=600, min_samples_split=10, min_samples_leaf=1, max_features=sqrt, max_depth=391, criterion=gini, total=   1.0s\n",
            "[CV] n_estimators=1000, min_samples_split=2, min_samples_leaf=8, max_features=sqrt, max_depth=64, criterion=None \n"
          ],
          "name": "stdout"
        },
        {
          "output_type": "stream",
          "text": [
            "/usr/local/lib/python3.7/dist-packages/sklearn/model_selection/_validation.py:536: FitFailedWarning: Estimator fit failed. The score on this train-test partition for these parameters will be set to nan. Details: \n",
            "KeyError: 'None'\n",
            "\n",
            "  FitFailedWarning)\n"
          ],
          "name": "stderr"
        },
        {
          "output_type": "stream",
          "text": [
            "[CV]  n_estimators=1000, min_samples_split=2, min_samples_leaf=8, max_features=sqrt, max_depth=64, criterion=None, total=   0.4s\n",
            "[CV] n_estimators=1000, min_samples_split=2, min_samples_leaf=8, max_features=sqrt, max_depth=64, criterion=None \n"
          ],
          "name": "stdout"
        },
        {
          "output_type": "stream",
          "text": [
            "/usr/local/lib/python3.7/dist-packages/sklearn/model_selection/_validation.py:536: FitFailedWarning: Estimator fit failed. The score on this train-test partition for these parameters will be set to nan. Details: \n",
            "KeyError: 'None'\n",
            "\n",
            "  FitFailedWarning)\n"
          ],
          "name": "stderr"
        },
        {
          "output_type": "stream",
          "text": [
            "[CV]  n_estimators=1000, min_samples_split=2, min_samples_leaf=8, max_features=sqrt, max_depth=64, criterion=None, total=   0.4s\n",
            "[CV] n_estimators=1000, min_samples_split=2, min_samples_leaf=8, max_features=sqrt, max_depth=64, criterion=None \n"
          ],
          "name": "stdout"
        },
        {
          "output_type": "stream",
          "text": [
            "/usr/local/lib/python3.7/dist-packages/sklearn/model_selection/_validation.py:536: FitFailedWarning: Estimator fit failed. The score on this train-test partition for these parameters will be set to nan. Details: \n",
            "KeyError: 'None'\n",
            "\n",
            "  FitFailedWarning)\n"
          ],
          "name": "stderr"
        },
        {
          "output_type": "stream",
          "text": [
            "[CV]  n_estimators=1000, min_samples_split=2, min_samples_leaf=8, max_features=sqrt, max_depth=64, criterion=None, total=   0.4s\n",
            "[CV] n_estimators=900, min_samples_split=14, min_samples_leaf=1, max_features=auto, max_depth=500, criterion=None \n"
          ],
          "name": "stdout"
        },
        {
          "output_type": "stream",
          "text": [
            "/usr/local/lib/python3.7/dist-packages/sklearn/model_selection/_validation.py:536: FitFailedWarning: Estimator fit failed. The score on this train-test partition for these parameters will be set to nan. Details: \n",
            "KeyError: 'None'\n",
            "\n",
            "  FitFailedWarning)\n"
          ],
          "name": "stderr"
        },
        {
          "output_type": "stream",
          "text": [
            "[CV]  n_estimators=900, min_samples_split=14, min_samples_leaf=1, max_features=auto, max_depth=500, criterion=None, total=   0.4s\n",
            "[CV] n_estimators=900, min_samples_split=14, min_samples_leaf=1, max_features=auto, max_depth=500, criterion=None \n"
          ],
          "name": "stdout"
        },
        {
          "output_type": "stream",
          "text": [
            "/usr/local/lib/python3.7/dist-packages/sklearn/model_selection/_validation.py:536: FitFailedWarning: Estimator fit failed. The score on this train-test partition for these parameters will be set to nan. Details: \n",
            "KeyError: 'None'\n",
            "\n",
            "  FitFailedWarning)\n"
          ],
          "name": "stderr"
        },
        {
          "output_type": "stream",
          "text": [
            "[CV]  n_estimators=900, min_samples_split=14, min_samples_leaf=1, max_features=auto, max_depth=500, criterion=None, total=   0.4s\n",
            "[CV] n_estimators=900, min_samples_split=14, min_samples_leaf=1, max_features=auto, max_depth=500, criterion=None \n"
          ],
          "name": "stdout"
        },
        {
          "output_type": "stream",
          "text": [
            "/usr/local/lib/python3.7/dist-packages/sklearn/model_selection/_validation.py:536: FitFailedWarning: Estimator fit failed. The score on this train-test partition for these parameters will be set to nan. Details: \n",
            "KeyError: 'None'\n",
            "\n",
            "  FitFailedWarning)\n"
          ],
          "name": "stderr"
        },
        {
          "output_type": "stream",
          "text": [
            "[CV]  n_estimators=900, min_samples_split=14, min_samples_leaf=1, max_features=auto, max_depth=500, criterion=None, total=   0.4s\n",
            "[CV] n_estimators=600, min_samples_split=14, min_samples_leaf=1, max_features=sqrt, max_depth=118, criterion=entropy \n",
            "[CV]  n_estimators=600, min_samples_split=14, min_samples_leaf=1, max_features=sqrt, max_depth=118, criterion=entropy, total=   1.2s\n",
            "[CV] n_estimators=600, min_samples_split=14, min_samples_leaf=1, max_features=sqrt, max_depth=118, criterion=entropy \n",
            "[CV]  n_estimators=600, min_samples_split=14, min_samples_leaf=1, max_features=sqrt, max_depth=118, criterion=entropy, total=   1.1s\n",
            "[CV] n_estimators=600, min_samples_split=14, min_samples_leaf=1, max_features=sqrt, max_depth=118, criterion=entropy \n",
            "[CV]  n_estimators=600, min_samples_split=14, min_samples_leaf=1, max_features=sqrt, max_depth=118, criterion=entropy, total=   1.2s\n",
            "[CV] n_estimators=800, min_samples_split=2, min_samples_leaf=4, max_features=sqrt, max_depth=173, criterion=None \n"
          ],
          "name": "stdout"
        },
        {
          "output_type": "stream",
          "text": [
            "/usr/local/lib/python3.7/dist-packages/sklearn/model_selection/_validation.py:536: FitFailedWarning: Estimator fit failed. The score on this train-test partition for these parameters will be set to nan. Details: \n",
            "KeyError: 'None'\n",
            "\n",
            "  FitFailedWarning)\n"
          ],
          "name": "stderr"
        },
        {
          "output_type": "stream",
          "text": [
            "[CV]  n_estimators=800, min_samples_split=2, min_samples_leaf=4, max_features=sqrt, max_depth=173, criterion=None, total=   0.3s\n",
            "[CV] n_estimators=800, min_samples_split=2, min_samples_leaf=4, max_features=sqrt, max_depth=173, criterion=None \n"
          ],
          "name": "stdout"
        },
        {
          "output_type": "stream",
          "text": [
            "/usr/local/lib/python3.7/dist-packages/sklearn/model_selection/_validation.py:536: FitFailedWarning: Estimator fit failed. The score on this train-test partition for these parameters will be set to nan. Details: \n",
            "KeyError: 'None'\n",
            "\n",
            "  FitFailedWarning)\n"
          ],
          "name": "stderr"
        },
        {
          "output_type": "stream",
          "text": [
            "[CV]  n_estimators=800, min_samples_split=2, min_samples_leaf=4, max_features=sqrt, max_depth=173, criterion=None, total=   0.3s\n",
            "[CV] n_estimators=800, min_samples_split=2, min_samples_leaf=4, max_features=sqrt, max_depth=173, criterion=None \n"
          ],
          "name": "stdout"
        },
        {
          "output_type": "stream",
          "text": [
            "/usr/local/lib/python3.7/dist-packages/sklearn/model_selection/_validation.py:536: FitFailedWarning: Estimator fit failed. The score on this train-test partition for these parameters will be set to nan. Details: \n",
            "KeyError: 'None'\n",
            "\n",
            "  FitFailedWarning)\n",
            "/usr/local/lib/python3.7/dist-packages/sklearn/model_selection/_validation.py:536: FitFailedWarning: Estimator fit failed. The score on this train-test partition for these parameters will be set to nan. Details: \n",
            "KeyError: 'None'\n",
            "\n",
            "  FitFailedWarning)\n"
          ],
          "name": "stderr"
        },
        {
          "output_type": "stream",
          "text": [
            "[CV]  n_estimators=800, min_samples_split=2, min_samples_leaf=4, max_features=sqrt, max_depth=173, criterion=None, total=   0.3s\n",
            "[CV] n_estimators=400, min_samples_split=5, min_samples_leaf=2, max_features=auto, max_depth=336, criterion=None \n",
            "[CV]  n_estimators=400, min_samples_split=5, min_samples_leaf=2, max_features=auto, max_depth=336, criterion=None, total=   0.2s\n",
            "[CV] n_estimators=400, min_samples_split=5, min_samples_leaf=2, max_features=auto, max_depth=336, criterion=None \n"
          ],
          "name": "stdout"
        },
        {
          "output_type": "stream",
          "text": [
            "/usr/local/lib/python3.7/dist-packages/sklearn/model_selection/_validation.py:536: FitFailedWarning: Estimator fit failed. The score on this train-test partition for these parameters will be set to nan. Details: \n",
            "KeyError: 'None'\n",
            "\n",
            "  FitFailedWarning)\n",
            "/usr/local/lib/python3.7/dist-packages/sklearn/model_selection/_validation.py:536: FitFailedWarning: Estimator fit failed. The score on this train-test partition for these parameters will be set to nan. Details: \n",
            "KeyError: 'None'\n",
            "\n",
            "  FitFailedWarning)\n"
          ],
          "name": "stderr"
        },
        {
          "output_type": "stream",
          "text": [
            "[CV]  n_estimators=400, min_samples_split=5, min_samples_leaf=2, max_features=auto, max_depth=336, criterion=None, total=   0.2s\n",
            "[CV] n_estimators=400, min_samples_split=5, min_samples_leaf=2, max_features=auto, max_depth=336, criterion=None \n",
            "[CV]  n_estimators=400, min_samples_split=5, min_samples_leaf=2, max_features=auto, max_depth=336, criterion=None, total=   0.2s\n",
            "[CV] n_estimators=100, min_samples_split=2, min_samples_leaf=6, max_features=auto, max_depth=64, criterion=None \n"
          ],
          "name": "stdout"
        },
        {
          "output_type": "stream",
          "text": [
            "/usr/local/lib/python3.7/dist-packages/sklearn/model_selection/_validation.py:536: FitFailedWarning: Estimator fit failed. The score on this train-test partition for these parameters will be set to nan. Details: \n",
            "KeyError: 'None'\n",
            "\n",
            "  FitFailedWarning)\n",
            "/usr/local/lib/python3.7/dist-packages/sklearn/model_selection/_validation.py:536: FitFailedWarning: Estimator fit failed. The score on this train-test partition for these parameters will be set to nan. Details: \n",
            "KeyError: 'None'\n",
            "\n",
            "  FitFailedWarning)\n",
            "/usr/local/lib/python3.7/dist-packages/sklearn/model_selection/_validation.py:536: FitFailedWarning: Estimator fit failed. The score on this train-test partition for these parameters will be set to nan. Details: \n",
            "KeyError: 'None'\n",
            "\n",
            "  FitFailedWarning)\n"
          ],
          "name": "stderr"
        },
        {
          "output_type": "stream",
          "text": [
            "[CV]  n_estimators=100, min_samples_split=2, min_samples_leaf=6, max_features=auto, max_depth=64, criterion=None, total=   0.0s\n",
            "[CV] n_estimators=100, min_samples_split=2, min_samples_leaf=6, max_features=auto, max_depth=64, criterion=None \n",
            "[CV]  n_estimators=100, min_samples_split=2, min_samples_leaf=6, max_features=auto, max_depth=64, criterion=None, total=   0.0s\n",
            "[CV] n_estimators=100, min_samples_split=2, min_samples_leaf=6, max_features=auto, max_depth=64, criterion=None \n",
            "[CV]  n_estimators=100, min_samples_split=2, min_samples_leaf=6, max_features=auto, max_depth=64, criterion=None, total=   0.0s\n",
            "[CV] n_estimators=200, min_samples_split=5, min_samples_leaf=2, max_features=sqrt, max_depth=500, criterion=gini \n",
            "[CV]  n_estimators=200, min_samples_split=5, min_samples_leaf=2, max_features=sqrt, max_depth=500, criterion=gini, total=   0.4s\n",
            "[CV] n_estimators=200, min_samples_split=5, min_samples_leaf=2, max_features=sqrt, max_depth=500, criterion=gini \n",
            "[CV]  n_estimators=200, min_samples_split=5, min_samples_leaf=2, max_features=sqrt, max_depth=500, criterion=gini, total=   0.4s\n",
            "[CV] n_estimators=200, min_samples_split=5, min_samples_leaf=2, max_features=sqrt, max_depth=500, criterion=gini \n",
            "[CV]  n_estimators=200, min_samples_split=5, min_samples_leaf=2, max_features=sqrt, max_depth=500, criterion=gini, total=   0.4s\n",
            "[CV] n_estimators=800, min_samples_split=10, min_samples_leaf=8, max_features=sqrt, max_depth=10, criterion=None \n"
          ],
          "name": "stdout"
        },
        {
          "output_type": "stream",
          "text": [
            "/usr/local/lib/python3.7/dist-packages/sklearn/model_selection/_validation.py:536: FitFailedWarning: Estimator fit failed. The score on this train-test partition for these parameters will be set to nan. Details: \n",
            "KeyError: 'None'\n",
            "\n",
            "  FitFailedWarning)\n"
          ],
          "name": "stderr"
        },
        {
          "output_type": "stream",
          "text": [
            "[CV]  n_estimators=800, min_samples_split=10, min_samples_leaf=8, max_features=sqrt, max_depth=10, criterion=None, total=   0.3s\n",
            "[CV] n_estimators=800, min_samples_split=10, min_samples_leaf=8, max_features=sqrt, max_depth=10, criterion=None \n"
          ],
          "name": "stdout"
        },
        {
          "output_type": "stream",
          "text": [
            "/usr/local/lib/python3.7/dist-packages/sklearn/model_selection/_validation.py:536: FitFailedWarning: Estimator fit failed. The score on this train-test partition for these parameters will be set to nan. Details: \n",
            "KeyError: 'None'\n",
            "\n",
            "  FitFailedWarning)\n"
          ],
          "name": "stderr"
        },
        {
          "output_type": "stream",
          "text": [
            "[CV]  n_estimators=800, min_samples_split=10, min_samples_leaf=8, max_features=sqrt, max_depth=10, criterion=None, total=   0.3s\n",
            "[CV] n_estimators=800, min_samples_split=10, min_samples_leaf=8, max_features=sqrt, max_depth=10, criterion=None \n"
          ],
          "name": "stdout"
        },
        {
          "output_type": "stream",
          "text": [
            "/usr/local/lib/python3.7/dist-packages/sklearn/model_selection/_validation.py:536: FitFailedWarning: Estimator fit failed. The score on this train-test partition for these parameters will be set to nan. Details: \n",
            "KeyError: 'None'\n",
            "\n",
            "  FitFailedWarning)\n",
            "/usr/local/lib/python3.7/dist-packages/sklearn/model_selection/_validation.py:536: FitFailedWarning: Estimator fit failed. The score on this train-test partition for these parameters will be set to nan. Details: \n",
            "KeyError: 'None'\n",
            "\n",
            "  FitFailedWarning)\n",
            "/usr/local/lib/python3.7/dist-packages/sklearn/model_selection/_validation.py:536: FitFailedWarning: Estimator fit failed. The score on this train-test partition for these parameters will be set to nan. Details: \n",
            "KeyError: 'None'\n",
            "\n",
            "  FitFailedWarning)\n"
          ],
          "name": "stderr"
        },
        {
          "output_type": "stream",
          "text": [
            "[CV]  n_estimators=800, min_samples_split=10, min_samples_leaf=8, max_features=sqrt, max_depth=10, criterion=None, total=   0.3s\n",
            "[CV] n_estimators=200, min_samples_split=14, min_samples_leaf=6, max_features=auto, max_depth=227, criterion=None \n",
            "[CV]  n_estimators=200, min_samples_split=14, min_samples_leaf=6, max_features=auto, max_depth=227, criterion=None, total=   0.1s\n",
            "[CV] n_estimators=200, min_samples_split=14, min_samples_leaf=6, max_features=auto, max_depth=227, criterion=None \n",
            "[CV]  n_estimators=200, min_samples_split=14, min_samples_leaf=6, max_features=auto, max_depth=227, criterion=None, total=   0.1s\n",
            "[CV] n_estimators=200, min_samples_split=14, min_samples_leaf=6, max_features=auto, max_depth=227, criterion=None \n"
          ],
          "name": "stdout"
        },
        {
          "output_type": "stream",
          "text": [
            "/usr/local/lib/python3.7/dist-packages/sklearn/model_selection/_validation.py:536: FitFailedWarning: Estimator fit failed. The score on this train-test partition for these parameters will be set to nan. Details: \n",
            "KeyError: 'None'\n",
            "\n",
            "  FitFailedWarning)\n",
            "/usr/local/lib/python3.7/dist-packages/sklearn/model_selection/_validation.py:536: FitFailedWarning: Estimator fit failed. The score on this train-test partition for these parameters will be set to nan. Details: \n",
            "KeyError: 'None'\n",
            "\n",
            "  FitFailedWarning)\n",
            "/usr/local/lib/python3.7/dist-packages/sklearn/model_selection/_validation.py:536: FitFailedWarning: Estimator fit failed. The score on this train-test partition for these parameters will be set to nan. Details: \n",
            "KeyError: 'None'\n",
            "\n",
            "  FitFailedWarning)\n"
          ],
          "name": "stderr"
        },
        {
          "output_type": "stream",
          "text": [
            "[CV]  n_estimators=200, min_samples_split=14, min_samples_leaf=6, max_features=auto, max_depth=227, criterion=None, total=   0.1s\n",
            "[CV] n_estimators=200, min_samples_split=5, min_samples_leaf=8, max_features=auto, max_depth=445, criterion=None \n",
            "[CV]  n_estimators=200, min_samples_split=5, min_samples_leaf=8, max_features=auto, max_depth=445, criterion=None, total=   0.1s\n",
            "[CV] n_estimators=200, min_samples_split=5, min_samples_leaf=8, max_features=auto, max_depth=445, criterion=None \n",
            "[CV]  n_estimators=200, min_samples_split=5, min_samples_leaf=8, max_features=auto, max_depth=445, criterion=None, total=   0.1s\n",
            "[CV] n_estimators=200, min_samples_split=5, min_samples_leaf=8, max_features=auto, max_depth=445, criterion=None \n"
          ],
          "name": "stdout"
        },
        {
          "output_type": "stream",
          "text": [
            "/usr/local/lib/python3.7/dist-packages/sklearn/model_selection/_validation.py:536: FitFailedWarning: Estimator fit failed. The score on this train-test partition for these parameters will be set to nan. Details: \n",
            "KeyError: 'None'\n",
            "\n",
            "  FitFailedWarning)\n"
          ],
          "name": "stderr"
        },
        {
          "output_type": "stream",
          "text": [
            "[CV]  n_estimators=200, min_samples_split=5, min_samples_leaf=8, max_features=auto, max_depth=445, criterion=None, total=   0.1s\n",
            "[CV] n_estimators=700, min_samples_split=14, min_samples_leaf=2, max_features=sqrt, max_depth=391, criterion=gini \n",
            "[CV]  n_estimators=700, min_samples_split=14, min_samples_leaf=2, max_features=sqrt, max_depth=391, criterion=gini, total=   1.2s\n",
            "[CV] n_estimators=700, min_samples_split=14, min_samples_leaf=2, max_features=sqrt, max_depth=391, criterion=gini \n",
            "[CV]  n_estimators=700, min_samples_split=14, min_samples_leaf=2, max_features=sqrt, max_depth=391, criterion=gini, total=   1.2s\n",
            "[CV] n_estimators=700, min_samples_split=14, min_samples_leaf=2, max_features=sqrt, max_depth=391, criterion=gini \n",
            "[CV]  n_estimators=700, min_samples_split=14, min_samples_leaf=2, max_features=sqrt, max_depth=391, criterion=gini, total=   1.2s\n",
            "[CV] n_estimators=700, min_samples_split=14, min_samples_leaf=6, max_features=auto, max_depth=227, criterion=None \n"
          ],
          "name": "stdout"
        },
        {
          "output_type": "stream",
          "text": [
            "/usr/local/lib/python3.7/dist-packages/sklearn/model_selection/_validation.py:536: FitFailedWarning: Estimator fit failed. The score on this train-test partition for these parameters will be set to nan. Details: \n",
            "KeyError: 'None'\n",
            "\n",
            "  FitFailedWarning)\n"
          ],
          "name": "stderr"
        },
        {
          "output_type": "stream",
          "text": [
            "[CV]  n_estimators=700, min_samples_split=14, min_samples_leaf=6, max_features=auto, max_depth=227, criterion=None, total=   0.3s\n",
            "[CV] n_estimators=700, min_samples_split=14, min_samples_leaf=6, max_features=auto, max_depth=227, criterion=None \n"
          ],
          "name": "stdout"
        },
        {
          "output_type": "stream",
          "text": [
            "/usr/local/lib/python3.7/dist-packages/sklearn/model_selection/_validation.py:536: FitFailedWarning: Estimator fit failed. The score on this train-test partition for these parameters will be set to nan. Details: \n",
            "KeyError: 'None'\n",
            "\n",
            "  FitFailedWarning)\n"
          ],
          "name": "stderr"
        },
        {
          "output_type": "stream",
          "text": [
            "[CV]  n_estimators=700, min_samples_split=14, min_samples_leaf=6, max_features=auto, max_depth=227, criterion=None, total=   0.3s\n",
            "[CV] n_estimators=700, min_samples_split=14, min_samples_leaf=6, max_features=auto, max_depth=227, criterion=None \n"
          ],
          "name": "stdout"
        },
        {
          "output_type": "stream",
          "text": [
            "/usr/local/lib/python3.7/dist-packages/sklearn/model_selection/_validation.py:536: FitFailedWarning: Estimator fit failed. The score on this train-test partition for these parameters will be set to nan. Details: \n",
            "KeyError: 'None'\n",
            "\n",
            "  FitFailedWarning)\n"
          ],
          "name": "stderr"
        },
        {
          "output_type": "stream",
          "text": [
            "[CV]  n_estimators=700, min_samples_split=14, min_samples_leaf=6, max_features=auto, max_depth=227, criterion=None, total=   0.3s\n",
            "[CV] n_estimators=900, min_samples_split=2, min_samples_leaf=8, max_features=sqrt, max_depth=500, criterion=entropy \n",
            "[CV]  n_estimators=900, min_samples_split=2, min_samples_leaf=8, max_features=sqrt, max_depth=500, criterion=entropy, total=   1.6s\n",
            "[CV] n_estimators=900, min_samples_split=2, min_samples_leaf=8, max_features=sqrt, max_depth=500, criterion=entropy \n",
            "[CV]  n_estimators=900, min_samples_split=2, min_samples_leaf=8, max_features=sqrt, max_depth=500, criterion=entropy, total=   1.6s\n",
            "[CV] n_estimators=900, min_samples_split=2, min_samples_leaf=8, max_features=sqrt, max_depth=500, criterion=entropy \n",
            "[CV]  n_estimators=900, min_samples_split=2, min_samples_leaf=8, max_features=sqrt, max_depth=500, criterion=entropy, total=   1.6s\n",
            "[CV] n_estimators=1000, min_samples_split=5, min_samples_leaf=2, max_features=log2, max_depth=445, criterion=None \n"
          ],
          "name": "stdout"
        },
        {
          "output_type": "stream",
          "text": [
            "/usr/local/lib/python3.7/dist-packages/sklearn/model_selection/_validation.py:536: FitFailedWarning: Estimator fit failed. The score on this train-test partition for these parameters will be set to nan. Details: \n",
            "KeyError: 'None'\n",
            "\n",
            "  FitFailedWarning)\n"
          ],
          "name": "stderr"
        },
        {
          "output_type": "stream",
          "text": [
            "[CV]  n_estimators=1000, min_samples_split=5, min_samples_leaf=2, max_features=log2, max_depth=445, criterion=None, total=   0.4s\n",
            "[CV] n_estimators=1000, min_samples_split=5, min_samples_leaf=2, max_features=log2, max_depth=445, criterion=None \n"
          ],
          "name": "stdout"
        },
        {
          "output_type": "stream",
          "text": [
            "/usr/local/lib/python3.7/dist-packages/sklearn/model_selection/_validation.py:536: FitFailedWarning: Estimator fit failed. The score on this train-test partition for these parameters will be set to nan. Details: \n",
            "KeyError: 'None'\n",
            "\n",
            "  FitFailedWarning)\n"
          ],
          "name": "stderr"
        },
        {
          "output_type": "stream",
          "text": [
            "[CV]  n_estimators=1000, min_samples_split=5, min_samples_leaf=2, max_features=log2, max_depth=445, criterion=None, total=   0.4s\n",
            "[CV] n_estimators=1000, min_samples_split=5, min_samples_leaf=2, max_features=log2, max_depth=445, criterion=None \n"
          ],
          "name": "stdout"
        },
        {
          "output_type": "stream",
          "text": [
            "/usr/local/lib/python3.7/dist-packages/sklearn/model_selection/_validation.py:536: FitFailedWarning: Estimator fit failed. The score on this train-test partition for these parameters will be set to nan. Details: \n",
            "KeyError: 'None'\n",
            "\n",
            "  FitFailedWarning)\n"
          ],
          "name": "stderr"
        },
        {
          "output_type": "stream",
          "text": [
            "[CV]  n_estimators=1000, min_samples_split=5, min_samples_leaf=2, max_features=log2, max_depth=445, criterion=None, total=   0.4s\n",
            "[CV] n_estimators=400, min_samples_split=2, min_samples_leaf=4, max_features=auto, max_depth=10, criterion=gini \n",
            "[CV]  n_estimators=400, min_samples_split=2, min_samples_leaf=4, max_features=auto, max_depth=10, criterion=gini, total=   0.8s\n",
            "[CV] n_estimators=400, min_samples_split=2, min_samples_leaf=4, max_features=auto, max_depth=10, criterion=gini \n",
            "[CV]  n_estimators=400, min_samples_split=2, min_samples_leaf=4, max_features=auto, max_depth=10, criterion=gini, total=   0.7s\n",
            "[CV] n_estimators=400, min_samples_split=2, min_samples_leaf=4, max_features=auto, max_depth=10, criterion=gini \n",
            "[CV]  n_estimators=400, min_samples_split=2, min_samples_leaf=4, max_features=auto, max_depth=10, criterion=gini, total=   0.7s\n",
            "[CV] n_estimators=500, min_samples_split=14, min_samples_leaf=6, max_features=log2, max_depth=10, criterion=gini \n",
            "[CV]  n_estimators=500, min_samples_split=14, min_samples_leaf=6, max_features=log2, max_depth=10, criterion=gini, total=   0.9s\n",
            "[CV] n_estimators=500, min_samples_split=14, min_samples_leaf=6, max_features=log2, max_depth=10, criterion=gini \n",
            "[CV]  n_estimators=500, min_samples_split=14, min_samples_leaf=6, max_features=log2, max_depth=10, criterion=gini, total=   0.9s\n",
            "[CV] n_estimators=500, min_samples_split=14, min_samples_leaf=6, max_features=log2, max_depth=10, criterion=gini \n",
            "[CV]  n_estimators=500, min_samples_split=14, min_samples_leaf=6, max_features=log2, max_depth=10, criterion=gini, total=   0.9s\n",
            "[CV] n_estimators=100, min_samples_split=10, min_samples_leaf=2, max_features=auto, max_depth=500, criterion=gini \n",
            "[CV]  n_estimators=100, min_samples_split=10, min_samples_leaf=2, max_features=auto, max_depth=500, criterion=gini, total=   0.2s\n",
            "[CV] n_estimators=100, min_samples_split=10, min_samples_leaf=2, max_features=auto, max_depth=500, criterion=gini \n",
            "[CV]  n_estimators=100, min_samples_split=10, min_samples_leaf=2, max_features=auto, max_depth=500, criterion=gini, total=   0.2s\n",
            "[CV] n_estimators=100, min_samples_split=10, min_samples_leaf=2, max_features=auto, max_depth=500, criterion=gini \n",
            "[CV]  n_estimators=100, min_samples_split=10, min_samples_leaf=2, max_features=auto, max_depth=500, criterion=gini, total=   0.2s\n",
            "[CV] n_estimators=1000, min_samples_split=10, min_samples_leaf=4, max_features=auto, max_depth=336, criterion=entropy \n",
            "[CV]  n_estimators=1000, min_samples_split=10, min_samples_leaf=4, max_features=auto, max_depth=336, criterion=entropy, total=   1.9s\n",
            "[CV] n_estimators=1000, min_samples_split=10, min_samples_leaf=4, max_features=auto, max_depth=336, criterion=entropy \n",
            "[CV]  n_estimators=1000, min_samples_split=10, min_samples_leaf=4, max_features=auto, max_depth=336, criterion=entropy, total=   1.8s\n",
            "[CV] n_estimators=1000, min_samples_split=10, min_samples_leaf=4, max_features=auto, max_depth=336, criterion=entropy \n",
            "[CV]  n_estimators=1000, min_samples_split=10, min_samples_leaf=4, max_features=auto, max_depth=336, criterion=entropy, total=   1.8s\n",
            "[CV] n_estimators=900, min_samples_split=10, min_samples_leaf=2, max_features=sqrt, max_depth=282, criterion=gini \n",
            "[CV]  n_estimators=900, min_samples_split=10, min_samples_leaf=2, max_features=sqrt, max_depth=282, criterion=gini, total=   1.6s\n",
            "[CV] n_estimators=900, min_samples_split=10, min_samples_leaf=2, max_features=sqrt, max_depth=282, criterion=gini \n",
            "[CV]  n_estimators=900, min_samples_split=10, min_samples_leaf=2, max_features=sqrt, max_depth=282, criterion=gini, total=   1.5s\n",
            "[CV] n_estimators=900, min_samples_split=10, min_samples_leaf=2, max_features=sqrt, max_depth=282, criterion=gini \n",
            "[CV]  n_estimators=900, min_samples_split=10, min_samples_leaf=2, max_features=sqrt, max_depth=282, criterion=gini, total=   1.5s\n",
            "[CV] n_estimators=800, min_samples_split=2, min_samples_leaf=2, max_features=sqrt, max_depth=391, criterion=gini \n",
            "[CV]  n_estimators=800, min_samples_split=2, min_samples_leaf=2, max_features=sqrt, max_depth=391, criterion=gini, total=   1.4s\n",
            "[CV] n_estimators=800, min_samples_split=2, min_samples_leaf=2, max_features=sqrt, max_depth=391, criterion=gini \n",
            "[CV]  n_estimators=800, min_samples_split=2, min_samples_leaf=2, max_features=sqrt, max_depth=391, criterion=gini, total=   1.4s\n",
            "[CV] n_estimators=800, min_samples_split=2, min_samples_leaf=2, max_features=sqrt, max_depth=391, criterion=gini \n",
            "[CV]  n_estimators=800, min_samples_split=2, min_samples_leaf=2, max_features=sqrt, max_depth=391, criterion=gini, total=   1.4s\n",
            "[CV] n_estimators=500, min_samples_split=10, min_samples_leaf=4, max_features=log2, max_depth=445, criterion=gini \n",
            "[CV]  n_estimators=500, min_samples_split=10, min_samples_leaf=4, max_features=log2, max_depth=445, criterion=gini, total=   0.9s\n",
            "[CV] n_estimators=500, min_samples_split=10, min_samples_leaf=4, max_features=log2, max_depth=445, criterion=gini \n",
            "[CV]  n_estimators=500, min_samples_split=10, min_samples_leaf=4, max_features=log2, max_depth=445, criterion=gini, total=   0.9s\n",
            "[CV] n_estimators=500, min_samples_split=10, min_samples_leaf=4, max_features=log2, max_depth=445, criterion=gini \n",
            "[CV]  n_estimators=500, min_samples_split=10, min_samples_leaf=4, max_features=log2, max_depth=445, criterion=gini, total=   0.9s\n",
            "[CV] n_estimators=800, min_samples_split=5, min_samples_leaf=4, max_features=log2, max_depth=282, criterion=gini \n",
            "[CV]  n_estimators=800, min_samples_split=5, min_samples_leaf=4, max_features=log2, max_depth=282, criterion=gini, total=   1.5s\n",
            "[CV] n_estimators=800, min_samples_split=5, min_samples_leaf=4, max_features=log2, max_depth=282, criterion=gini \n",
            "[CV]  n_estimators=800, min_samples_split=5, min_samples_leaf=4, max_features=log2, max_depth=282, criterion=gini, total=   1.5s\n",
            "[CV] n_estimators=800, min_samples_split=5, min_samples_leaf=4, max_features=log2, max_depth=282, criterion=gini \n",
            "[CV]  n_estimators=800, min_samples_split=5, min_samples_leaf=4, max_features=log2, max_depth=282, criterion=gini, total=   1.5s\n",
            "[CV] n_estimators=500, min_samples_split=10, min_samples_leaf=8, max_features=log2, max_depth=282, criterion=None \n"
          ],
          "name": "stdout"
        },
        {
          "output_type": "stream",
          "text": [
            "/usr/local/lib/python3.7/dist-packages/sklearn/model_selection/_validation.py:536: FitFailedWarning: Estimator fit failed. The score on this train-test partition for these parameters will be set to nan. Details: \n",
            "KeyError: 'None'\n",
            "\n",
            "  FitFailedWarning)\n"
          ],
          "name": "stderr"
        },
        {
          "output_type": "stream",
          "text": [
            "[CV]  n_estimators=500, min_samples_split=10, min_samples_leaf=8, max_features=log2, max_depth=282, criterion=None, total=   0.2s\n",
            "[CV] n_estimators=500, min_samples_split=10, min_samples_leaf=8, max_features=log2, max_depth=282, criterion=None \n"
          ],
          "name": "stdout"
        },
        {
          "output_type": "stream",
          "text": [
            "/usr/local/lib/python3.7/dist-packages/sklearn/model_selection/_validation.py:536: FitFailedWarning: Estimator fit failed. The score on this train-test partition for these parameters will be set to nan. Details: \n",
            "KeyError: 'None'\n",
            "\n",
            "  FitFailedWarning)\n",
            "/usr/local/lib/python3.7/dist-packages/sklearn/model_selection/_validation.py:536: FitFailedWarning: Estimator fit failed. The score on this train-test partition for these parameters will be set to nan. Details: \n",
            "KeyError: 'None'\n",
            "\n",
            "  FitFailedWarning)\n"
          ],
          "name": "stderr"
        },
        {
          "output_type": "stream",
          "text": [
            "[CV]  n_estimators=500, min_samples_split=10, min_samples_leaf=8, max_features=log2, max_depth=282, criterion=None, total=   0.2s\n",
            "[CV] n_estimators=500, min_samples_split=10, min_samples_leaf=8, max_features=log2, max_depth=282, criterion=None \n",
            "[CV]  n_estimators=500, min_samples_split=10, min_samples_leaf=8, max_features=log2, max_depth=282, criterion=None, total=   0.2s\n",
            "[CV] n_estimators=1000, min_samples_split=2, min_samples_leaf=2, max_features=auto, max_depth=118, criterion=gini \n",
            "[CV]  n_estimators=1000, min_samples_split=2, min_samples_leaf=2, max_features=auto, max_depth=118, criterion=gini, total=   1.8s\n",
            "[CV] n_estimators=1000, min_samples_split=2, min_samples_leaf=2, max_features=auto, max_depth=118, criterion=gini \n",
            "[CV]  n_estimators=1000, min_samples_split=2, min_samples_leaf=2, max_features=auto, max_depth=118, criterion=gini, total=   1.7s\n",
            "[CV] n_estimators=1000, min_samples_split=2, min_samples_leaf=2, max_features=auto, max_depth=118, criterion=gini \n",
            "[CV]  n_estimators=1000, min_samples_split=2, min_samples_leaf=2, max_features=auto, max_depth=118, criterion=gini, total=   1.8s\n",
            "[CV] n_estimators=100, min_samples_split=14, min_samples_leaf=2, max_features=sqrt, max_depth=500, criterion=entropy \n",
            "[CV]  n_estimators=100, min_samples_split=14, min_samples_leaf=2, max_features=sqrt, max_depth=500, criterion=entropy, total=   0.2s\n",
            "[CV] n_estimators=100, min_samples_split=14, min_samples_leaf=2, max_features=sqrt, max_depth=500, criterion=entropy \n",
            "[CV]  n_estimators=100, min_samples_split=14, min_samples_leaf=2, max_features=sqrt, max_depth=500, criterion=entropy, total=   0.2s\n",
            "[CV] n_estimators=100, min_samples_split=14, min_samples_leaf=2, max_features=sqrt, max_depth=500, criterion=entropy \n",
            "[CV]  n_estimators=100, min_samples_split=14, min_samples_leaf=2, max_features=sqrt, max_depth=500, criterion=entropy, total=   0.2s\n",
            "[CV] n_estimators=800, min_samples_split=2, min_samples_leaf=1, max_features=auto, max_depth=118, criterion=entropy \n",
            "[CV]  n_estimators=800, min_samples_split=2, min_samples_leaf=1, max_features=auto, max_depth=118, criterion=entropy, total=   1.6s\n",
            "[CV] n_estimators=800, min_samples_split=2, min_samples_leaf=1, max_features=auto, max_depth=118, criterion=entropy \n",
            "[CV]  n_estimators=800, min_samples_split=2, min_samples_leaf=1, max_features=auto, max_depth=118, criterion=entropy, total=   1.6s\n",
            "[CV] n_estimators=800, min_samples_split=2, min_samples_leaf=1, max_features=auto, max_depth=118, criterion=entropy \n",
            "[CV]  n_estimators=800, min_samples_split=2, min_samples_leaf=1, max_features=auto, max_depth=118, criterion=entropy, total=   1.7s\n",
            "[CV] n_estimators=1000, min_samples_split=5, min_samples_leaf=4, max_features=log2, max_depth=500, criterion=None \n"
          ],
          "name": "stdout"
        },
        {
          "output_type": "stream",
          "text": [
            "/usr/local/lib/python3.7/dist-packages/sklearn/model_selection/_validation.py:536: FitFailedWarning: Estimator fit failed. The score on this train-test partition for these parameters will be set to nan. Details: \n",
            "KeyError: 'None'\n",
            "\n",
            "  FitFailedWarning)\n"
          ],
          "name": "stderr"
        },
        {
          "output_type": "stream",
          "text": [
            "[CV]  n_estimators=1000, min_samples_split=5, min_samples_leaf=4, max_features=log2, max_depth=500, criterion=None, total=   0.4s\n",
            "[CV] n_estimators=1000, min_samples_split=5, min_samples_leaf=4, max_features=log2, max_depth=500, criterion=None \n"
          ],
          "name": "stdout"
        },
        {
          "output_type": "stream",
          "text": [
            "/usr/local/lib/python3.7/dist-packages/sklearn/model_selection/_validation.py:536: FitFailedWarning: Estimator fit failed. The score on this train-test partition for these parameters will be set to nan. Details: \n",
            "KeyError: 'None'\n",
            "\n",
            "  FitFailedWarning)\n"
          ],
          "name": "stderr"
        },
        {
          "output_type": "stream",
          "text": [
            "[CV]  n_estimators=1000, min_samples_split=5, min_samples_leaf=4, max_features=log2, max_depth=500, criterion=None, total=   0.4s\n",
            "[CV] n_estimators=1000, min_samples_split=5, min_samples_leaf=4, max_features=log2, max_depth=500, criterion=None \n"
          ],
          "name": "stdout"
        },
        {
          "output_type": "stream",
          "text": [
            "/usr/local/lib/python3.7/dist-packages/sklearn/model_selection/_validation.py:536: FitFailedWarning: Estimator fit failed. The score on this train-test partition for these parameters will be set to nan. Details: \n",
            "KeyError: 'None'\n",
            "\n",
            "  FitFailedWarning)\n"
          ],
          "name": "stderr"
        },
        {
          "output_type": "stream",
          "text": [
            "[CV]  n_estimators=1000, min_samples_split=5, min_samples_leaf=4, max_features=log2, max_depth=500, criterion=None, total=   0.4s\n",
            "[CV] n_estimators=400, min_samples_split=2, min_samples_leaf=4, max_features=sqrt, max_depth=336, criterion=gini \n",
            "[CV]  n_estimators=400, min_samples_split=2, min_samples_leaf=4, max_features=sqrt, max_depth=336, criterion=gini, total=   0.7s\n",
            "[CV] n_estimators=400, min_samples_split=2, min_samples_leaf=4, max_features=sqrt, max_depth=336, criterion=gini \n",
            "[CV]  n_estimators=400, min_samples_split=2, min_samples_leaf=4, max_features=sqrt, max_depth=336, criterion=gini, total=   0.7s\n",
            "[CV] n_estimators=400, min_samples_split=2, min_samples_leaf=4, max_features=sqrt, max_depth=336, criterion=gini \n",
            "[CV]  n_estimators=400, min_samples_split=2, min_samples_leaf=4, max_features=sqrt, max_depth=336, criterion=gini, total=   0.7s\n",
            "[CV] n_estimators=1000, min_samples_split=10, min_samples_leaf=1, max_features=log2, max_depth=282, criterion=entropy \n",
            "[CV]  n_estimators=1000, min_samples_split=10, min_samples_leaf=1, max_features=log2, max_depth=282, criterion=entropy, total=   2.1s\n",
            "[CV] n_estimators=1000, min_samples_split=10, min_samples_leaf=1, max_features=log2, max_depth=282, criterion=entropy \n",
            "[CV]  n_estimators=1000, min_samples_split=10, min_samples_leaf=1, max_features=log2, max_depth=282, criterion=entropy, total=   2.1s\n",
            "[CV] n_estimators=1000, min_samples_split=10, min_samples_leaf=1, max_features=log2, max_depth=282, criterion=entropy \n",
            "[CV]  n_estimators=1000, min_samples_split=10, min_samples_leaf=1, max_features=log2, max_depth=282, criterion=entropy, total=   2.1s\n",
            "[CV] n_estimators=700, min_samples_split=14, min_samples_leaf=6, max_features=auto, max_depth=282, criterion=None \n"
          ],
          "name": "stdout"
        },
        {
          "output_type": "stream",
          "text": [
            "/usr/local/lib/python3.7/dist-packages/sklearn/model_selection/_validation.py:536: FitFailedWarning: Estimator fit failed. The score on this train-test partition for these parameters will be set to nan. Details: \n",
            "KeyError: 'None'\n",
            "\n",
            "  FitFailedWarning)\n"
          ],
          "name": "stderr"
        },
        {
          "output_type": "stream",
          "text": [
            "[CV]  n_estimators=700, min_samples_split=14, min_samples_leaf=6, max_features=auto, max_depth=282, criterion=None, total=   0.3s\n",
            "[CV] n_estimators=700, min_samples_split=14, min_samples_leaf=6, max_features=auto, max_depth=282, criterion=None \n"
          ],
          "name": "stdout"
        },
        {
          "output_type": "stream",
          "text": [
            "/usr/local/lib/python3.7/dist-packages/sklearn/model_selection/_validation.py:536: FitFailedWarning: Estimator fit failed. The score on this train-test partition for these parameters will be set to nan. Details: \n",
            "KeyError: 'None'\n",
            "\n",
            "  FitFailedWarning)\n"
          ],
          "name": "stderr"
        },
        {
          "output_type": "stream",
          "text": [
            "[CV]  n_estimators=700, min_samples_split=14, min_samples_leaf=6, max_features=auto, max_depth=282, criterion=None, total=   0.3s\n",
            "[CV] n_estimators=700, min_samples_split=14, min_samples_leaf=6, max_features=auto, max_depth=282, criterion=None \n"
          ],
          "name": "stdout"
        },
        {
          "output_type": "stream",
          "text": [
            "/usr/local/lib/python3.7/dist-packages/sklearn/model_selection/_validation.py:536: FitFailedWarning: Estimator fit failed. The score on this train-test partition for these parameters will be set to nan. Details: \n",
            "KeyError: 'None'\n",
            "\n",
            "  FitFailedWarning)\n"
          ],
          "name": "stderr"
        },
        {
          "output_type": "stream",
          "text": [
            "[CV]  n_estimators=700, min_samples_split=14, min_samples_leaf=6, max_features=auto, max_depth=282, criterion=None, total=   0.3s\n",
            "[CV] n_estimators=500, min_samples_split=14, min_samples_leaf=4, max_features=log2, max_depth=173, criterion=None \n"
          ],
          "name": "stdout"
        },
        {
          "output_type": "stream",
          "text": [
            "/usr/local/lib/python3.7/dist-packages/sklearn/model_selection/_validation.py:536: FitFailedWarning: Estimator fit failed. The score on this train-test partition for these parameters will be set to nan. Details: \n",
            "KeyError: 'None'\n",
            "\n",
            "  FitFailedWarning)\n"
          ],
          "name": "stderr"
        },
        {
          "output_type": "stream",
          "text": [
            "[CV]  n_estimators=500, min_samples_split=14, min_samples_leaf=4, max_features=log2, max_depth=173, criterion=None, total=   0.2s\n",
            "[CV] n_estimators=500, min_samples_split=14, min_samples_leaf=4, max_features=log2, max_depth=173, criterion=None \n"
          ],
          "name": "stdout"
        },
        {
          "output_type": "stream",
          "text": [
            "/usr/local/lib/python3.7/dist-packages/sklearn/model_selection/_validation.py:536: FitFailedWarning: Estimator fit failed. The score on this train-test partition for these parameters will be set to nan. Details: \n",
            "KeyError: 'None'\n",
            "\n",
            "  FitFailedWarning)\n"
          ],
          "name": "stderr"
        },
        {
          "output_type": "stream",
          "text": [
            "[CV]  n_estimators=500, min_samples_split=14, min_samples_leaf=4, max_features=log2, max_depth=173, criterion=None, total=   0.2s\n",
            "[CV] n_estimators=500, min_samples_split=14, min_samples_leaf=4, max_features=log2, max_depth=173, criterion=None \n"
          ],
          "name": "stdout"
        },
        {
          "output_type": "stream",
          "text": [
            "/usr/local/lib/python3.7/dist-packages/sklearn/model_selection/_validation.py:536: FitFailedWarning: Estimator fit failed. The score on this train-test partition for these parameters will be set to nan. Details: \n",
            "KeyError: 'None'\n",
            "\n",
            "  FitFailedWarning)\n"
          ],
          "name": "stderr"
        },
        {
          "output_type": "stream",
          "text": [
            "[CV]  n_estimators=500, min_samples_split=14, min_samples_leaf=4, max_features=log2, max_depth=173, criterion=None, total=   0.2s\n",
            "[CV] n_estimators=900, min_samples_split=10, min_samples_leaf=8, max_features=log2, max_depth=64, criterion=None \n"
          ],
          "name": "stdout"
        },
        {
          "output_type": "stream",
          "text": [
            "/usr/local/lib/python3.7/dist-packages/sklearn/model_selection/_validation.py:536: FitFailedWarning: Estimator fit failed. The score on this train-test partition for these parameters will be set to nan. Details: \n",
            "KeyError: 'None'\n",
            "\n",
            "  FitFailedWarning)\n"
          ],
          "name": "stderr"
        },
        {
          "output_type": "stream",
          "text": [
            "[CV]  n_estimators=900, min_samples_split=10, min_samples_leaf=8, max_features=log2, max_depth=64, criterion=None, total=   0.4s\n",
            "[CV] n_estimators=900, min_samples_split=10, min_samples_leaf=8, max_features=log2, max_depth=64, criterion=None \n"
          ],
          "name": "stdout"
        },
        {
          "output_type": "stream",
          "text": [
            "/usr/local/lib/python3.7/dist-packages/sklearn/model_selection/_validation.py:536: FitFailedWarning: Estimator fit failed. The score on this train-test partition for these parameters will be set to nan. Details: \n",
            "KeyError: 'None'\n",
            "\n",
            "  FitFailedWarning)\n"
          ],
          "name": "stderr"
        },
        {
          "output_type": "stream",
          "text": [
            "[CV]  n_estimators=900, min_samples_split=10, min_samples_leaf=8, max_features=log2, max_depth=64, criterion=None, total=   0.4s\n",
            "[CV] n_estimators=900, min_samples_split=10, min_samples_leaf=8, max_features=log2, max_depth=64, criterion=None \n"
          ],
          "name": "stdout"
        },
        {
          "output_type": "stream",
          "text": [
            "/usr/local/lib/python3.7/dist-packages/sklearn/model_selection/_validation.py:536: FitFailedWarning: Estimator fit failed. The score on this train-test partition for these parameters will be set to nan. Details: \n",
            "KeyError: 'None'\n",
            "\n",
            "  FitFailedWarning)\n"
          ],
          "name": "stderr"
        },
        {
          "output_type": "stream",
          "text": [
            "[CV]  n_estimators=900, min_samples_split=10, min_samples_leaf=8, max_features=log2, max_depth=64, criterion=None, total=   0.4s\n",
            "[CV] n_estimators=1000, min_samples_split=5, min_samples_leaf=1, max_features=auto, max_depth=64, criterion=entropy \n",
            "[CV]  n_estimators=1000, min_samples_split=5, min_samples_leaf=1, max_features=auto, max_depth=64, criterion=entropy, total=   2.0s\n",
            "[CV] n_estimators=1000, min_samples_split=5, min_samples_leaf=1, max_features=auto, max_depth=64, criterion=entropy \n",
            "[CV]  n_estimators=1000, min_samples_split=5, min_samples_leaf=1, max_features=auto, max_depth=64, criterion=entropy, total=   2.0s\n",
            "[CV] n_estimators=1000, min_samples_split=5, min_samples_leaf=1, max_features=auto, max_depth=64, criterion=entropy \n",
            "[CV]  n_estimators=1000, min_samples_split=5, min_samples_leaf=1, max_features=auto, max_depth=64, criterion=entropy, total=   2.0s\n",
            "[CV] n_estimators=800, min_samples_split=2, min_samples_leaf=2, max_features=log2, max_depth=10, criterion=None \n"
          ],
          "name": "stdout"
        },
        {
          "output_type": "stream",
          "text": [
            "/usr/local/lib/python3.7/dist-packages/sklearn/model_selection/_validation.py:536: FitFailedWarning: Estimator fit failed. The score on this train-test partition for these parameters will be set to nan. Details: \n",
            "KeyError: 'None'\n",
            "\n",
            "  FitFailedWarning)\n"
          ],
          "name": "stderr"
        },
        {
          "output_type": "stream",
          "text": [
            "[CV]  n_estimators=800, min_samples_split=2, min_samples_leaf=2, max_features=log2, max_depth=10, criterion=None, total=   0.3s\n",
            "[CV] n_estimators=800, min_samples_split=2, min_samples_leaf=2, max_features=log2, max_depth=10, criterion=None \n"
          ],
          "name": "stdout"
        },
        {
          "output_type": "stream",
          "text": [
            "/usr/local/lib/python3.7/dist-packages/sklearn/model_selection/_validation.py:536: FitFailedWarning: Estimator fit failed. The score on this train-test partition for these parameters will be set to nan. Details: \n",
            "KeyError: 'None'\n",
            "\n",
            "  FitFailedWarning)\n"
          ],
          "name": "stderr"
        },
        {
          "output_type": "stream",
          "text": [
            "[CV]  n_estimators=800, min_samples_split=2, min_samples_leaf=2, max_features=log2, max_depth=10, criterion=None, total=   0.3s\n",
            "[CV] n_estimators=800, min_samples_split=2, min_samples_leaf=2, max_features=log2, max_depth=10, criterion=None \n"
          ],
          "name": "stdout"
        },
        {
          "output_type": "stream",
          "text": [
            "/usr/local/lib/python3.7/dist-packages/sklearn/model_selection/_validation.py:536: FitFailedWarning: Estimator fit failed. The score on this train-test partition for these parameters will be set to nan. Details: \n",
            "KeyError: 'None'\n",
            "\n",
            "  FitFailedWarning)\n"
          ],
          "name": "stderr"
        },
        {
          "output_type": "stream",
          "text": [
            "[CV]  n_estimators=800, min_samples_split=2, min_samples_leaf=2, max_features=log2, max_depth=10, criterion=None, total=   0.3s\n",
            "[CV] n_estimators=1000, min_samples_split=5, min_samples_leaf=4, max_features=log2, max_depth=391, criterion=entropy \n",
            "[CV]  n_estimators=1000, min_samples_split=5, min_samples_leaf=4, max_features=log2, max_depth=391, criterion=entropy, total=   2.1s\n",
            "[CV] n_estimators=1000, min_samples_split=5, min_samples_leaf=4, max_features=log2, max_depth=391, criterion=entropy \n",
            "[CV]  n_estimators=1000, min_samples_split=5, min_samples_leaf=4, max_features=log2, max_depth=391, criterion=entropy, total=   2.1s\n",
            "[CV] n_estimators=1000, min_samples_split=5, min_samples_leaf=4, max_features=log2, max_depth=391, criterion=entropy \n",
            "[CV]  n_estimators=1000, min_samples_split=5, min_samples_leaf=4, max_features=log2, max_depth=391, criterion=entropy, total=   2.1s\n",
            "[CV] n_estimators=300, min_samples_split=14, min_samples_leaf=2, max_features=auto, max_depth=445, criterion=entropy \n",
            "[CV]  n_estimators=300, min_samples_split=14, min_samples_leaf=2, max_features=auto, max_depth=445, criterion=entropy, total=   0.6s\n",
            "[CV] n_estimators=300, min_samples_split=14, min_samples_leaf=2, max_features=auto, max_depth=445, criterion=entropy \n",
            "[CV]  n_estimators=300, min_samples_split=14, min_samples_leaf=2, max_features=auto, max_depth=445, criterion=entropy, total=   0.6s\n",
            "[CV] n_estimators=300, min_samples_split=14, min_samples_leaf=2, max_features=auto, max_depth=445, criterion=entropy \n",
            "[CV]  n_estimators=300, min_samples_split=14, min_samples_leaf=2, max_features=auto, max_depth=445, criterion=entropy, total=   0.6s\n",
            "[CV] n_estimators=400, min_samples_split=14, min_samples_leaf=2, max_features=sqrt, max_depth=500, criterion=entropy \n",
            "[CV]  n_estimators=400, min_samples_split=14, min_samples_leaf=2, max_features=sqrt, max_depth=500, criterion=entropy, total=   0.8s\n",
            "[CV] n_estimators=400, min_samples_split=14, min_samples_leaf=2, max_features=sqrt, max_depth=500, criterion=entropy \n",
            "[CV]  n_estimators=400, min_samples_split=14, min_samples_leaf=2, max_features=sqrt, max_depth=500, criterion=entropy, total=   0.8s\n",
            "[CV] n_estimators=400, min_samples_split=14, min_samples_leaf=2, max_features=sqrt, max_depth=500, criterion=entropy \n",
            "[CV]  n_estimators=400, min_samples_split=14, min_samples_leaf=2, max_features=sqrt, max_depth=500, criterion=entropy, total=   0.8s\n",
            "[CV] n_estimators=800, min_samples_split=10, min_samples_leaf=6, max_features=auto, max_depth=173, criterion=None \n"
          ],
          "name": "stdout"
        },
        {
          "output_type": "stream",
          "text": [
            "/usr/local/lib/python3.7/dist-packages/sklearn/model_selection/_validation.py:536: FitFailedWarning: Estimator fit failed. The score on this train-test partition for these parameters will be set to nan. Details: \n",
            "KeyError: 'None'\n",
            "\n",
            "  FitFailedWarning)\n"
          ],
          "name": "stderr"
        },
        {
          "output_type": "stream",
          "text": [
            "[CV]  n_estimators=800, min_samples_split=10, min_samples_leaf=6, max_features=auto, max_depth=173, criterion=None, total=   0.4s\n",
            "[CV] n_estimators=800, min_samples_split=10, min_samples_leaf=6, max_features=auto, max_depth=173, criterion=None \n"
          ],
          "name": "stdout"
        },
        {
          "output_type": "stream",
          "text": [
            "/usr/local/lib/python3.7/dist-packages/sklearn/model_selection/_validation.py:536: FitFailedWarning: Estimator fit failed. The score on this train-test partition for these parameters will be set to nan. Details: \n",
            "KeyError: 'None'\n",
            "\n",
            "  FitFailedWarning)\n"
          ],
          "name": "stderr"
        },
        {
          "output_type": "stream",
          "text": [
            "[CV]  n_estimators=800, min_samples_split=10, min_samples_leaf=6, max_features=auto, max_depth=173, criterion=None, total=   0.4s\n",
            "[CV] n_estimators=800, min_samples_split=10, min_samples_leaf=6, max_features=auto, max_depth=173, criterion=None \n"
          ],
          "name": "stdout"
        },
        {
          "output_type": "stream",
          "text": [
            "/usr/local/lib/python3.7/dist-packages/sklearn/model_selection/_validation.py:536: FitFailedWarning: Estimator fit failed. The score on this train-test partition for these parameters will be set to nan. Details: \n",
            "KeyError: 'None'\n",
            "\n",
            "  FitFailedWarning)\n"
          ],
          "name": "stderr"
        },
        {
          "output_type": "stream",
          "text": [
            "[CV]  n_estimators=800, min_samples_split=10, min_samples_leaf=6, max_features=auto, max_depth=173, criterion=None, total=   0.3s\n",
            "[CV] n_estimators=100, min_samples_split=5, min_samples_leaf=8, max_features=sqrt, max_depth=282, criterion=entropy \n",
            "[CV]  n_estimators=100, min_samples_split=5, min_samples_leaf=8, max_features=sqrt, max_depth=282, criterion=entropy, total=   0.2s\n",
            "[CV] n_estimators=100, min_samples_split=5, min_samples_leaf=8, max_features=sqrt, max_depth=282, criterion=entropy \n",
            "[CV]  n_estimators=100, min_samples_split=5, min_samples_leaf=8, max_features=sqrt, max_depth=282, criterion=entropy, total=   0.2s\n",
            "[CV] n_estimators=100, min_samples_split=5, min_samples_leaf=8, max_features=sqrt, max_depth=282, criterion=entropy \n",
            "[CV]  n_estimators=100, min_samples_split=5, min_samples_leaf=8, max_features=sqrt, max_depth=282, criterion=entropy, total=   0.2s\n",
            "[CV] n_estimators=800, min_samples_split=2, min_samples_leaf=2, max_features=log2, max_depth=336, criterion=None \n"
          ],
          "name": "stdout"
        },
        {
          "output_type": "stream",
          "text": [
            "/usr/local/lib/python3.7/dist-packages/sklearn/model_selection/_validation.py:536: FitFailedWarning: Estimator fit failed. The score on this train-test partition for these parameters will be set to nan. Details: \n",
            "KeyError: 'None'\n",
            "\n",
            "  FitFailedWarning)\n"
          ],
          "name": "stderr"
        },
        {
          "output_type": "stream",
          "text": [
            "[CV]  n_estimators=800, min_samples_split=2, min_samples_leaf=2, max_features=log2, max_depth=336, criterion=None, total=   0.3s\n",
            "[CV] n_estimators=800, min_samples_split=2, min_samples_leaf=2, max_features=log2, max_depth=336, criterion=None \n"
          ],
          "name": "stdout"
        },
        {
          "output_type": "stream",
          "text": [
            "/usr/local/lib/python3.7/dist-packages/sklearn/model_selection/_validation.py:536: FitFailedWarning: Estimator fit failed. The score on this train-test partition for these parameters will be set to nan. Details: \n",
            "KeyError: 'None'\n",
            "\n",
            "  FitFailedWarning)\n"
          ],
          "name": "stderr"
        },
        {
          "output_type": "stream",
          "text": [
            "[CV]  n_estimators=800, min_samples_split=2, min_samples_leaf=2, max_features=log2, max_depth=336, criterion=None, total=   0.3s\n",
            "[CV] n_estimators=800, min_samples_split=2, min_samples_leaf=2, max_features=log2, max_depth=336, criterion=None \n"
          ],
          "name": "stdout"
        },
        {
          "output_type": "stream",
          "text": [
            "/usr/local/lib/python3.7/dist-packages/sklearn/model_selection/_validation.py:536: FitFailedWarning: Estimator fit failed. The score on this train-test partition for these parameters will be set to nan. Details: \n",
            "KeyError: 'None'\n",
            "\n",
            "  FitFailedWarning)\n"
          ],
          "name": "stderr"
        },
        {
          "output_type": "stream",
          "text": [
            "[CV]  n_estimators=800, min_samples_split=2, min_samples_leaf=2, max_features=log2, max_depth=336, criterion=None, total=   0.4s\n",
            "[CV] n_estimators=300, min_samples_split=14, min_samples_leaf=6, max_features=auto, max_depth=227, criterion=gini \n",
            "[CV]  n_estimators=300, min_samples_split=14, min_samples_leaf=6, max_features=auto, max_depth=227, criterion=gini, total=   0.5s\n",
            "[CV] n_estimators=300, min_samples_split=14, min_samples_leaf=6, max_features=auto, max_depth=227, criterion=gini \n",
            "[CV]  n_estimators=300, min_samples_split=14, min_samples_leaf=6, max_features=auto, max_depth=227, criterion=gini, total=   0.5s\n",
            "[CV] n_estimators=300, min_samples_split=14, min_samples_leaf=6, max_features=auto, max_depth=227, criterion=gini \n",
            "[CV]  n_estimators=300, min_samples_split=14, min_samples_leaf=6, max_features=auto, max_depth=227, criterion=gini, total=   0.5s\n",
            "[CV] n_estimators=900, min_samples_split=14, min_samples_leaf=8, max_features=auto, max_depth=173, criterion=gini \n",
            "[CV]  n_estimators=900, min_samples_split=14, min_samples_leaf=8, max_features=auto, max_depth=173, criterion=gini, total=   1.5s\n",
            "[CV] n_estimators=900, min_samples_split=14, min_samples_leaf=8, max_features=auto, max_depth=173, criterion=gini \n",
            "[CV]  n_estimators=900, min_samples_split=14, min_samples_leaf=8, max_features=auto, max_depth=173, criterion=gini, total=   1.5s\n",
            "[CV] n_estimators=900, min_samples_split=14, min_samples_leaf=8, max_features=auto, max_depth=173, criterion=gini \n",
            "[CV]  n_estimators=900, min_samples_split=14, min_samples_leaf=8, max_features=auto, max_depth=173, criterion=gini, total=   1.5s\n",
            "[CV] n_estimators=800, min_samples_split=5, min_samples_leaf=1, max_features=sqrt, max_depth=445, criterion=entropy \n",
            "[CV]  n_estimators=800, min_samples_split=5, min_samples_leaf=1, max_features=sqrt, max_depth=445, criterion=entropy, total=   1.6s\n",
            "[CV] n_estimators=800, min_samples_split=5, min_samples_leaf=1, max_features=sqrt, max_depth=445, criterion=entropy \n",
            "[CV]  n_estimators=800, min_samples_split=5, min_samples_leaf=1, max_features=sqrt, max_depth=445, criterion=entropy, total=   1.6s\n",
            "[CV] n_estimators=800, min_samples_split=5, min_samples_leaf=1, max_features=sqrt, max_depth=445, criterion=entropy \n",
            "[CV]  n_estimators=800, min_samples_split=5, min_samples_leaf=1, max_features=sqrt, max_depth=445, criterion=entropy, total=   1.6s\n",
            "[CV] n_estimators=900, min_samples_split=2, min_samples_leaf=8, max_features=log2, max_depth=118, criterion=None \n"
          ],
          "name": "stdout"
        },
        {
          "output_type": "stream",
          "text": [
            "/usr/local/lib/python3.7/dist-packages/sklearn/model_selection/_validation.py:536: FitFailedWarning: Estimator fit failed. The score on this train-test partition for these parameters will be set to nan. Details: \n",
            "KeyError: 'None'\n",
            "\n",
            "  FitFailedWarning)\n"
          ],
          "name": "stderr"
        },
        {
          "output_type": "stream",
          "text": [
            "[CV]  n_estimators=900, min_samples_split=2, min_samples_leaf=8, max_features=log2, max_depth=118, criterion=None, total=   0.4s\n",
            "[CV] n_estimators=900, min_samples_split=2, min_samples_leaf=8, max_features=log2, max_depth=118, criterion=None \n"
          ],
          "name": "stdout"
        },
        {
          "output_type": "stream",
          "text": [
            "/usr/local/lib/python3.7/dist-packages/sklearn/model_selection/_validation.py:536: FitFailedWarning: Estimator fit failed. The score on this train-test partition for these parameters will be set to nan. Details: \n",
            "KeyError: 'None'\n",
            "\n",
            "  FitFailedWarning)\n"
          ],
          "name": "stderr"
        },
        {
          "output_type": "stream",
          "text": [
            "[CV]  n_estimators=900, min_samples_split=2, min_samples_leaf=8, max_features=log2, max_depth=118, criterion=None, total=   0.4s\n",
            "[CV] n_estimators=900, min_samples_split=2, min_samples_leaf=8, max_features=log2, max_depth=118, criterion=None \n"
          ],
          "name": "stdout"
        },
        {
          "output_type": "stream",
          "text": [
            "/usr/local/lib/python3.7/dist-packages/sklearn/model_selection/_validation.py:536: FitFailedWarning: Estimator fit failed. The score on this train-test partition for these parameters will be set to nan. Details: \n",
            "KeyError: 'None'\n",
            "\n",
            "  FitFailedWarning)\n"
          ],
          "name": "stderr"
        },
        {
          "output_type": "stream",
          "text": [
            "[CV]  n_estimators=900, min_samples_split=2, min_samples_leaf=8, max_features=log2, max_depth=118, criterion=None, total=   0.4s\n",
            "[CV] n_estimators=800, min_samples_split=14, min_samples_leaf=8, max_features=auto, max_depth=227, criterion=gini \n",
            "[CV]  n_estimators=800, min_samples_split=14, min_samples_leaf=8, max_features=auto, max_depth=227, criterion=gini, total=   1.3s\n",
            "[CV] n_estimators=800, min_samples_split=14, min_samples_leaf=8, max_features=auto, max_depth=227, criterion=gini \n",
            "[CV]  n_estimators=800, min_samples_split=14, min_samples_leaf=8, max_features=auto, max_depth=227, criterion=gini, total=   1.3s\n",
            "[CV] n_estimators=800, min_samples_split=14, min_samples_leaf=8, max_features=auto, max_depth=227, criterion=gini \n",
            "[CV]  n_estimators=800, min_samples_split=14, min_samples_leaf=8, max_features=auto, max_depth=227, criterion=gini, total=   1.3s\n",
            "[CV] n_estimators=200, min_samples_split=5, min_samples_leaf=8, max_features=auto, max_depth=336, criterion=None \n",
            "[CV]  n_estimators=200, min_samples_split=5, min_samples_leaf=8, max_features=auto, max_depth=336, criterion=None, total=   0.1s\n",
            "[CV] n_estimators=200, min_samples_split=5, min_samples_leaf=8, max_features=auto, max_depth=336, criterion=None \n",
            "[CV]  n_estimators=200, min_samples_split=5, min_samples_leaf=8, max_features=auto, max_depth=336, criterion=None, total=   0.1s\n",
            "[CV] n_estimators=200, min_samples_split=5, min_samples_leaf=8, max_features=auto, max_depth=336, criterion=None \n"
          ],
          "name": "stdout"
        },
        {
          "output_type": "stream",
          "text": [
            "/usr/local/lib/python3.7/dist-packages/sklearn/model_selection/_validation.py:536: FitFailedWarning: Estimator fit failed. The score on this train-test partition for these parameters will be set to nan. Details: \n",
            "KeyError: 'None'\n",
            "\n",
            "  FitFailedWarning)\n",
            "/usr/local/lib/python3.7/dist-packages/sklearn/model_selection/_validation.py:536: FitFailedWarning: Estimator fit failed. The score on this train-test partition for these parameters will be set to nan. Details: \n",
            "KeyError: 'None'\n",
            "\n",
            "  FitFailedWarning)\n",
            "/usr/local/lib/python3.7/dist-packages/sklearn/model_selection/_validation.py:536: FitFailedWarning: Estimator fit failed. The score on this train-test partition for these parameters will be set to nan. Details: \n",
            "KeyError: 'None'\n",
            "\n",
            "  FitFailedWarning)\n"
          ],
          "name": "stderr"
        },
        {
          "output_type": "stream",
          "text": [
            "[CV]  n_estimators=200, min_samples_split=5, min_samples_leaf=8, max_features=auto, max_depth=336, criterion=None, total=   0.1s\n",
            "[CV] n_estimators=700, min_samples_split=10, min_samples_leaf=2, max_features=log2, max_depth=10, criterion=gini \n",
            "[CV]  n_estimators=700, min_samples_split=10, min_samples_leaf=2, max_features=log2, max_depth=10, criterion=gini, total=   1.3s\n",
            "[CV] n_estimators=700, min_samples_split=10, min_samples_leaf=2, max_features=log2, max_depth=10, criterion=gini \n",
            "[CV]  n_estimators=700, min_samples_split=10, min_samples_leaf=2, max_features=log2, max_depth=10, criterion=gini, total=   1.2s\n",
            "[CV] n_estimators=700, min_samples_split=10, min_samples_leaf=2, max_features=log2, max_depth=10, criterion=gini \n",
            "[CV]  n_estimators=700, min_samples_split=10, min_samples_leaf=2, max_features=log2, max_depth=10, criterion=gini, total=   1.3s\n",
            "[CV] n_estimators=600, min_samples_split=5, min_samples_leaf=6, max_features=log2, max_depth=445, criterion=gini \n",
            "[CV]  n_estimators=600, min_samples_split=5, min_samples_leaf=6, max_features=log2, max_depth=445, criterion=gini, total=   1.0s\n",
            "[CV] n_estimators=600, min_samples_split=5, min_samples_leaf=6, max_features=log2, max_depth=445, criterion=gini \n",
            "[CV]  n_estimators=600, min_samples_split=5, min_samples_leaf=6, max_features=log2, max_depth=445, criterion=gini, total=   1.1s\n",
            "[CV] n_estimators=600, min_samples_split=5, min_samples_leaf=6, max_features=log2, max_depth=445, criterion=gini \n",
            "[CV]  n_estimators=600, min_samples_split=5, min_samples_leaf=6, max_features=log2, max_depth=445, criterion=gini, total=   1.0s\n",
            "[CV] n_estimators=700, min_samples_split=5, min_samples_leaf=6, max_features=sqrt, max_depth=500, criterion=entropy \n",
            "[CV]  n_estimators=700, min_samples_split=5, min_samples_leaf=6, max_features=sqrt, max_depth=500, criterion=entropy, total=   1.3s\n",
            "[CV] n_estimators=700, min_samples_split=5, min_samples_leaf=6, max_features=sqrt, max_depth=500, criterion=entropy \n",
            "[CV]  n_estimators=700, min_samples_split=5, min_samples_leaf=6, max_features=sqrt, max_depth=500, criterion=entropy, total=   1.2s\n",
            "[CV] n_estimators=700, min_samples_split=5, min_samples_leaf=6, max_features=sqrt, max_depth=500, criterion=entropy \n",
            "[CV]  n_estimators=700, min_samples_split=5, min_samples_leaf=6, max_features=sqrt, max_depth=500, criterion=entropy, total=   1.3s\n",
            "[CV] n_estimators=600, min_samples_split=5, min_samples_leaf=1, max_features=sqrt, max_depth=336, criterion=gini \n",
            "[CV]  n_estimators=600, min_samples_split=5, min_samples_leaf=1, max_features=sqrt, max_depth=336, criterion=gini, total=   1.0s\n",
            "[CV] n_estimators=600, min_samples_split=5, min_samples_leaf=1, max_features=sqrt, max_depth=336, criterion=gini \n",
            "[CV]  n_estimators=600, min_samples_split=5, min_samples_leaf=1, max_features=sqrt, max_depth=336, criterion=gini, total=   1.0s\n",
            "[CV] n_estimators=600, min_samples_split=5, min_samples_leaf=1, max_features=sqrt, max_depth=336, criterion=gini \n",
            "[CV]  n_estimators=600, min_samples_split=5, min_samples_leaf=1, max_features=sqrt, max_depth=336, criterion=gini, total=   1.0s\n",
            "[CV] n_estimators=100, min_samples_split=14, min_samples_leaf=6, max_features=sqrt, max_depth=445, criterion=gini \n",
            "[CV]  n_estimators=100, min_samples_split=14, min_samples_leaf=6, max_features=sqrt, max_depth=445, criterion=gini, total=   0.2s\n",
            "[CV] n_estimators=100, min_samples_split=14, min_samples_leaf=6, max_features=sqrt, max_depth=445, criterion=gini \n",
            "[CV]  n_estimators=100, min_samples_split=14, min_samples_leaf=6, max_features=sqrt, max_depth=445, criterion=gini, total=   0.2s\n",
            "[CV] n_estimators=100, min_samples_split=14, min_samples_leaf=6, max_features=sqrt, max_depth=445, criterion=gini \n",
            "[CV]  n_estimators=100, min_samples_split=14, min_samples_leaf=6, max_features=sqrt, max_depth=445, criterion=gini, total=   0.2s\n",
            "[CV] n_estimators=900, min_samples_split=5, min_samples_leaf=8, max_features=log2, max_depth=64, criterion=entropy \n",
            "[CV]  n_estimators=900, min_samples_split=5, min_samples_leaf=8, max_features=log2, max_depth=64, criterion=entropy, total=   1.7s\n",
            "[CV] n_estimators=900, min_samples_split=5, min_samples_leaf=8, max_features=log2, max_depth=64, criterion=entropy \n",
            "[CV]  n_estimators=900, min_samples_split=5, min_samples_leaf=8, max_features=log2, max_depth=64, criterion=entropy, total=   1.7s\n",
            "[CV] n_estimators=900, min_samples_split=5, min_samples_leaf=8, max_features=log2, max_depth=64, criterion=entropy \n",
            "[CV]  n_estimators=900, min_samples_split=5, min_samples_leaf=8, max_features=log2, max_depth=64, criterion=entropy, total=   1.7s\n",
            "[CV] n_estimators=800, min_samples_split=10, min_samples_leaf=8, max_features=auto, max_depth=10, criterion=gini \n",
            "[CV]  n_estimators=800, min_samples_split=10, min_samples_leaf=8, max_features=auto, max_depth=10, criterion=gini, total=   1.3s\n",
            "[CV] n_estimators=800, min_samples_split=10, min_samples_leaf=8, max_features=auto, max_depth=10, criterion=gini \n",
            "[CV]  n_estimators=800, min_samples_split=10, min_samples_leaf=8, max_features=auto, max_depth=10, criterion=gini, total=   1.4s\n",
            "[CV] n_estimators=800, min_samples_split=10, min_samples_leaf=8, max_features=auto, max_depth=10, criterion=gini \n",
            "[CV]  n_estimators=800, min_samples_split=10, min_samples_leaf=8, max_features=auto, max_depth=10, criterion=gini, total=   1.3s\n",
            "[CV] n_estimators=700, min_samples_split=2, min_samples_leaf=2, max_features=auto, max_depth=173, criterion=gini \n",
            "[CV]  n_estimators=700, min_samples_split=2, min_samples_leaf=2, max_features=auto, max_depth=173, criterion=gini, total=   1.2s\n",
            "[CV] n_estimators=700, min_samples_split=2, min_samples_leaf=2, max_features=auto, max_depth=173, criterion=gini \n",
            "[CV]  n_estimators=700, min_samples_split=2, min_samples_leaf=2, max_features=auto, max_depth=173, criterion=gini, total=   1.2s\n",
            "[CV] n_estimators=700, min_samples_split=2, min_samples_leaf=2, max_features=auto, max_depth=173, criterion=gini \n",
            "[CV]  n_estimators=700, min_samples_split=2, min_samples_leaf=2, max_features=auto, max_depth=173, criterion=gini, total=   1.2s\n",
            "[CV] n_estimators=900, min_samples_split=5, min_samples_leaf=2, max_features=auto, max_depth=500, criterion=entropy \n",
            "[CV]  n_estimators=900, min_samples_split=5, min_samples_leaf=2, max_features=auto, max_depth=500, criterion=entropy, total=   1.8s\n",
            "[CV] n_estimators=900, min_samples_split=5, min_samples_leaf=2, max_features=auto, max_depth=500, criterion=entropy \n",
            "[CV]  n_estimators=900, min_samples_split=5, min_samples_leaf=2, max_features=auto, max_depth=500, criterion=entropy, total=   1.8s\n",
            "[CV] n_estimators=900, min_samples_split=5, min_samples_leaf=2, max_features=auto, max_depth=500, criterion=entropy \n",
            "[CV]  n_estimators=900, min_samples_split=5, min_samples_leaf=2, max_features=auto, max_depth=500, criterion=entropy, total=   1.8s\n",
            "[CV] n_estimators=200, min_samples_split=2, min_samples_leaf=4, max_features=sqrt, max_depth=500, criterion=None \n",
            "[CV]  n_estimators=200, min_samples_split=2, min_samples_leaf=4, max_features=sqrt, max_depth=500, criterion=None, total=   0.1s\n",
            "[CV] n_estimators=200, min_samples_split=2, min_samples_leaf=4, max_features=sqrt, max_depth=500, criterion=None \n",
            "[CV]  n_estimators=200, min_samples_split=2, min_samples_leaf=4, max_features=sqrt, max_depth=500, criterion=None, total=   0.1s\n",
            "[CV] n_estimators=200, min_samples_split=2, min_samples_leaf=4, max_features=sqrt, max_depth=500, criterion=None \n"
          ],
          "name": "stdout"
        },
        {
          "output_type": "stream",
          "text": [
            "/usr/local/lib/python3.7/dist-packages/sklearn/model_selection/_validation.py:536: FitFailedWarning: Estimator fit failed. The score on this train-test partition for these parameters will be set to nan. Details: \n",
            "KeyError: 'None'\n",
            "\n",
            "  FitFailedWarning)\n",
            "/usr/local/lib/python3.7/dist-packages/sklearn/model_selection/_validation.py:536: FitFailedWarning: Estimator fit failed. The score on this train-test partition for these parameters will be set to nan. Details: \n",
            "KeyError: 'None'\n",
            "\n",
            "  FitFailedWarning)\n",
            "/usr/local/lib/python3.7/dist-packages/sklearn/model_selection/_validation.py:536: FitFailedWarning: Estimator fit failed. The score on this train-test partition for these parameters will be set to nan. Details: \n",
            "KeyError: 'None'\n",
            "\n",
            "  FitFailedWarning)\n"
          ],
          "name": "stderr"
        },
        {
          "output_type": "stream",
          "text": [
            "[CV]  n_estimators=200, min_samples_split=2, min_samples_leaf=4, max_features=sqrt, max_depth=500, criterion=None, total=   0.1s\n",
            "[CV] n_estimators=300, min_samples_split=5, min_samples_leaf=6, max_features=log2, max_depth=336, criterion=gini \n",
            "[CV]  n_estimators=300, min_samples_split=5, min_samples_leaf=6, max_features=log2, max_depth=336, criterion=gini, total=   0.6s\n",
            "[CV] n_estimators=300, min_samples_split=5, min_samples_leaf=6, max_features=log2, max_depth=336, criterion=gini \n",
            "[CV]  n_estimators=300, min_samples_split=5, min_samples_leaf=6, max_features=log2, max_depth=336, criterion=gini, total=   0.6s\n",
            "[CV] n_estimators=300, min_samples_split=5, min_samples_leaf=6, max_features=log2, max_depth=336, criterion=gini \n",
            "[CV]  n_estimators=300, min_samples_split=5, min_samples_leaf=6, max_features=log2, max_depth=336, criterion=gini, total=   0.5s\n",
            "[CV] n_estimators=900, min_samples_split=14, min_samples_leaf=4, max_features=auto, max_depth=336, criterion=None \n"
          ],
          "name": "stdout"
        },
        {
          "output_type": "stream",
          "text": [
            "/usr/local/lib/python3.7/dist-packages/sklearn/model_selection/_validation.py:536: FitFailedWarning: Estimator fit failed. The score on this train-test partition for these parameters will be set to nan. Details: \n",
            "KeyError: 'None'\n",
            "\n",
            "  FitFailedWarning)\n"
          ],
          "name": "stderr"
        },
        {
          "output_type": "stream",
          "text": [
            "[CV]  n_estimators=900, min_samples_split=14, min_samples_leaf=4, max_features=auto, max_depth=336, criterion=None, total=   0.4s\n",
            "[CV] n_estimators=900, min_samples_split=14, min_samples_leaf=4, max_features=auto, max_depth=336, criterion=None \n"
          ],
          "name": "stdout"
        },
        {
          "output_type": "stream",
          "text": [
            "/usr/local/lib/python3.7/dist-packages/sklearn/model_selection/_validation.py:536: FitFailedWarning: Estimator fit failed. The score on this train-test partition for these parameters will be set to nan. Details: \n",
            "KeyError: 'None'\n",
            "\n",
            "  FitFailedWarning)\n"
          ],
          "name": "stderr"
        },
        {
          "output_type": "stream",
          "text": [
            "[CV]  n_estimators=900, min_samples_split=14, min_samples_leaf=4, max_features=auto, max_depth=336, criterion=None, total=   0.4s\n",
            "[CV] n_estimators=900, min_samples_split=14, min_samples_leaf=4, max_features=auto, max_depth=336, criterion=None \n"
          ],
          "name": "stdout"
        },
        {
          "output_type": "stream",
          "text": [
            "/usr/local/lib/python3.7/dist-packages/sklearn/model_selection/_validation.py:536: FitFailedWarning: Estimator fit failed. The score on this train-test partition for these parameters will be set to nan. Details: \n",
            "KeyError: 'None'\n",
            "\n",
            "  FitFailedWarning)\n"
          ],
          "name": "stderr"
        },
        {
          "output_type": "stream",
          "text": [
            "[CV]  n_estimators=900, min_samples_split=14, min_samples_leaf=4, max_features=auto, max_depth=336, criterion=None, total=   0.4s\n",
            "[CV] n_estimators=1000, min_samples_split=10, min_samples_leaf=4, max_features=sqrt, max_depth=391, criterion=None \n"
          ],
          "name": "stdout"
        },
        {
          "output_type": "stream",
          "text": [
            "/usr/local/lib/python3.7/dist-packages/sklearn/model_selection/_validation.py:536: FitFailedWarning: Estimator fit failed. The score on this train-test partition for these parameters will be set to nan. Details: \n",
            "KeyError: 'None'\n",
            "\n",
            "  FitFailedWarning)\n"
          ],
          "name": "stderr"
        },
        {
          "output_type": "stream",
          "text": [
            "[CV]  n_estimators=1000, min_samples_split=10, min_samples_leaf=4, max_features=sqrt, max_depth=391, criterion=None, total=   0.4s\n",
            "[CV] n_estimators=1000, min_samples_split=10, min_samples_leaf=4, max_features=sqrt, max_depth=391, criterion=None \n"
          ],
          "name": "stdout"
        },
        {
          "output_type": "stream",
          "text": [
            "/usr/local/lib/python3.7/dist-packages/sklearn/model_selection/_validation.py:536: FitFailedWarning: Estimator fit failed. The score on this train-test partition for these parameters will be set to nan. Details: \n",
            "KeyError: 'None'\n",
            "\n",
            "  FitFailedWarning)\n"
          ],
          "name": "stderr"
        },
        {
          "output_type": "stream",
          "text": [
            "[CV]  n_estimators=1000, min_samples_split=10, min_samples_leaf=4, max_features=sqrt, max_depth=391, criterion=None, total=   0.4s\n",
            "[CV] n_estimators=1000, min_samples_split=10, min_samples_leaf=4, max_features=sqrt, max_depth=391, criterion=None \n"
          ],
          "name": "stdout"
        },
        {
          "output_type": "stream",
          "text": [
            "/usr/local/lib/python3.7/dist-packages/sklearn/model_selection/_validation.py:536: FitFailedWarning: Estimator fit failed. The score on this train-test partition for these parameters will be set to nan. Details: \n",
            "KeyError: 'None'\n",
            "\n",
            "  FitFailedWarning)\n"
          ],
          "name": "stderr"
        },
        {
          "output_type": "stream",
          "text": [
            "[CV]  n_estimators=1000, min_samples_split=10, min_samples_leaf=4, max_features=sqrt, max_depth=391, criterion=None, total=   0.4s\n",
            "[CV] n_estimators=700, min_samples_split=2, min_samples_leaf=8, max_features=sqrt, max_depth=391, criterion=None \n"
          ],
          "name": "stdout"
        },
        {
          "output_type": "stream",
          "text": [
            "/usr/local/lib/python3.7/dist-packages/sklearn/model_selection/_validation.py:536: FitFailedWarning: Estimator fit failed. The score on this train-test partition for these parameters will be set to nan. Details: \n",
            "KeyError: 'None'\n",
            "\n",
            "  FitFailedWarning)\n"
          ],
          "name": "stderr"
        },
        {
          "output_type": "stream",
          "text": [
            "[CV]  n_estimators=700, min_samples_split=2, min_samples_leaf=8, max_features=sqrt, max_depth=391, criterion=None, total=   0.3s\n",
            "[CV] n_estimators=700, min_samples_split=2, min_samples_leaf=8, max_features=sqrt, max_depth=391, criterion=None \n"
          ],
          "name": "stdout"
        },
        {
          "output_type": "stream",
          "text": [
            "/usr/local/lib/python3.7/dist-packages/sklearn/model_selection/_validation.py:536: FitFailedWarning: Estimator fit failed. The score on this train-test partition for these parameters will be set to nan. Details: \n",
            "KeyError: 'None'\n",
            "\n",
            "  FitFailedWarning)\n"
          ],
          "name": "stderr"
        },
        {
          "output_type": "stream",
          "text": [
            "[CV]  n_estimators=700, min_samples_split=2, min_samples_leaf=8, max_features=sqrt, max_depth=391, criterion=None, total=   0.3s\n",
            "[CV] n_estimators=700, min_samples_split=2, min_samples_leaf=8, max_features=sqrt, max_depth=391, criterion=None \n"
          ],
          "name": "stdout"
        },
        {
          "output_type": "stream",
          "text": [
            "/usr/local/lib/python3.7/dist-packages/sklearn/model_selection/_validation.py:536: FitFailedWarning: Estimator fit failed. The score on this train-test partition for these parameters will be set to nan. Details: \n",
            "KeyError: 'None'\n",
            "\n",
            "  FitFailedWarning)\n"
          ],
          "name": "stderr"
        },
        {
          "output_type": "stream",
          "text": [
            "[CV]  n_estimators=700, min_samples_split=2, min_samples_leaf=8, max_features=sqrt, max_depth=391, criterion=None, total=   0.3s\n",
            "[CV] n_estimators=300, min_samples_split=14, min_samples_leaf=4, max_features=log2, max_depth=445, criterion=entropy \n",
            "[CV]  n_estimators=300, min_samples_split=14, min_samples_leaf=4, max_features=log2, max_depth=445, criterion=entropy, total=   0.6s\n",
            "[CV] n_estimators=300, min_samples_split=14, min_samples_leaf=4, max_features=log2, max_depth=445, criterion=entropy \n",
            "[CV]  n_estimators=300, min_samples_split=14, min_samples_leaf=4, max_features=log2, max_depth=445, criterion=entropy, total=   0.6s\n",
            "[CV] n_estimators=300, min_samples_split=14, min_samples_leaf=4, max_features=log2, max_depth=445, criterion=entropy \n",
            "[CV]  n_estimators=300, min_samples_split=14, min_samples_leaf=4, max_features=log2, max_depth=445, criterion=entropy, total=   0.6s\n",
            "[CV] n_estimators=1000, min_samples_split=10, min_samples_leaf=1, max_features=sqrt, max_depth=173, criterion=gini \n",
            "[CV]  n_estimators=1000, min_samples_split=10, min_samples_leaf=1, max_features=sqrt, max_depth=173, criterion=gini, total=   1.7s\n",
            "[CV] n_estimators=1000, min_samples_split=10, min_samples_leaf=1, max_features=sqrt, max_depth=173, criterion=gini \n",
            "[CV]  n_estimators=1000, min_samples_split=10, min_samples_leaf=1, max_features=sqrt, max_depth=173, criterion=gini, total=   1.7s\n",
            "[CV] n_estimators=1000, min_samples_split=10, min_samples_leaf=1, max_features=sqrt, max_depth=173, criterion=gini \n",
            "[CV]  n_estimators=1000, min_samples_split=10, min_samples_leaf=1, max_features=sqrt, max_depth=173, criterion=gini, total=   1.7s\n",
            "[CV] n_estimators=1000, min_samples_split=5, min_samples_leaf=6, max_features=log2, max_depth=500, criterion=entropy \n",
            "[CV]  n_estimators=1000, min_samples_split=5, min_samples_leaf=6, max_features=log2, max_depth=500, criterion=entropy, total=   1.9s\n",
            "[CV] n_estimators=1000, min_samples_split=5, min_samples_leaf=6, max_features=log2, max_depth=500, criterion=entropy \n",
            "[CV]  n_estimators=1000, min_samples_split=5, min_samples_leaf=6, max_features=log2, max_depth=500, criterion=entropy, total=   1.9s\n",
            "[CV] n_estimators=1000, min_samples_split=5, min_samples_leaf=6, max_features=log2, max_depth=500, criterion=entropy \n",
            "[CV]  n_estimators=1000, min_samples_split=5, min_samples_leaf=6, max_features=log2, max_depth=500, criterion=entropy, total=   2.0s\n",
            "[CV] n_estimators=200, min_samples_split=5, min_samples_leaf=1, max_features=sqrt, max_depth=10, criterion=None \n",
            "[CV]  n_estimators=200, min_samples_split=5, min_samples_leaf=1, max_features=sqrt, max_depth=10, criterion=None, total=   0.1s\n",
            "[CV] n_estimators=200, min_samples_split=5, min_samples_leaf=1, max_features=sqrt, max_depth=10, criterion=None \n",
            "[CV]  n_estimators=200, min_samples_split=5, min_samples_leaf=1, max_features=sqrt, max_depth=10, criterion=None, total=   0.1s\n",
            "[CV] n_estimators=200, min_samples_split=5, min_samples_leaf=1, max_features=sqrt, max_depth=10, criterion=None \n"
          ],
          "name": "stdout"
        },
        {
          "output_type": "stream",
          "text": [
            "/usr/local/lib/python3.7/dist-packages/sklearn/model_selection/_validation.py:536: FitFailedWarning: Estimator fit failed. The score on this train-test partition for these parameters will be set to nan. Details: \n",
            "KeyError: 'None'\n",
            "\n",
            "  FitFailedWarning)\n",
            "/usr/local/lib/python3.7/dist-packages/sklearn/model_selection/_validation.py:536: FitFailedWarning: Estimator fit failed. The score on this train-test partition for these parameters will be set to nan. Details: \n",
            "KeyError: 'None'\n",
            "\n",
            "  FitFailedWarning)\n",
            "/usr/local/lib/python3.7/dist-packages/sklearn/model_selection/_validation.py:536: FitFailedWarning: Estimator fit failed. The score on this train-test partition for these parameters will be set to nan. Details: \n",
            "KeyError: 'None'\n",
            "\n",
            "  FitFailedWarning)\n"
          ],
          "name": "stderr"
        },
        {
          "output_type": "stream",
          "text": [
            "[CV]  n_estimators=200, min_samples_split=5, min_samples_leaf=1, max_features=sqrt, max_depth=10, criterion=None, total=   0.1s\n",
            "[CV] n_estimators=300, min_samples_split=5, min_samples_leaf=4, max_features=sqrt, max_depth=336, criterion=entropy \n",
            "[CV]  n_estimators=300, min_samples_split=5, min_samples_leaf=4, max_features=sqrt, max_depth=336, criterion=entropy, total=   0.6s\n",
            "[CV] n_estimators=300, min_samples_split=5, min_samples_leaf=4, max_features=sqrt, max_depth=336, criterion=entropy \n",
            "[CV]  n_estimators=300, min_samples_split=5, min_samples_leaf=4, max_features=sqrt, max_depth=336, criterion=entropy, total=   0.6s\n",
            "[CV] n_estimators=300, min_samples_split=5, min_samples_leaf=4, max_features=sqrt, max_depth=336, criterion=entropy \n",
            "[CV]  n_estimators=300, min_samples_split=5, min_samples_leaf=4, max_features=sqrt, max_depth=336, criterion=entropy, total=   0.6s\n",
            "[CV] n_estimators=900, min_samples_split=5, min_samples_leaf=8, max_features=log2, max_depth=10, criterion=gini \n",
            "[CV]  n_estimators=900, min_samples_split=5, min_samples_leaf=8, max_features=log2, max_depth=10, criterion=gini, total=   1.6s\n",
            "[CV] n_estimators=900, min_samples_split=5, min_samples_leaf=8, max_features=log2, max_depth=10, criterion=gini \n",
            "[CV]  n_estimators=900, min_samples_split=5, min_samples_leaf=8, max_features=log2, max_depth=10, criterion=gini, total=   1.5s\n",
            "[CV] n_estimators=900, min_samples_split=5, min_samples_leaf=8, max_features=log2, max_depth=10, criterion=gini \n",
            "[CV]  n_estimators=900, min_samples_split=5, min_samples_leaf=8, max_features=log2, max_depth=10, criterion=gini, total=   1.5s\n",
            "[CV] n_estimators=300, min_samples_split=10, min_samples_leaf=1, max_features=sqrt, max_depth=64, criterion=gini \n",
            "[CV]  n_estimators=300, min_samples_split=10, min_samples_leaf=1, max_features=sqrt, max_depth=64, criterion=gini, total=   0.5s\n",
            "[CV] n_estimators=300, min_samples_split=10, min_samples_leaf=1, max_features=sqrt, max_depth=64, criterion=gini \n",
            "[CV]  n_estimators=300, min_samples_split=10, min_samples_leaf=1, max_features=sqrt, max_depth=64, criterion=gini, total=   0.5s\n",
            "[CV] n_estimators=300, min_samples_split=10, min_samples_leaf=1, max_features=sqrt, max_depth=64, criterion=gini \n",
            "[CV]  n_estimators=300, min_samples_split=10, min_samples_leaf=1, max_features=sqrt, max_depth=64, criterion=gini, total=   0.5s\n",
            "[CV] n_estimators=800, min_samples_split=2, min_samples_leaf=2, max_features=auto, max_depth=282, criterion=entropy \n",
            "[CV]  n_estimators=800, min_samples_split=2, min_samples_leaf=2, max_features=auto, max_depth=282, criterion=entropy, total=   1.6s\n",
            "[CV] n_estimators=800, min_samples_split=2, min_samples_leaf=2, max_features=auto, max_depth=282, criterion=entropy \n",
            "[CV]  n_estimators=800, min_samples_split=2, min_samples_leaf=2, max_features=auto, max_depth=282, criterion=entropy, total=   1.6s\n",
            "[CV] n_estimators=800, min_samples_split=2, min_samples_leaf=2, max_features=auto, max_depth=282, criterion=entropy \n",
            "[CV]  n_estimators=800, min_samples_split=2, min_samples_leaf=2, max_features=auto, max_depth=282, criterion=entropy, total=   1.6s\n",
            "[CV] n_estimators=800, min_samples_split=2, min_samples_leaf=8, max_features=log2, max_depth=445, criterion=gini \n",
            "[CV]  n_estimators=800, min_samples_split=2, min_samples_leaf=8, max_features=log2, max_depth=445, criterion=gini, total=   1.4s\n",
            "[CV] n_estimators=800, min_samples_split=2, min_samples_leaf=8, max_features=log2, max_depth=445, criterion=gini \n",
            "[CV]  n_estimators=800, min_samples_split=2, min_samples_leaf=8, max_features=log2, max_depth=445, criterion=gini, total=   1.4s\n",
            "[CV] n_estimators=800, min_samples_split=2, min_samples_leaf=8, max_features=log2, max_depth=445, criterion=gini \n",
            "[CV]  n_estimators=800, min_samples_split=2, min_samples_leaf=8, max_features=log2, max_depth=445, criterion=gini, total=   1.4s\n",
            "[CV] n_estimators=200, min_samples_split=14, min_samples_leaf=6, max_features=log2, max_depth=282, criterion=None \n",
            "[CV]  n_estimators=200, min_samples_split=14, min_samples_leaf=6, max_features=log2, max_depth=282, criterion=None, total=   0.1s\n",
            "[CV] n_estimators=200, min_samples_split=14, min_samples_leaf=6, max_features=log2, max_depth=282, criterion=None \n",
            "[CV]  n_estimators=200, min_samples_split=14, min_samples_leaf=6, max_features=log2, max_depth=282, criterion=None, total=   0.1s\n",
            "[CV] n_estimators=200, min_samples_split=14, min_samples_leaf=6, max_features=log2, max_depth=282, criterion=None \n"
          ],
          "name": "stdout"
        },
        {
          "output_type": "stream",
          "text": [
            "/usr/local/lib/python3.7/dist-packages/sklearn/model_selection/_validation.py:536: FitFailedWarning: Estimator fit failed. The score on this train-test partition for these parameters will be set to nan. Details: \n",
            "KeyError: 'None'\n",
            "\n",
            "  FitFailedWarning)\n",
            "/usr/local/lib/python3.7/dist-packages/sklearn/model_selection/_validation.py:536: FitFailedWarning: Estimator fit failed. The score on this train-test partition for these parameters will be set to nan. Details: \n",
            "KeyError: 'None'\n",
            "\n",
            "  FitFailedWarning)\n",
            "/usr/local/lib/python3.7/dist-packages/sklearn/model_selection/_validation.py:536: FitFailedWarning: Estimator fit failed. The score on this train-test partition for these parameters will be set to nan. Details: \n",
            "KeyError: 'None'\n",
            "\n",
            "  FitFailedWarning)\n"
          ],
          "name": "stderr"
        },
        {
          "output_type": "stream",
          "text": [
            "[CV]  n_estimators=200, min_samples_split=14, min_samples_leaf=6, max_features=log2, max_depth=282, criterion=None, total=   0.1s\n",
            "[CV] n_estimators=200, min_samples_split=5, min_samples_leaf=8, max_features=auto, max_depth=173, criterion=gini \n",
            "[CV]  n_estimators=200, min_samples_split=5, min_samples_leaf=8, max_features=auto, max_depth=173, criterion=gini, total=   0.4s\n",
            "[CV] n_estimators=200, min_samples_split=5, min_samples_leaf=8, max_features=auto, max_depth=173, criterion=gini \n",
            "[CV]  n_estimators=200, min_samples_split=5, min_samples_leaf=8, max_features=auto, max_depth=173, criterion=gini, total=   0.3s\n",
            "[CV] n_estimators=200, min_samples_split=5, min_samples_leaf=8, max_features=auto, max_depth=173, criterion=gini \n",
            "[CV]  n_estimators=200, min_samples_split=5, min_samples_leaf=8, max_features=auto, max_depth=173, criterion=gini, total=   0.3s\n",
            "[CV] n_estimators=800, min_samples_split=2, min_samples_leaf=4, max_features=log2, max_depth=445, criterion=entropy \n",
            "[CV]  n_estimators=800, min_samples_split=2, min_samples_leaf=4, max_features=log2, max_depth=445, criterion=entropy, total=   1.6s\n",
            "[CV] n_estimators=800, min_samples_split=2, min_samples_leaf=4, max_features=log2, max_depth=445, criterion=entropy \n",
            "[CV]  n_estimators=800, min_samples_split=2, min_samples_leaf=4, max_features=log2, max_depth=445, criterion=entropy, total=   1.7s\n",
            "[CV] n_estimators=800, min_samples_split=2, min_samples_leaf=4, max_features=log2, max_depth=445, criterion=entropy \n",
            "[CV]  n_estimators=800, min_samples_split=2, min_samples_leaf=4, max_features=log2, max_depth=445, criterion=entropy, total=   1.6s\n",
            "[CV] n_estimators=600, min_samples_split=5, min_samples_leaf=4, max_features=log2, max_depth=64, criterion=gini \n",
            "[CV]  n_estimators=600, min_samples_split=5, min_samples_leaf=4, max_features=log2, max_depth=64, criterion=gini, total=   1.1s\n",
            "[CV] n_estimators=600, min_samples_split=5, min_samples_leaf=4, max_features=log2, max_depth=64, criterion=gini \n",
            "[CV]  n_estimators=600, min_samples_split=5, min_samples_leaf=4, max_features=log2, max_depth=64, criterion=gini, total=   1.1s\n",
            "[CV] n_estimators=600, min_samples_split=5, min_samples_leaf=4, max_features=log2, max_depth=64, criterion=gini \n",
            "[CV]  n_estimators=600, min_samples_split=5, min_samples_leaf=4, max_features=log2, max_depth=64, criterion=gini, total=   1.1s\n",
            "[CV] n_estimators=900, min_samples_split=10, min_samples_leaf=8, max_features=log2, max_depth=336, criterion=gini \n",
            "[CV]  n_estimators=900, min_samples_split=10, min_samples_leaf=8, max_features=log2, max_depth=336, criterion=gini, total=   1.5s\n",
            "[CV] n_estimators=900, min_samples_split=10, min_samples_leaf=8, max_features=log2, max_depth=336, criterion=gini \n",
            "[CV]  n_estimators=900, min_samples_split=10, min_samples_leaf=8, max_features=log2, max_depth=336, criterion=gini, total=   1.5s\n",
            "[CV] n_estimators=900, min_samples_split=10, min_samples_leaf=8, max_features=log2, max_depth=336, criterion=gini \n",
            "[CV]  n_estimators=900, min_samples_split=10, min_samples_leaf=8, max_features=log2, max_depth=336, criterion=gini, total=   1.5s\n",
            "[CV] n_estimators=100, min_samples_split=2, min_samples_leaf=4, max_features=log2, max_depth=445, criterion=gini \n",
            "[CV]  n_estimators=100, min_samples_split=2, min_samples_leaf=4, max_features=log2, max_depth=445, criterion=gini, total=   0.2s\n",
            "[CV] n_estimators=100, min_samples_split=2, min_samples_leaf=4, max_features=log2, max_depth=445, criterion=gini \n",
            "[CV]  n_estimators=100, min_samples_split=2, min_samples_leaf=4, max_features=log2, max_depth=445, criterion=gini, total=   0.2s\n",
            "[CV] n_estimators=100, min_samples_split=2, min_samples_leaf=4, max_features=log2, max_depth=445, criterion=gini \n",
            "[CV]  n_estimators=100, min_samples_split=2, min_samples_leaf=4, max_features=log2, max_depth=445, criterion=gini, total=   0.2s\n",
            "[CV] n_estimators=400, min_samples_split=2, min_samples_leaf=1, max_features=log2, max_depth=227, criterion=None \n"
          ],
          "name": "stdout"
        },
        {
          "output_type": "stream",
          "text": [
            "/usr/local/lib/python3.7/dist-packages/sklearn/model_selection/_validation.py:536: FitFailedWarning: Estimator fit failed. The score on this train-test partition for these parameters will be set to nan. Details: \n",
            "KeyError: 'None'\n",
            "\n",
            "  FitFailedWarning)\n",
            "/usr/local/lib/python3.7/dist-packages/sklearn/model_selection/_validation.py:536: FitFailedWarning: Estimator fit failed. The score on this train-test partition for these parameters will be set to nan. Details: \n",
            "KeyError: 'None'\n",
            "\n",
            "  FitFailedWarning)\n"
          ],
          "name": "stderr"
        },
        {
          "output_type": "stream",
          "text": [
            "[CV]  n_estimators=400, min_samples_split=2, min_samples_leaf=1, max_features=log2, max_depth=227, criterion=None, total=   0.2s\n",
            "[CV] n_estimators=400, min_samples_split=2, min_samples_leaf=1, max_features=log2, max_depth=227, criterion=None \n",
            "[CV]  n_estimators=400, min_samples_split=2, min_samples_leaf=1, max_features=log2, max_depth=227, criterion=None, total=   0.2s\n",
            "[CV] n_estimators=400, min_samples_split=2, min_samples_leaf=1, max_features=log2, max_depth=227, criterion=None \n"
          ],
          "name": "stdout"
        },
        {
          "output_type": "stream",
          "text": [
            "/usr/local/lib/python3.7/dist-packages/sklearn/model_selection/_validation.py:536: FitFailedWarning: Estimator fit failed. The score on this train-test partition for these parameters will be set to nan. Details: \n",
            "KeyError: 'None'\n",
            "\n",
            "  FitFailedWarning)\n"
          ],
          "name": "stderr"
        },
        {
          "output_type": "stream",
          "text": [
            "[CV]  n_estimators=400, min_samples_split=2, min_samples_leaf=1, max_features=log2, max_depth=227, criterion=None, total=   0.2s\n",
            "[CV] n_estimators=700, min_samples_split=10, min_samples_leaf=1, max_features=log2, max_depth=500, criterion=gini \n",
            "[CV]  n_estimators=700, min_samples_split=10, min_samples_leaf=1, max_features=log2, max_depth=500, criterion=gini, total=   1.3s\n",
            "[CV] n_estimators=700, min_samples_split=10, min_samples_leaf=1, max_features=log2, max_depth=500, criterion=gini \n",
            "[CV]  n_estimators=700, min_samples_split=10, min_samples_leaf=1, max_features=log2, max_depth=500, criterion=gini, total=   1.3s\n",
            "[CV] n_estimators=700, min_samples_split=10, min_samples_leaf=1, max_features=log2, max_depth=500, criterion=gini \n",
            "[CV]  n_estimators=700, min_samples_split=10, min_samples_leaf=1, max_features=log2, max_depth=500, criterion=gini, total=   1.3s\n",
            "[CV] n_estimators=400, min_samples_split=10, min_samples_leaf=1, max_features=log2, max_depth=64, criterion=gini \n",
            "[CV]  n_estimators=400, min_samples_split=10, min_samples_leaf=1, max_features=log2, max_depth=64, criterion=gini, total=   0.7s\n",
            "[CV] n_estimators=400, min_samples_split=10, min_samples_leaf=1, max_features=log2, max_depth=64, criterion=gini \n",
            "[CV]  n_estimators=400, min_samples_split=10, min_samples_leaf=1, max_features=log2, max_depth=64, criterion=gini, total=   0.7s\n",
            "[CV] n_estimators=400, min_samples_split=10, min_samples_leaf=1, max_features=log2, max_depth=64, criterion=gini \n",
            "[CV]  n_estimators=400, min_samples_split=10, min_samples_leaf=1, max_features=log2, max_depth=64, criterion=gini, total=   0.7s\n",
            "[CV] n_estimators=400, min_samples_split=5, min_samples_leaf=8, max_features=sqrt, max_depth=282, criterion=entropy \n",
            "[CV]  n_estimators=400, min_samples_split=5, min_samples_leaf=8, max_features=sqrt, max_depth=282, criterion=entropy, total=   0.7s\n",
            "[CV] n_estimators=400, min_samples_split=5, min_samples_leaf=8, max_features=sqrt, max_depth=282, criterion=entropy \n",
            "[CV]  n_estimators=400, min_samples_split=5, min_samples_leaf=8, max_features=sqrt, max_depth=282, criterion=entropy, total=   0.7s\n",
            "[CV] n_estimators=400, min_samples_split=5, min_samples_leaf=8, max_features=sqrt, max_depth=282, criterion=entropy \n",
            "[CV]  n_estimators=400, min_samples_split=5, min_samples_leaf=8, max_features=sqrt, max_depth=282, criterion=entropy, total=   0.7s\n",
            "[CV] n_estimators=800, min_samples_split=10, min_samples_leaf=8, max_features=auto, max_depth=173, criterion=gini \n",
            "[CV]  n_estimators=800, min_samples_split=10, min_samples_leaf=8, max_features=auto, max_depth=173, criterion=gini, total=   1.3s\n",
            "[CV] n_estimators=800, min_samples_split=10, min_samples_leaf=8, max_features=auto, max_depth=173, criterion=gini \n",
            "[CV]  n_estimators=800, min_samples_split=10, min_samples_leaf=8, max_features=auto, max_depth=173, criterion=gini, total=   1.3s\n",
            "[CV] n_estimators=800, min_samples_split=10, min_samples_leaf=8, max_features=auto, max_depth=173, criterion=gini \n",
            "[CV]  n_estimators=800, min_samples_split=10, min_samples_leaf=8, max_features=auto, max_depth=173, criterion=gini, total=   1.3s\n",
            "[CV] n_estimators=200, min_samples_split=2, min_samples_leaf=8, max_features=log2, max_depth=173, criterion=entropy \n",
            "[CV]  n_estimators=200, min_samples_split=2, min_samples_leaf=8, max_features=log2, max_depth=173, criterion=entropy, total=   0.4s\n",
            "[CV] n_estimators=200, min_samples_split=2, min_samples_leaf=8, max_features=log2, max_depth=173, criterion=entropy \n",
            "[CV]  n_estimators=200, min_samples_split=2, min_samples_leaf=8, max_features=log2, max_depth=173, criterion=entropy, total=   0.4s\n",
            "[CV] n_estimators=200, min_samples_split=2, min_samples_leaf=8, max_features=log2, max_depth=173, criterion=entropy \n",
            "[CV]  n_estimators=200, min_samples_split=2, min_samples_leaf=8, max_features=log2, max_depth=173, criterion=entropy, total=   0.4s\n",
            "[CV] n_estimators=600, min_samples_split=2, min_samples_leaf=4, max_features=auto, max_depth=445, criterion=gini \n",
            "[CV]  n_estimators=600, min_samples_split=2, min_samples_leaf=4, max_features=auto, max_depth=445, criterion=gini, total=   1.0s\n",
            "[CV] n_estimators=600, min_samples_split=2, min_samples_leaf=4, max_features=auto, max_depth=445, criterion=gini \n",
            "[CV]  n_estimators=600, min_samples_split=2, min_samples_leaf=4, max_features=auto, max_depth=445, criterion=gini, total=   1.0s\n",
            "[CV] n_estimators=600, min_samples_split=2, min_samples_leaf=4, max_features=auto, max_depth=445, criterion=gini \n",
            "[CV]  n_estimators=600, min_samples_split=2, min_samples_leaf=4, max_features=auto, max_depth=445, criterion=gini, total=   1.0s\n",
            "[CV] n_estimators=800, min_samples_split=2, min_samples_leaf=8, max_features=auto, max_depth=391, criterion=None \n"
          ],
          "name": "stdout"
        },
        {
          "output_type": "stream",
          "text": [
            "/usr/local/lib/python3.7/dist-packages/sklearn/model_selection/_validation.py:536: FitFailedWarning: Estimator fit failed. The score on this train-test partition for these parameters will be set to nan. Details: \n",
            "KeyError: 'None'\n",
            "\n",
            "  FitFailedWarning)\n"
          ],
          "name": "stderr"
        },
        {
          "output_type": "stream",
          "text": [
            "[CV]  n_estimators=800, min_samples_split=2, min_samples_leaf=8, max_features=auto, max_depth=391, criterion=None, total=   0.3s\n",
            "[CV] n_estimators=800, min_samples_split=2, min_samples_leaf=8, max_features=auto, max_depth=391, criterion=None \n"
          ],
          "name": "stdout"
        },
        {
          "output_type": "stream",
          "text": [
            "/usr/local/lib/python3.7/dist-packages/sklearn/model_selection/_validation.py:536: FitFailedWarning: Estimator fit failed. The score on this train-test partition for these parameters will be set to nan. Details: \n",
            "KeyError: 'None'\n",
            "\n",
            "  FitFailedWarning)\n"
          ],
          "name": "stderr"
        },
        {
          "output_type": "stream",
          "text": [
            "[CV]  n_estimators=800, min_samples_split=2, min_samples_leaf=8, max_features=auto, max_depth=391, criterion=None, total=   0.3s\n",
            "[CV] n_estimators=800, min_samples_split=2, min_samples_leaf=8, max_features=auto, max_depth=391, criterion=None \n"
          ],
          "name": "stdout"
        },
        {
          "output_type": "stream",
          "text": [
            "/usr/local/lib/python3.7/dist-packages/sklearn/model_selection/_validation.py:536: FitFailedWarning: Estimator fit failed. The score on this train-test partition for these parameters will be set to nan. Details: \n",
            "KeyError: 'None'\n",
            "\n",
            "  FitFailedWarning)\n"
          ],
          "name": "stderr"
        },
        {
          "output_type": "stream",
          "text": [
            "[CV]  n_estimators=800, min_samples_split=2, min_samples_leaf=8, max_features=auto, max_depth=391, criterion=None, total=   0.3s\n",
            "[CV] n_estimators=600, min_samples_split=10, min_samples_leaf=8, max_features=log2, max_depth=227, criterion=None \n"
          ],
          "name": "stdout"
        },
        {
          "output_type": "stream",
          "text": [
            "/usr/local/lib/python3.7/dist-packages/sklearn/model_selection/_validation.py:536: FitFailedWarning: Estimator fit failed. The score on this train-test partition for these parameters will be set to nan. Details: \n",
            "KeyError: 'None'\n",
            "\n",
            "  FitFailedWarning)\n"
          ],
          "name": "stderr"
        },
        {
          "output_type": "stream",
          "text": [
            "[CV]  n_estimators=600, min_samples_split=10, min_samples_leaf=8, max_features=log2, max_depth=227, criterion=None, total=   0.2s\n",
            "[CV] n_estimators=600, min_samples_split=10, min_samples_leaf=8, max_features=log2, max_depth=227, criterion=None \n"
          ],
          "name": "stdout"
        },
        {
          "output_type": "stream",
          "text": [
            "/usr/local/lib/python3.7/dist-packages/sklearn/model_selection/_validation.py:536: FitFailedWarning: Estimator fit failed. The score on this train-test partition for these parameters will be set to nan. Details: \n",
            "KeyError: 'None'\n",
            "\n",
            "  FitFailedWarning)\n"
          ],
          "name": "stderr"
        },
        {
          "output_type": "stream",
          "text": [
            "[CV]  n_estimators=600, min_samples_split=10, min_samples_leaf=8, max_features=log2, max_depth=227, criterion=None, total=   0.3s\n",
            "[CV] n_estimators=600, min_samples_split=10, min_samples_leaf=8, max_features=log2, max_depth=227, criterion=None \n"
          ],
          "name": "stdout"
        },
        {
          "output_type": "stream",
          "text": [
            "/usr/local/lib/python3.7/dist-packages/sklearn/model_selection/_validation.py:536: FitFailedWarning: Estimator fit failed. The score on this train-test partition for these parameters will be set to nan. Details: \n",
            "KeyError: 'None'\n",
            "\n",
            "  FitFailedWarning)\n"
          ],
          "name": "stderr"
        },
        {
          "output_type": "stream",
          "text": [
            "[CV]  n_estimators=600, min_samples_split=10, min_samples_leaf=8, max_features=log2, max_depth=227, criterion=None, total=   0.3s\n",
            "[CV] n_estimators=300, min_samples_split=5, min_samples_leaf=8, max_features=log2, max_depth=227, criterion=entropy \n",
            "[CV]  n_estimators=300, min_samples_split=5, min_samples_leaf=8, max_features=log2, max_depth=227, criterion=entropy, total=   0.6s\n",
            "[CV] n_estimators=300, min_samples_split=5, min_samples_leaf=8, max_features=log2, max_depth=227, criterion=entropy \n",
            "[CV]  n_estimators=300, min_samples_split=5, min_samples_leaf=8, max_features=log2, max_depth=227, criterion=entropy, total=   0.6s\n",
            "[CV] n_estimators=300, min_samples_split=5, min_samples_leaf=8, max_features=log2, max_depth=227, criterion=entropy \n",
            "[CV]  n_estimators=300, min_samples_split=5, min_samples_leaf=8, max_features=log2, max_depth=227, criterion=entropy, total=   0.6s\n",
            "[CV] n_estimators=1000, min_samples_split=14, min_samples_leaf=2, max_features=sqrt, max_depth=227, criterion=entropy \n",
            "[CV]  n_estimators=1000, min_samples_split=14, min_samples_leaf=2, max_features=sqrt, max_depth=227, criterion=entropy, total=   1.9s\n",
            "[CV] n_estimators=1000, min_samples_split=14, min_samples_leaf=2, max_features=sqrt, max_depth=227, criterion=entropy \n",
            "[CV]  n_estimators=1000, min_samples_split=14, min_samples_leaf=2, max_features=sqrt, max_depth=227, criterion=entropy, total=   1.9s\n",
            "[CV] n_estimators=1000, min_samples_split=14, min_samples_leaf=2, max_features=sqrt, max_depth=227, criterion=entropy \n",
            "[CV]  n_estimators=1000, min_samples_split=14, min_samples_leaf=2, max_features=sqrt, max_depth=227, criterion=entropy, total=   1.9s\n",
            "[CV] n_estimators=200, min_samples_split=5, min_samples_leaf=1, max_features=log2, max_depth=445, criterion=None \n",
            "[CV]  n_estimators=200, min_samples_split=5, min_samples_leaf=1, max_features=log2, max_depth=445, criterion=None, total=   0.1s\n",
            "[CV] n_estimators=200, min_samples_split=5, min_samples_leaf=1, max_features=log2, max_depth=445, criterion=None \n",
            "[CV]  n_estimators=200, min_samples_split=5, min_samples_leaf=1, max_features=log2, max_depth=445, criterion=None, total=   0.1s\n",
            "[CV] n_estimators=200, min_samples_split=5, min_samples_leaf=1, max_features=log2, max_depth=445, criterion=None \n"
          ],
          "name": "stdout"
        },
        {
          "output_type": "stream",
          "text": [
            "/usr/local/lib/python3.7/dist-packages/sklearn/model_selection/_validation.py:536: FitFailedWarning: Estimator fit failed. The score on this train-test partition for these parameters will be set to nan. Details: \n",
            "KeyError: 'None'\n",
            "\n",
            "  FitFailedWarning)\n",
            "/usr/local/lib/python3.7/dist-packages/sklearn/model_selection/_validation.py:536: FitFailedWarning: Estimator fit failed. The score on this train-test partition for these parameters will be set to nan. Details: \n",
            "KeyError: 'None'\n",
            "\n",
            "  FitFailedWarning)\n",
            "/usr/local/lib/python3.7/dist-packages/sklearn/model_selection/_validation.py:536: FitFailedWarning: Estimator fit failed. The score on this train-test partition for these parameters will be set to nan. Details: \n",
            "KeyError: 'None'\n",
            "\n",
            "  FitFailedWarning)\n"
          ],
          "name": "stderr"
        },
        {
          "output_type": "stream",
          "text": [
            "[CV]  n_estimators=200, min_samples_split=5, min_samples_leaf=1, max_features=log2, max_depth=445, criterion=None, total=   0.1s\n",
            "[CV] n_estimators=900, min_samples_split=10, min_samples_leaf=2, max_features=log2, max_depth=227, criterion=entropy \n",
            "[CV]  n_estimators=900, min_samples_split=10, min_samples_leaf=2, max_features=log2, max_depth=227, criterion=entropy, total=   1.9s\n",
            "[CV] n_estimators=900, min_samples_split=10, min_samples_leaf=2, max_features=log2, max_depth=227, criterion=entropy \n",
            "[CV]  n_estimators=900, min_samples_split=10, min_samples_leaf=2, max_features=log2, max_depth=227, criterion=entropy, total=   1.9s\n",
            "[CV] n_estimators=900, min_samples_split=10, min_samples_leaf=2, max_features=log2, max_depth=227, criterion=entropy \n",
            "[CV]  n_estimators=900, min_samples_split=10, min_samples_leaf=2, max_features=log2, max_depth=227, criterion=entropy, total=   1.9s\n",
            "[CV] n_estimators=100, min_samples_split=10, min_samples_leaf=6, max_features=log2, max_depth=173, criterion=gini \n",
            "[CV]  n_estimators=100, min_samples_split=10, min_samples_leaf=6, max_features=log2, max_depth=173, criterion=gini, total=   0.2s\n",
            "[CV] n_estimators=100, min_samples_split=10, min_samples_leaf=6, max_features=log2, max_depth=173, criterion=gini \n",
            "[CV]  n_estimators=100, min_samples_split=10, min_samples_leaf=6, max_features=log2, max_depth=173, criterion=gini, total=   0.2s\n",
            "[CV] n_estimators=100, min_samples_split=10, min_samples_leaf=6, max_features=log2, max_depth=173, criterion=gini \n",
            "[CV]  n_estimators=100, min_samples_split=10, min_samples_leaf=6, max_features=log2, max_depth=173, criterion=gini, total=   0.2s\n",
            "[CV] n_estimators=1000, min_samples_split=10, min_samples_leaf=6, max_features=auto, max_depth=500, criterion=entropy \n",
            "[CV]  n_estimators=1000, min_samples_split=10, min_samples_leaf=6, max_features=auto, max_depth=500, criterion=entropy, total=   1.8s\n",
            "[CV] n_estimators=1000, min_samples_split=10, min_samples_leaf=6, max_features=auto, max_depth=500, criterion=entropy \n",
            "[CV]  n_estimators=1000, min_samples_split=10, min_samples_leaf=6, max_features=auto, max_depth=500, criterion=entropy, total=   1.8s\n",
            "[CV] n_estimators=1000, min_samples_split=10, min_samples_leaf=6, max_features=auto, max_depth=500, criterion=entropy \n",
            "[CV]  n_estimators=1000, min_samples_split=10, min_samples_leaf=6, max_features=auto, max_depth=500, criterion=entropy, total=   1.8s\n",
            "[CV] n_estimators=900, min_samples_split=5, min_samples_leaf=8, max_features=auto, max_depth=173, criterion=gini \n",
            "[CV]  n_estimators=900, min_samples_split=5, min_samples_leaf=8, max_features=auto, max_depth=173, criterion=gini, total=   1.5s\n",
            "[CV] n_estimators=900, min_samples_split=5, min_samples_leaf=8, max_features=auto, max_depth=173, criterion=gini \n",
            "[CV]  n_estimators=900, min_samples_split=5, min_samples_leaf=8, max_features=auto, max_depth=173, criterion=gini, total=   1.4s\n",
            "[CV] n_estimators=900, min_samples_split=5, min_samples_leaf=8, max_features=auto, max_depth=173, criterion=gini \n",
            "[CV]  n_estimators=900, min_samples_split=5, min_samples_leaf=8, max_features=auto, max_depth=173, criterion=gini, total=   1.5s\n",
            "[CV] n_estimators=900, min_samples_split=2, min_samples_leaf=1, max_features=log2, max_depth=173, criterion=entropy \n",
            "[CV]  n_estimators=900, min_samples_split=2, min_samples_leaf=1, max_features=log2, max_depth=173, criterion=entropy, total=   1.9s\n",
            "[CV] n_estimators=900, min_samples_split=2, min_samples_leaf=1, max_features=log2, max_depth=173, criterion=entropy \n",
            "[CV]  n_estimators=900, min_samples_split=2, min_samples_leaf=1, max_features=log2, max_depth=173, criterion=entropy, total=   2.0s\n",
            "[CV] n_estimators=900, min_samples_split=2, min_samples_leaf=1, max_features=log2, max_depth=173, criterion=entropy \n",
            "[CV]  n_estimators=900, min_samples_split=2, min_samples_leaf=1, max_features=log2, max_depth=173, criterion=entropy, total=   2.0s\n",
            "[CV] n_estimators=700, min_samples_split=2, min_samples_leaf=1, max_features=sqrt, max_depth=173, criterion=entropy \n",
            "[CV]  n_estimators=700, min_samples_split=2, min_samples_leaf=1, max_features=sqrt, max_depth=173, criterion=entropy, total=   1.4s\n",
            "[CV] n_estimators=700, min_samples_split=2, min_samples_leaf=1, max_features=sqrt, max_depth=173, criterion=entropy \n",
            "[CV]  n_estimators=700, min_samples_split=2, min_samples_leaf=1, max_features=sqrt, max_depth=173, criterion=entropy, total=   1.5s\n",
            "[CV] n_estimators=700, min_samples_split=2, min_samples_leaf=1, max_features=sqrt, max_depth=173, criterion=entropy \n",
            "[CV]  n_estimators=700, min_samples_split=2, min_samples_leaf=1, max_features=sqrt, max_depth=173, criterion=entropy, total=   1.4s\n",
            "[CV] n_estimators=800, min_samples_split=5, min_samples_leaf=6, max_features=sqrt, max_depth=10, criterion=entropy \n",
            "[CV]  n_estimators=800, min_samples_split=5, min_samples_leaf=6, max_features=sqrt, max_depth=10, criterion=entropy, total=   1.4s\n",
            "[CV] n_estimators=800, min_samples_split=5, min_samples_leaf=6, max_features=sqrt, max_depth=10, criterion=entropy \n",
            "[CV]  n_estimators=800, min_samples_split=5, min_samples_leaf=6, max_features=sqrt, max_depth=10, criterion=entropy, total=   1.4s\n",
            "[CV] n_estimators=800, min_samples_split=5, min_samples_leaf=6, max_features=sqrt, max_depth=10, criterion=entropy \n",
            "[CV]  n_estimators=800, min_samples_split=5, min_samples_leaf=6, max_features=sqrt, max_depth=10, criterion=entropy, total=   1.4s\n"
          ],
          "name": "stdout"
        },
        {
          "output_type": "stream",
          "text": [
            "[Parallel(n_jobs=1)]: Done 300 out of 300 | elapsed:  4.4min finished\n"
          ],
          "name": "stderr"
        },
        {
          "output_type": "execute_result",
          "data": {
            "text/plain": [
              "RandomizedSearchCV(cv=3, error_score=nan,\n",
              "                   estimator=RandomForestClassifier(bootstrap=True,\n",
              "                                                    ccp_alpha=0.0,\n",
              "                                                    class_weight=None,\n",
              "                                                    criterion='gini',\n",
              "                                                    max_depth=10,\n",
              "                                                    max_features='auto',\n",
              "                                                    max_leaf_nodes=None,\n",
              "                                                    max_samples=None,\n",
              "                                                    min_impurity_decrease=0.0,\n",
              "                                                    min_impurity_split=None,\n",
              "                                                    min_samples_leaf=2,\n",
              "                                                    min_samples_split=3,\n",
              "                                                    min_weight_fraction_leaf=0.0,\n",
              "                                                    n_estimators=100,\n",
              "                                                    n_jobs=N...\n",
              "                   param_distributions={'criterion': ['gini', 'entropy',\n",
              "                                                      'None'],\n",
              "                                        'max_depth': [10, 64, 118, 173, 227,\n",
              "                                                      282, 336, 391, 445, 500],\n",
              "                                        'max_features': ['auto', 'sqrt',\n",
              "                                                         'log2'],\n",
              "                                        'min_samples_leaf': [1, 2, 4, 6, 8],\n",
              "                                        'min_samples_split': [2, 5, 10, 14],\n",
              "                                        'n_estimators': [100, 200, 300, 400,\n",
              "                                                         500, 600, 700, 800,\n",
              "                                                         900, 1000]},\n",
              "                   pre_dispatch='2*n_jobs', random_state=None, refit=True,\n",
              "                   return_train_score=False, scoring=None, verbose=2)"
            ]
          },
          "metadata": {
            "tags": []
          },
          "execution_count": 44
        }
      ]
    },
    {
      "cell_type": "code",
      "metadata": {
        "colab": {
          "base_uri": "https://localhost:8080/"
        },
        "id": "T7xPCgcv1GKf",
        "outputId": "c1d52b79-0f28-4f50-d110-d775eed3abb1"
      },
      "source": [
        "rdomsearch.best_estimator_"
      ],
      "execution_count": 45,
      "outputs": [
        {
          "output_type": "execute_result",
          "data": {
            "text/plain": [
              "RandomForestClassifier(bootstrap=True, ccp_alpha=0.0, class_weight=None,\n",
              "                       criterion='entropy', max_depth=173, max_features='log2',\n",
              "                       max_leaf_nodes=None, max_samples=None,\n",
              "                       min_impurity_decrease=0.0, min_impurity_split=None,\n",
              "                       min_samples_leaf=1, min_samples_split=2,\n",
              "                       min_weight_fraction_leaf=0.0, n_estimators=900,\n",
              "                       n_jobs=None, oob_score=False, random_state=None,\n",
              "                       verbose=0, warm_start=False)"
            ]
          },
          "metadata": {
            "tags": []
          },
          "execution_count": 45
        }
      ]
    },
    {
      "cell_type": "code",
      "metadata": {
        "colab": {
          "base_uri": "https://localhost:8080/"
        },
        "id": "HkiIV6Iw2cML",
        "outputId": "339c7923-0653-40bf-a303-5919882d3ba7"
      },
      "source": [
        "rdomsearch.best_params_"
      ],
      "execution_count": 46,
      "outputs": [
        {
          "output_type": "execute_result",
          "data": {
            "text/plain": [
              "{'criterion': 'entropy',\n",
              " 'max_depth': 173,\n",
              " 'max_features': 'log2',\n",
              " 'min_samples_leaf': 1,\n",
              " 'min_samples_split': 2,\n",
              " 'n_estimators': 900}"
            ]
          },
          "metadata": {
            "tags": []
          },
          "execution_count": 46
        }
      ]
    },
    {
      "cell_type": "code",
      "metadata": {
        "id": "9x5MPe__2pce"
      },
      "source": [
        "best_random_grid=rdomsearch.best_estimator_"
      ],
      "execution_count": 48,
      "outputs": []
    },
    {
      "cell_type": "code",
      "metadata": {
        "colab": {
          "base_uri": "https://localhost:8080/"
        },
        "id": "ZTpO5_Wg3fTL",
        "outputId": "eb5b11f9-7978-4ddb-9a7a-204f82fad4e6"
      },
      "source": [
        "best_random_grid"
      ],
      "execution_count": 50,
      "outputs": [
        {
          "output_type": "execute_result",
          "data": {
            "text/plain": [
              "RandomForestClassifier(bootstrap=True, ccp_alpha=0.0, class_weight=None,\n",
              "                       criterion='entropy', max_depth=173, max_features='log2',\n",
              "                       max_leaf_nodes=None, max_samples=None,\n",
              "                       min_impurity_decrease=0.0, min_impurity_split=None,\n",
              "                       min_samples_leaf=1, min_samples_split=2,\n",
              "                       min_weight_fraction_leaf=0.0, n_estimators=900,\n",
              "                       n_jobs=None, oob_score=False, random_state=None,\n",
              "                       verbose=0, warm_start=False)"
            ]
          },
          "metadata": {
            "tags": []
          },
          "execution_count": 50
        }
      ]
    },
    {
      "cell_type": "code",
      "metadata": {
        "colab": {
          "base_uri": "https://localhost:8080/"
        },
        "id": "gGqpOF1i28JO",
        "outputId": "c151738e-508e-4ba3-932e-42ce0d555d7a"
      },
      "source": [
        "y_test=best_random_grid.predict(X_test)\n",
        "print(confusion_matrix(y_test,predictions))\n",
        "print(accuracy_score(y_test,predictions))\n",
        "print(classification_report(y_test,predictions))"
      ],
      "execution_count": 51,
      "outputs": [
        {
          "output_type": "stream",
          "text": [
            "[[102   3]\n",
            " [ 12  37]]\n",
            "0.9025974025974026\n",
            "              precision    recall  f1-score   support\n",
            "\n",
            "           0       0.89      0.97      0.93       105\n",
            "           1       0.93      0.76      0.83        49\n",
            "\n",
            "    accuracy                           0.90       154\n",
            "   macro avg       0.91      0.86      0.88       154\n",
            "weighted avg       0.90      0.90      0.90       154\n",
            "\n"
          ],
          "name": "stdout"
        }
      ]
    },
    {
      "cell_type": "code",
      "metadata": {
        "colab": {
          "base_uri": "https://localhost:8080/",
          "height": 77
        },
        "id": "rCskPjAD3aq7",
        "outputId": "9ada743f-988d-441e-a42f-39697a97a5fc"
      },
      "source": [
        "a=X_train.iloc[:1,:]\n"
      ],
      "execution_count": 56,
      "outputs": [
        {
          "output_type": "execute_result",
          "data": {
            "text/html": [
              "<div>\n",
              "<style scoped>\n",
              "    .dataframe tbody tr th:only-of-type {\n",
              "        vertical-align: middle;\n",
              "    }\n",
              "\n",
              "    .dataframe tbody tr th {\n",
              "        vertical-align: top;\n",
              "    }\n",
              "\n",
              "    .dataframe thead th {\n",
              "        text-align: right;\n",
              "    }\n",
              "</style>\n",
              "<table border=\"1\" class=\"dataframe\">\n",
              "  <thead>\n",
              "    <tr style=\"text-align: right;\">\n",
              "      <th></th>\n",
              "      <th>Pregnancies</th>\n",
              "      <th>Glucose</th>\n",
              "      <th>BloodPressure</th>\n",
              "      <th>SkinThickness</th>\n",
              "      <th>Insulin</th>\n",
              "      <th>BMI</th>\n",
              "      <th>DiabetesPedigreeFunction</th>\n",
              "      <th>Age</th>\n",
              "    </tr>\n",
              "  </thead>\n",
              "  <tbody>\n",
              "    <tr>\n",
              "      <th>602</th>\n",
              "      <td>1</td>\n",
              "      <td>124.0</td>\n",
              "      <td>74</td>\n",
              "      <td>36.0</td>\n",
              "      <td>30.5</td>\n",
              "      <td>27.8</td>\n",
              "      <td>0.1</td>\n",
              "      <td>30</td>\n",
              "    </tr>\n",
              "  </tbody>\n",
              "</table>\n",
              "</div>"
            ],
            "text/plain": [
              "     Pregnancies  Glucose  BloodPressure  ...   BMI  DiabetesPedigreeFunction  Age\n",
              "602            1    124.0             74  ...  27.8                       0.1   30\n",
              "\n",
              "[1 rows x 8 columns]"
            ]
          },
          "metadata": {
            "tags": []
          },
          "execution_count": 56
        }
      ]
    },
    {
      "cell_type": "code",
      "metadata": {
        "colab": {
          "base_uri": "https://localhost:8080/"
        },
        "id": "Y-xXhes24kZc",
        "outputId": "6a61ae3b-8d62-4a09-c1f0-646028636de3"
      },
      "source": [
        "y_train.iloc[:1]"
      ],
      "execution_count": 58,
      "outputs": [
        {
          "output_type": "execute_result",
          "data": {
            "text/plain": [
              "602    0\n",
              "Name: Outcome, dtype: int64"
            ]
          },
          "metadata": {
            "tags": []
          },
          "execution_count": 58
        }
      ]
    },
    {
      "cell_type": "code",
      "metadata": {
        "id": "9JeNJbj3499K"
      },
      "source": [
        "y=best_random_grid.predict([[1,124.0,74,36.0,30.5,27.8,0.1,30]])"
      ],
      "execution_count": 63,
      "outputs": []
    },
    {
      "cell_type": "code",
      "metadata": {
        "colab": {
          "base_uri": "https://localhost:8080/"
        },
        "id": "n_HuoVDP5U8r",
        "outputId": "97dac931-52e0-4f41-d2a8-daea8754f28d"
      },
      "source": [
        "int(y)"
      ],
      "execution_count": 64,
      "outputs": [
        {
          "output_type": "execute_result",
          "data": {
            "text/plain": [
              "0"
            ]
          },
          "metadata": {
            "tags": []
          },
          "execution_count": 64
        }
      ]
    },
    {
      "cell_type": "markdown",
      "metadata": {
        "id": "TnorO3Jq6oqf"
      },
      "source": [
        "##GrideSearch CV"
      ]
    },
    {
      "cell_type": "code",
      "metadata": {
        "id": "bJZJ3FcE5Z6t"
      },
      "source": [
        "#use best parameters from RandomSeach CV"
      ],
      "execution_count": 65,
      "outputs": []
    },
    {
      "cell_type": "code",
      "metadata": {
        "colab": {
          "base_uri": "https://localhost:8080/"
        },
        "id": "yNGT7MWi61rw",
        "outputId": "77d1c163-3530-4634-afdb-f0e6b8ac1a45"
      },
      "source": [
        "best_random_grid.get_params"
      ],
      "execution_count": 67,
      "outputs": [
        {
          "output_type": "execute_result",
          "data": {
            "text/plain": [
              "<bound method BaseEstimator.get_params of RandomForestClassifier(bootstrap=True, ccp_alpha=0.0, class_weight=None,\n",
              "                       criterion='entropy', max_depth=173, max_features='log2',\n",
              "                       max_leaf_nodes=None, max_samples=None,\n",
              "                       min_impurity_decrease=0.0, min_impurity_split=None,\n",
              "                       min_samples_leaf=1, min_samples_split=2,\n",
              "                       min_weight_fraction_leaf=0.0, n_estimators=900,\n",
              "                       n_jobs=None, oob_score=False, random_state=None,\n",
              "                       verbose=0, warm_start=False)>"
            ]
          },
          "metadata": {
            "tags": []
          },
          "execution_count": 67
        }
      ]
    },
    {
      "cell_type": "code",
      "metadata": {
        "colab": {
          "base_uri": "https://localhost:8080/"
        },
        "id": "dgoFOMGc65WS",
        "outputId": "ae1ea9dc-581d-477c-d3a2-d69ceaa1d555"
      },
      "source": [
        "rdomsearch.best_params_"
      ],
      "execution_count": 68,
      "outputs": [
        {
          "output_type": "execute_result",
          "data": {
            "text/plain": [
              "{'criterion': 'entropy',\n",
              " 'max_depth': 173,\n",
              " 'max_features': 'log2',\n",
              " 'min_samples_leaf': 1,\n",
              " 'min_samples_split': 2,\n",
              " 'n_estimators': 900}"
            ]
          },
          "metadata": {
            "tags": []
          },
          "execution_count": 68
        }
      ]
    },
    {
      "cell_type": "code",
      "metadata": {
        "id": "daL309X87EJa"
      },
      "source": [
        "#Gride search CV\n",
        "from sklearn.model_selection import GridSearchCV"
      ],
      "execution_count": 69,
      "outputs": []
    },
    {
      "cell_type": "code",
      "metadata": {
        "colab": {
          "base_uri": "https://localhost:8080/"
        },
        "id": "U2fklL2A7lR0",
        "outputId": "f1e5b72f-4300-4b19-eaea-e6bf781c3223"
      },
      "source": [
        "parameter={\n",
        "    'criterion':[rdomsearch.best_params_['criterion']],\n",
        "    'max_depth': [rdomsearch.best_params_['max_depth']],\n",
        "    'max_features': [rdomsearch.best_params_['max_features']],\n",
        "    'min_samples_leaf': [rdomsearch.best_params_['min_samples_leaf'], \n",
        "                         rdomsearch.best_params_['min_samples_leaf']+2, \n",
        "                         rdomsearch.best_params_['min_samples_leaf'] + 4],\n",
        "    'min_samples_split': [rdomsearch.best_params_['min_samples_split'] - 2,\n",
        "                          rdomsearch.best_params_['min_samples_split'] - 1,\n",
        "                          rdomsearch.best_params_['min_samples_split'], \n",
        "                          rdomsearch.best_params_['min_samples_split'] +1,\n",
        "                          rdomsearch.best_params_['min_samples_split'] + 2],\n",
        "    'n_estimators': [rdomsearch.best_params_['n_estimators'] - 200, rdomsearch.best_params_['n_estimators'] - 100, \n",
        "                     rdomsearch.best_params_['n_estimators'], \n",
        "                     rdomsearch.best_params_['n_estimators'] + 100, rdomsearch.best_params_['n_estimators'] + 200]\n",
        "\n",
        "}\n",
        "print(parameter)"
      ],
      "execution_count": 71,
      "outputs": [
        {
          "output_type": "stream",
          "text": [
            "{'criterion': ['entropy'], 'max_depth': [173], 'max_features': ['log2'], 'min_samples_leaf': [1, 3, 5], 'min_samples_split': [0, 1, 2, 3, 4], 'n_estimators': [700, 800, 900, 1000, 1100]}\n"
          ],
          "name": "stdout"
        }
      ]
    },
    {
      "cell_type": "code",
      "metadata": {
        "id": "n7FwVpuw7dRI"
      },
      "source": [
        "gs=GridSearchCV(rf,parameter,n_jobs=-1,cv=3)"
      ],
      "execution_count": 72,
      "outputs": []
    },
    {
      "cell_type": "code",
      "metadata": {
        "colab": {
          "base_uri": "https://localhost:8080/"
        },
        "id": "z_h4qj5q8ob5",
        "outputId": "a048eefd-6566-4382-cda8-367a6cc6b7f7"
      },
      "source": [
        "gs.fit(X_train,y_train)"
      ],
      "execution_count": 73,
      "outputs": [
        {
          "output_type": "execute_result",
          "data": {
            "text/plain": [
              "GridSearchCV(cv=3, error_score=nan,\n",
              "             estimator=RandomForestClassifier(bootstrap=True, ccp_alpha=0.0,\n",
              "                                              class_weight=None,\n",
              "                                              criterion='gini', max_depth=10,\n",
              "                                              max_features='auto',\n",
              "                                              max_leaf_nodes=None,\n",
              "                                              max_samples=None,\n",
              "                                              min_impurity_decrease=0.0,\n",
              "                                              min_impurity_split=None,\n",
              "                                              min_samples_leaf=2,\n",
              "                                              min_samples_split=3,\n",
              "                                              min_weight_fraction_leaf=0.0,\n",
              "                                              n_estimators=100, n_jobs=None,\n",
              "                                              oob_score=False,\n",
              "                                              random_state=None, verbose=0,\n",
              "                                              warm_start=False),\n",
              "             iid='deprecated', n_jobs=-1,\n",
              "             param_grid={'criterion': ['entropy'], 'max_depth': [173],\n",
              "                         'max_features': ['log2'],\n",
              "                         'min_samples_leaf': [1, 3, 5],\n",
              "                         'min_samples_split': [0, 1, 2, 3, 4],\n",
              "                         'n_estimators': [700, 800, 900, 1000, 1100]},\n",
              "             pre_dispatch='2*n_jobs', refit=True, return_train_score=False,\n",
              "             scoring=None, verbose=0)"
            ]
          },
          "metadata": {
            "tags": []
          },
          "execution_count": 73
        }
      ]
    },
    {
      "cell_type": "code",
      "metadata": {
        "colab": {
          "base_uri": "https://localhost:8080/"
        },
        "id": "TNLoCIxm8sxx",
        "outputId": "48d9724a-a1c3-4cfa-86f4-340cafda3142"
      },
      "source": [
        "gs.best_estimator_"
      ],
      "execution_count": 74,
      "outputs": [
        {
          "output_type": "execute_result",
          "data": {
            "text/plain": [
              "RandomForestClassifier(bootstrap=True, ccp_alpha=0.0, class_weight=None,\n",
              "                       criterion='entropy', max_depth=173, max_features='log2',\n",
              "                       max_leaf_nodes=None, max_samples=None,\n",
              "                       min_impurity_decrease=0.0, min_impurity_split=None,\n",
              "                       min_samples_leaf=1, min_samples_split=3,\n",
              "                       min_weight_fraction_leaf=0.0, n_estimators=700,\n",
              "                       n_jobs=None, oob_score=False, random_state=None,\n",
              "                       verbose=0, warm_start=False)"
            ]
          },
          "metadata": {
            "tags": []
          },
          "execution_count": 74
        }
      ]
    },
    {
      "cell_type": "code",
      "metadata": {
        "colab": {
          "base_uri": "https://localhost:8080/"
        },
        "id": "jB6qcSD19zLR",
        "outputId": "7d43c680-0598-472c-b0af-e764674aeec3"
      },
      "source": [
        "gs.best_params_"
      ],
      "execution_count": 75,
      "outputs": [
        {
          "output_type": "execute_result",
          "data": {
            "text/plain": [
              "{'criterion': 'entropy',\n",
              " 'max_depth': 173,\n",
              " 'max_features': 'log2',\n",
              " 'min_samples_leaf': 1,\n",
              " 'min_samples_split': 3,\n",
              " 'n_estimators': 700}"
            ]
          },
          "metadata": {
            "tags": []
          },
          "execution_count": 75
        }
      ]
    },
    {
      "cell_type": "code",
      "metadata": {
        "colab": {
          "base_uri": "https://localhost:8080/"
        },
        "id": "AjTXyVLR92cS",
        "outputId": "35c61020-89e7-4237-f0eb-e0a0dc5b9c32"
      },
      "source": [
        "y_pred=gs.best_estimator_.predict(X_test)\n",
        "print(confusion_matrix(y_test,y_pred))\n",
        "print(accuracy_score(y_test,predictions))\n",
        "print(classification_report(y_test,predictions))"
      ],
      "execution_count": 77,
      "outputs": [
        {
          "output_type": "stream",
          "text": [
            "[[103   2]\n",
            " [  2  47]]\n",
            "0.9025974025974026\n",
            "              precision    recall  f1-score   support\n",
            "\n",
            "           0       0.89      0.97      0.93       105\n",
            "           1       0.93      0.76      0.83        49\n",
            "\n",
            "    accuracy                           0.90       154\n",
            "   macro avg       0.91      0.86      0.88       154\n",
            "weighted avg       0.90      0.90      0.90       154\n",
            "\n"
          ],
          "name": "stdout"
        }
      ]
    },
    {
      "cell_type": "code",
      "metadata": {
        "id": "8RHNSkns-EXg"
      },
      "source": [
        ""
      ],
      "execution_count": null,
      "outputs": []
    }
  ]
}